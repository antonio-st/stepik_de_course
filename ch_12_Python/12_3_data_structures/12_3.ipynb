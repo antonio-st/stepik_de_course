{
 "cells": [
  {
   "cell_type": "code",
   "execution_count": 10,
   "metadata": {
    "collapsed": true
   },
   "outputs": [
    {
     "data": {
      "text/plain": "(1, 10, 12, 15)"
     },
     "execution_count": 10,
     "metadata": {},
     "output_type": "execute_result"
    }
   ],
   "source": [
    "# кортежи\n",
    "tuple1 = (1, 2, 3)\n",
    "new_tuple = tuple1[: 1] + (10, 12, 15)\n",
    "new_tuple"
   ]
  },
  {
   "cell_type": "code",
   "execution_count": 25,
   "outputs": [],
   "source": [
    "# Замороженные множества\n",
    "f_set = frozenset([1, 3, 5])\n",
    "f_set + frozenset([8])\n",
    "# TypeError: unsupported operand type(s) for +: 'frozenset' and 'frozenset'"
   ],
   "metadata": {
    "collapsed": false
   }
  },
  {
   "cell_type": "code",
   "execution_count": 30,
   "outputs": [
    {
     "data": {
      "text/plain": "{1: 'banana', 2: 'qivi', 3: 'orange', 4: 'melon'}"
     },
     "execution_count": 30,
     "metadata": {},
     "output_type": "execute_result"
    }
   ],
   "source": [
    "# словари\n",
    "\n",
    "fruit_dict = {1: \"banana\", 2: \"qivi\", 3: \"orange\"}\n",
    "\n",
    "fruit_dict[1] # banana\n",
    "fruit_dict[4] = \"melon\"\n",
    "fruit_dict # {1: 'banana', 2: 'qivi', 3: 'orange', 4: 'melon'}"
   ],
   "metadata": {
    "collapsed": false
   }
  },
  {
   "cell_type": "code",
   "execution_count": 44,
   "outputs": [
    {
     "data": {
      "text/plain": "{5, 6, 7, 8}"
     },
     "execution_count": 44,
     "metadata": {},
     "output_type": "execute_result"
    }
   ],
   "source": [
    "# множества\n",
    "my_set = {5, 6, 7}\n",
    "my_set.add(8)\n",
    "my_set # {5, 6, 7, 8}"
   ],
   "metadata": {
    "collapsed": false
   }
  },
  {
   "cell_type": "code",
   "execution_count": 50,
   "outputs": [
    {
     "data": {
      "text/plain": "[1, [99, 3]]"
     },
     "execution_count": 50,
     "metadata": {},
     "output_type": "execute_result"
    }
   ],
   "source": [
    "# Поверхностное копирование\n",
    "# Создает новый объект, но вложенные изменяемые объекты не копируются. Они остаются общими между оригиналом и копией\n",
    "import copy\n",
    "lst_original = [1, [2, 3]]\n",
    "lst_copy = copy.copy(lst_original)\n",
    "lst_copy[1][0] = 99\n",
    "lst_original # [1, [99, 3]]"
   ],
   "metadata": {
    "collapsed": false
   }
  },
  {
   "cell_type": "code",
   "execution_count": 52,
   "outputs": [
    {
     "data": {
      "text/plain": "[1, [99, 3]]"
     },
     "execution_count": 52,
     "metadata": {},
     "output_type": "execute_result"
    }
   ],
   "source": [
    "# Глубокое копирование (deep copy)\n",
    "# Создает новый объект и рекурсивно копирует все вложенные изменяемые объекты.\n",
    "\n",
    "import copy\n",
    "lst_original = [1, [2, 3]]\n",
    "lst_copy = copy.deepcopy(lst_original)\n",
    "lst_copy[1][0] = 99\n",
    "lst_original # [1, [2, 3]]\n",
    "lst_copy # [1, [99, 3]]"
   ],
   "metadata": {
    "collapsed": false
   }
  },
  {
   "cell_type": "code",
   "execution_count": 61,
   "outputs": [
    {
     "name": "stdout",
     "output_type": "stream",
     "text": [
      "Hello\n"
     ]
    }
   ],
   "source": [
    "def change_string(s):\n",
    "    return s + \" world !\"\n",
    "\n",
    "string = \"Hello\"\n",
    "change_string(string) # 'Hello world !'\n",
    "print(string)"
   ],
   "metadata": {
    "collapsed": false
   }
  },
  {
   "cell_type": "code",
   "execution_count": 79,
   "outputs": [
    {
     "data": {
      "text/plain": "13"
     },
     "execution_count": 79,
     "metadata": {},
     "output_type": "execute_result"
    }
   ],
   "source": [
    "# Методы строк\n",
    "\n",
    "s = \"Hello, world!\"\n",
    "s[::-1] # '!dlrow ,olleH'\n",
    "s[::-2] # '!lo olH'\n",
    "s[::-1] #\n",
    "\n",
    "# find\n",
    "s.find(\"o\") # 4\n",
    "\n",
    "# replace\n",
    "\n",
    "s.replace(\"world\", \"Python\") # 'Hello, Python!'\n",
    "\n",
    "len(s) # 13\n"
   ],
   "metadata": {
    "collapsed": false
   }
  },
  {
   "cell_type": "code",
   "execution_count": 90,
   "outputs": [
    {
     "name": "stdout",
     "output_type": "stream",
     "text": [
      "[0, 2, 4, 6, 8, 10, 12, 14, 16, 18, 20, 22, 24, 26, 28, 30, 32, 34, 36, 38, 40, 42, 44, 46, 48]\n"
     ]
    },
    {
     "data": {
      "text/plain": "['apple', 'banana', 'cherry']"
     },
     "execution_count": 90,
     "metadata": {},
     "output_type": "execute_result"
    }
   ],
   "source": [
    "# Использование генераторов списков (List Comprehensions)\n",
    "\n",
    "# Список квадратов чисел от 0 до 9\n",
    "squares = [i**2 for i in range(1, 11)]\n",
    "squares\n",
    "\n",
    "# Список четных чисел\n",
    "even = [i for i in range(50) if i % 2 == 0]\n",
    "print(even)\n",
    "\n",
    "# список из строки\n",
    "\n",
    "fruit = \"apple, banana, cherry\"\n",
    "list_from_str = fruit.split(\", \")\n",
    "list_from_str"
   ],
   "metadata": {
    "collapsed": false
   }
  },
  {
   "cell_type": "code",
   "execution_count": 6,
   "outputs": [
    {
     "data": {
      "text/plain": "[1, 2, 3, 4, 5, 6]"
     },
     "execution_count": 6,
     "metadata": {},
     "output_type": "execute_result"
    }
   ],
   "source": [
    "# Методы списков\n",
    "my_list1 = [1, 2, 3]\n",
    "my_list1.append(4) # добавляем в конец списка\n",
    "my_list1\n",
    "\n",
    "# .extend() расширяет список\n",
    "my_list2 = [5, 6]\n",
    "my_list1.extend(my_list2)\n",
    "my_list1"
   ],
   "metadata": {
    "collapsed": false
   }
  },
  {
   "cell_type": "code",
   "execution_count": 10,
   "outputs": [
    {
     "name": "stdout",
     "output_type": "stream",
     "text": [
      "[5, 10, 10, 10, 10, 6]\n",
      "[1, 3, 4, 5]\n"
     ]
    }
   ],
   "source": [
    "# .insert() вставляет элемент в список по указанному индексу\n",
    "\n",
    "my_list2.insert(1, 10) # Принимает два параметра — индекс, куда нужно вставить элемент, и сам элемент\n",
    "print(my_list2)\n",
    "\n",
    "# .remove() удаляет первый элемент в списке, который равен переданному значению.\n",
    "my_list1.remove(2)\n",
    "# print(my_list1)\n",
    "\n",
    "# .pop() удаляет и возвращает элемент по указанному индексу. Если индекс не указан, удаляет и возвращает последний элемент.\n",
    "my_list1.pop()\n",
    "print(my_list1)\n",
    "\n",
    "# Метод .clear() удаляет все элементы из списка."
   ],
   "metadata": {
    "collapsed": false
   }
  },
  {
   "cell_type": "code",
   "execution_count": 16,
   "outputs": [
    {
     "data": {
      "text/plain": "2"
     },
     "execution_count": 16,
     "metadata": {},
     "output_type": "execute_result"
    }
   ],
   "source": [
    "# Метод .index() возвращает индекс первого элемента, равного переданному значению.\n",
    "my_list1.index(4) # [1, 3, 4, 5]"
   ],
   "metadata": {
    "collapsed": false
   }
  },
  {
   "cell_type": "code",
   "execution_count": 25,
   "outputs": [
    {
     "data": {
      "text/plain": "2"
     },
     "execution_count": 25,
     "metadata": {},
     "output_type": "execute_result"
    }
   ],
   "source": [
    "# Метод .index() возвращает индекс первого элемента, равного переданному значению.\n",
    "my_list3 = [2, 3, 2, 5, 1, 4]\n",
    "my_list3.count(2)"
   ],
   "metadata": {
    "collapsed": false
   }
  },
  {
   "cell_type": "code",
   "execution_count": 28,
   "outputs": [
    {
     "data": {
      "text/plain": "[1, 2, 2, 3, 4, 5]"
     },
     "execution_count": 28,
     "metadata": {},
     "output_type": "execute_result"
    }
   ],
   "source": [
    "# Метод .sort() сортирует элементы списка на месте в порядке возрастания по умолчанию.\n",
    "# Принимает два необязательных параметра:\n",
    "# 1) key — функция, определяющая порядок сортировки (например, key=len).\n",
    "# 2) reverse — если True, сортирует в порядке убывания.\n",
    "my_list3.sort()\n",
    "my_list3"
   ],
   "metadata": {
    "collapsed": false
   }
  },
  {
   "cell_type": "code",
   "execution_count": 29,
   "outputs": [
    {
     "data": {
      "text/plain": "[5, 4, 3, 2, 2, 1]"
     },
     "execution_count": 29,
     "metadata": {},
     "output_type": "execute_result"
    }
   ],
   "source": [
    "my_list3.sort(reverse=True)\n",
    "my_list3"
   ],
   "metadata": {
    "collapsed": false
   }
  },
  {
   "cell_type": "code",
   "execution_count": 30,
   "outputs": [
    {
     "data": {
      "text/plain": "['apple', 'banana', 'qiwi']"
     },
     "execution_count": 30,
     "metadata": {},
     "output_type": "execute_result"
    }
   ],
   "source": [
    "fruit2 = [\"apple\", \"qiwi\", \"banana\"]\n",
    "fruit2.sort()\n",
    "fruit2"
   ],
   "metadata": {
    "collapsed": false
   }
  },
  {
   "cell_type": "code",
   "execution_count": 32,
   "outputs": [
    {
     "data": {
      "text/plain": "['qiwi', 'apple', 'banana']"
     },
     "execution_count": 32,
     "metadata": {},
     "output_type": "execute_result"
    }
   ],
   "source": [
    "fruit3 = [\"apple\", \"qiwi\", \"banana\"]\n",
    "fruit3.sort(key=len)\n",
    "fruit3"
   ],
   "metadata": {
    "collapsed": false
   }
  },
  {
   "cell_type": "code",
   "execution_count": 36,
   "outputs": [
    {
     "data": {
      "text/plain": "[1, 2, 2, 3, 4, 5]"
     },
     "execution_count": 36,
     "metadata": {},
     "output_type": "execute_result"
    }
   ],
   "source": [
    "# Метод .reverse() разворачивает порядок элементов списка на месте\n",
    "my_list3 # [5, 4, 3, 2, 2, 1]\n",
    "my_list3.reverse()\n",
    "my_list3"
   ],
   "metadata": {
    "collapsed": false
   }
  }
 ],
 "metadata": {
  "kernelspec": {
   "display_name": "Python 3",
   "language": "python",
   "name": "python3"
  },
  "language_info": {
   "codemirror_mode": {
    "name": "ipython",
    "version": 2
   },
   "file_extension": ".py",
   "mimetype": "text/x-python",
   "name": "python",
   "nbconvert_exporter": "python",
   "pygments_lexer": "ipython2",
   "version": "2.7.6"
  }
 },
 "nbformat": 4,
 "nbformat_minor": 0
}
