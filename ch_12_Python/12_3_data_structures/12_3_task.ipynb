{
 "cells": [
  {
   "cell_type": "code",
   "execution_count": 13,
   "metadata": {
    "collapsed": true
   },
   "outputs": [
    {
     "name": "stdout",
     "output_type": "stream",
     "text": [
      "15\n"
     ]
    }
   ],
   "source": [
    "# Напишите программу, которая принимает от пользователя строку, состоящую из чисел, разделенных запятыми и выводит на экран сумму всех элементов.\n",
    "\n",
    "numbers = input()\n",
    "\n",
    "number_list = numbers.split(\",\")\n",
    "acc = 0\n",
    "for i in number_list:\n",
    "    acc += int(i)\n",
    "print(acc)\n"
   ]
  },
  {
   "cell_type": "code",
   "execution_count": 52,
   "outputs": [
    {
     "name": "stdout",
     "output_type": "stream",
     "text": [
      "[1, 2, 3, 4, 5, 6, 7, 8, 9, 10]\n"
     ]
    }
   ],
   "source": [
    "# Напишите программу, которая принимает от пользователя строку чисел, разделенных пробелами, преобразует её в список целых чисел и сортирует список по возрастанию. Выведите отсортированный список.\n",
    "\n",
    "num = input().split()\n",
    "\n",
    "list_int = []\n",
    "for i in num:\n",
    "        list_int.append(int(i))\n",
    "\n",
    "print(sorted(list_int))\n"
   ],
   "metadata": {
    "collapsed": false
   }
  },
  {
   "cell_type": "code",
   "execution_count": 56,
   "outputs": [
    {
     "name": "stdout",
     "output_type": "stream",
     "text": [
      "[1, 2, 3, 4]\n"
     ]
    }
   ],
   "source": [
    "num2 = input().split()\n",
    "list_int2 = [int(x) for x in num2]\n",
    "print(sorted(list_int2))"
   ],
   "metadata": {
    "collapsed": false
   }
  },
  {
   "cell_type": "code",
   "execution_count": 61,
   "outputs": [
    {
     "name": "stdout",
     "output_type": "stream",
     "text": [
      "[1, 2, 3, 4, 5, 6, 7, 8, 9, 10]\n"
     ]
    }
   ],
   "source": [
    "num = input().split()\n",
    "\n",
    "list_num = list(map(int, num))\n",
    "\n",
    "# print(sorted(list_num))"
   ],
   "metadata": {
    "collapsed": false
   }
  },
  {
   "cell_type": "code",
   "execution_count": 76,
   "outputs": [
    {
     "data": {
      "text/plain": "[1, 5, 8, 7, 9, 10]"
     },
     "execution_count": 76,
     "metadata": {},
     "output_type": "execute_result"
    }
   ],
   "source": [
    "nums = input().split()\n",
    "val_to_delete = input()\n",
    "\n",
    "result_nums_list = [int(i) for i in nums if i != val_to_delete]\n",
    "result_nums_list\n"
   ],
   "metadata": {
    "collapsed": false
   }
  },
  {
   "cell_type": "code",
   "execution_count": 92,
   "outputs": [
    {
     "name": "stdout",
     "output_type": "stream",
     "text": [
      "Строка является палиндромом.\n"
     ]
    }
   ],
   "source": [
    "# Напишите программу, которая принимает строку от пользователя и проверяет, является ли эта строка палиндромом (т.е. читается одинаково слева направо и справа налево).\n",
    "#\n",
    "# В результате вывести на экран строки по следующим шаблонам:\n",
    "#\n",
    "#     Строка является палиндромом.\n",
    "#     Строка не является палиндромом.\n",
    "\n",
    "# Запрос ввода строки от пользователя\n",
    "input_string = input()\n",
    "\n",
    "# Преобразование строки к нижнему регистру и удаление пробелов\n",
    "normalized_string = input_string.lower().replace(\" \", \"\")\n",
    "\n",
    "if normalized_string == normalized_string[::-1]:\n",
    "    print(\"Строка является палиндромом.\")\n",
    "else:\n",
    "    print(\"Строка не является палиндромом.\")\n"
   ],
   "metadata": {
    "collapsed": false
   }
  },
  {
   "cell_type": "code",
   "execution_count": 103,
   "outputs": [
    {
     "name": "stdout",
     "output_type": "stream",
     "text": [
      "Минимальное значение: 1\n",
      "Максимальное значение: 9\n"
     ]
    }
   ],
   "source": [
    "# Напишите программу, которая принимает список чисел от пользователя (строка разделенная пробелом и запятой), сортирует его и выводит на экран минимальное и максимальное значения.\n",
    "# получаем строку от юзера, преобразуем в List[String]\n",
    "str_num = input().replace(\", \", \" \").split()\n",
    "\n",
    "# преобразуем в List[Int]\n",
    "list_num = list(map(int, str_num))\n",
    "\n",
    "# вывод результата\n",
    "print(f\"Минимальное значение: {min(list_num)}\\n\"\n",
    "      f\"Максимальное значение: {max(list_num)}\")"
   ],
   "metadata": {
    "collapsed": false
   }
  },
  {
   "cell_type": "code",
   "execution_count": null,
   "outputs": [],
   "source": [],
   "metadata": {
    "collapsed": false
   }
  }
 ],
 "metadata": {
  "kernelspec": {
   "display_name": "Python 3",
   "language": "python",
   "name": "python3"
  },
  "language_info": {
   "codemirror_mode": {
    "name": "ipython",
    "version": 2
   },
   "file_extension": ".py",
   "mimetype": "text/x-python",
   "name": "python",
   "nbconvert_exporter": "python",
   "pygments_lexer": "ipython2",
   "version": "2.7.6"
  }
 },
 "nbformat": 4,
 "nbformat_minor": 0
}
