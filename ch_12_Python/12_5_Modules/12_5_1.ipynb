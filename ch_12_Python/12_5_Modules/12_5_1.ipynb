{
 "cells": [
  {
   "cell_type": "code",
   "execution_count": 2,
   "metadata": {
    "collapsed": true
   },
   "outputs": [
    {
     "data": {
      "text/plain": "16.0"
     },
     "execution_count": 2,
     "metadata": {},
     "output_type": "execute_result"
    }
   ],
   "source": [
    "# Модуль в Python — это файл с расширением .py, содержащий определения функций, классов и переменных. Модули могут быть созданы вами или взяты из стандартной библиотеки Python или сторонних библиотек.\n",
    "\n",
    "import math\n",
    "\n",
    "math.sqrt(256)"
   ]
  },
  {
   "cell_type": "code",
   "execution_count": 10,
   "outputs": [
    {
     "name": "stdout",
     "output_type": "stream",
     "text": [
      "32.0\n",
      "3.141592653589793\n"
     ]
    }
   ],
   "source": [
    "# Действительно просто, но каждый раз писать название модуля, потом точку, потом название функции, сложно, давайте упрощать.\n",
    "# Для этого мы можем импортировать некоторые конкретные функции из нужного модуля:\n",
    "\n",
    "from math import sqrt, pi\n",
    "print(sqrt(1024))\n",
    "print(pi)"
   ],
   "metadata": {
    "collapsed": false
   }
  },
  {
   "cell_type": "code",
   "execution_count": 11,
   "outputs": [
    {
     "name": "stdout",
     "output_type": "stream",
     "text": [
      "[ 3  6  9 12 15]\n"
     ]
    }
   ],
   "source": [
    "# Можно импортировать модуль или его элементы под другим именем\n",
    "\n",
    "import numpy as np\n",
    "\n",
    "array = np.array([3, 6, 9, 12, 15])\n",
    "print(array)"
   ],
   "metadata": {
    "collapsed": false
   }
  }
 ],
 "metadata": {
  "kernelspec": {
   "display_name": "Python 3",
   "language": "python",
   "name": "python3"
  },
  "language_info": {
   "codemirror_mode": {
    "name": "ipython",
    "version": 2
   },
   "file_extension": ".py",
   "mimetype": "text/x-python",
   "name": "python",
   "nbconvert_exporter": "python",
   "pygments_lexer": "ipython2",
   "version": "2.7.6"
  }
 },
 "nbformat": 4,
 "nbformat_minor": 0
}
