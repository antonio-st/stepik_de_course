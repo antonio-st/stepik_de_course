{
 "cells": [
  {
   "cell_type": "code",
   "execution_count": 5,
   "metadata": {
    "collapsed": true
   },
   "outputs": [
    {
     "name": "stdout",
     "output_type": "stream",
     "text": [
      "/home/antonio/#LEARN/stepik_de_course/stepik_de_course/ch_12_Python/12_5_Modules\n",
      "antonio\n",
      "['my_module.py', '12_5_1.ipynb', '12_5_3.ipynb', '12_5_2.py', '__pycache__']\n"
     ]
    }
   ],
   "source": [
    "# Модуль os предоставляет функции для взаимодействия с операционной системой. С его помощью можно работать с файловой системой, переменными окружения и выполнять системные команды.\n",
    "\n",
    "import os\n",
    "print(os.getcwd())\n",
    "print(os.getlogin())\n",
    "print(os.listdir())"
   ]
  },
  {
   "cell_type": "code",
   "execution_count": 7,
   "outputs": [
    {
     "name": "stdout",
     "output_type": "stream",
     "text": [
      "['/home/antonio/.local/lib/python3.10/site-packages/ipykernel_launcher.py', '-f', '/home/antonio/.local/share/jupyter/runtime/kernel-666c076c-3aae-434c-8ad0-31cb3c353f42.json']\n",
      "3.10.12 (main, Jul 29 2024, 16:56:48) [GCC 11.4.0]\n"
     ]
    }
   ],
   "source": [
    "# Модуль sys позволяет взаимодействовать с интерпретатором Python. Он предоставляет функции и переменные для работы с аргументами командной строки, управления путями поиска модулей и получения информации о версии Python.\n",
    "\n",
    "import sys\n",
    "\n",
    "print(sys.argv)\n",
    "print(sys.version)"
   ],
   "metadata": {
    "collapsed": false
   }
  },
  {
   "cell_type": "code",
   "execution_count": 12,
   "outputs": [
    {
     "name": "stdout",
     "output_type": "stream",
     "text": [
      "2024-08-08 22:44:43.473269\n",
      "Formatted Date: 2024-08-08 22:44:43\n",
      "Future:  2024-08-15 22:44:43.473269\n"
     ]
    }
   ],
   "source": [
    "# Модуль datetime предоставляет классы для работы с датами и временем. С его помощью можно создавать, форматировать и выполнять арифметические операции с датами и временем.\n",
    "\n",
    "from datetime import datetime, timedelta\n",
    "\n",
    "# Текущая дата и время\n",
    "now = datetime.now()\n",
    "print(now)\n",
    "\n",
    "# Форматирование даты\n",
    "print(\"Formatted Date:\", now.strftime(\"%Y-%m-%d %H:%M:%S\"))\n",
    "\n",
    "# Дата через 7 дней\n",
    "\n",
    "print(\"Future: \", now + timedelta(7))\n"
   ],
   "metadata": {
    "collapsed": false
   }
  },
  {
   "cell_type": "code",
   "execution_count": 2,
   "outputs": [
    {
     "name": "stdout",
     "output_type": "stream",
     "text": [
      "{\"name\": \"Liza\", \"age\": 35, \"city\": \"Stavropol\"}\n"
     ]
    }
   ],
   "source": [
    "# Модуль json предоставляет функции для работы с JSON-данными. Он позволяет сериализовать объекты Python в JSON-формат и десериализовать JSON-строки обратно в объекты Python.\n",
    "\n",
    "import json\n",
    "\n",
    "# Сериализация объекта в JSON-строку\n",
    "data = {'name': 'Liza', 'age': 35, 'city': 'Stavropol'}\n",
    "json_str = json.dumps(data)\n",
    "print(json_str)"
   ],
   "metadata": {
    "collapsed": false
   }
  },
  {
   "cell_type": "code",
   "execution_count": 3,
   "outputs": [
    {
     "name": "stdout",
     "output_type": "stream",
     "text": [
      "Data: {'name': 'Bob', 'age': 25, 'city': 'San Francisco'}\n"
     ]
    }
   ],
   "source": [
    "# Десериализация JSON-строки в объект\n",
    "json_data = '{\"name\": \"Bob\", \"age\": 25, \"city\": \"San Francisco\"}'\n",
    "data = json.loads(json_data)\n",
    "print(\"Data:\", data)"
   ],
   "metadata": {
    "collapsed": false
   }
  },
  {
   "cell_type": "code",
   "execution_count": 4,
   "outputs": [
    {
     "name": "stdout",
     "output_type": "stream",
     "text": [
      "Matches: ['in', 'in']\n"
     ]
    }
   ],
   "source": [
    "# Модуль re предоставляет функции для работы с регулярными выражениями. Он позволяет искать, сопоставлять и заменять строки на основе шаблонов регулярных выражений.\n",
    "import re\n",
    "\n",
    "# Поиск всех вхождений шаблона в строке\n",
    "text = \"The rain in Spain falls mainly in the plain.\"\n",
    "matches = re.findall(r'\\bin\\b', text)\n",
    "print(\"Matches:\", matches)"
   ],
   "metadata": {
    "collapsed": false
   }
  },
  {
   "cell_type": "code",
   "execution_count": 5,
   "outputs": [
    {
     "name": "stdout",
     "output_type": "stream",
     "text": [
      "New Text: The snow in Spain falls mainly in the plain.\n"
     ]
    }
   ],
   "source": [
    "# Замена шаблона в строке\n",
    "new_text = re.sub(r'rain', 'snow', text)\n",
    "print(\"New Text:\", new_text)"
   ],
   "metadata": {
    "collapsed": false
   }
  },
  {
   "cell_type": "code",
   "execution_count": 27,
   "outputs": [
    {
     "name": "stdout",
     "output_type": "stream",
     "text": [
      "49\n"
     ]
    }
   ],
   "source": [
    "# Модуль random предоставляет функции для генерации случайных чисел и выбора случайных элементов из последовательностей. С его помощью можно генерировать псевдослучайные числа, случайным образом перемешивать списки и выбирать случайные элементы.\n",
    "\n",
    "import random\n",
    "\n",
    "# Случайное число от 0 до 100\n",
    "rand1 = random.random()\n",
    "print(round(rand1 * 100))"
   ],
   "metadata": {
    "collapsed": false
   }
  },
  {
   "cell_type": "code",
   "execution_count": 28,
   "outputs": [
    {
     "name": "stdout",
     "output_type": "stream",
     "text": [
      "21\n"
     ]
    }
   ],
   "source": [
    "# Случайное целое число в диапазоне\n",
    "rand_int = random.randint(1, 50)\n",
    "print(rand_int)"
   ],
   "metadata": {
    "collapsed": false
   }
  },
  {
   "cell_type": "code",
   "execution_count": 44,
   "outputs": [
    {
     "name": "stdout",
     "output_type": "stream",
     "text": [
      "banana\n"
     ]
    }
   ],
   "source": [
    "# Случайный выбор из списка\n",
    "\n",
    "choices = ['apple', 'banana', 'cherry']\n",
    "rand_list = random.choice(choices)\n",
    "print(rand_list)"
   ],
   "metadata": {
    "collapsed": false
   }
  },
  {
   "cell_type": "code",
   "execution_count": 1,
   "outputs": [
    {
     "name": "stdout",
     "output_type": "stream",
     "text": [
      "Counter: Counter({'banana': 3, 'apple': 2, 'orange': 1})\n"
     ]
    }
   ],
   "source": [
    "# Модуль collections предоставляет дополнительные типы данных, такие как deque, Counter, OrderedDict, defaultdict и namedtuple. Эти типы данных расширяют возможности стандартных контейнеров Python, таких как списки, словари и кортежи.\n",
    "\n",
    "from collections import Counter, defaultdict, namedtuple\n",
    "\n",
    "# Counter для подсчета элементов\n",
    "counter = Counter(['apple', 'banana', 'apple', 'orange', 'banana', 'banana'])\n",
    "print(\"Counter:\", counter)\n"
   ],
   "metadata": {
    "collapsed": false
   }
  },
  {
   "cell_type": "code",
   "execution_count": 2,
   "outputs": [
    {
     "name": "stdout",
     "output_type": "stream",
     "text": [
      "DefaultDict: defaultdict(<class 'int'>, {'apple': 1})\n"
     ]
    }
   ],
   "source": [
    "# defaultdict с значением по умолчанию\n",
    "default_dict = defaultdict(int)\n",
    "default_dict['apple'] += 1\n",
    "print(\"DefaultDict:\", default_dict)\n"
   ],
   "metadata": {
    "collapsed": false
   }
  },
  {
   "cell_type": "code",
   "execution_count": 3,
   "outputs": [
    {
     "name": "stdout",
     "output_type": "stream",
     "text": [
      "NamedTuple: Person(name='Alice', age=30)\n"
     ]
    }
   ],
   "source": [
    "# namedtuple для создания именованных кортежей\n",
    "Person = namedtuple('Person', 'name age')\n",
    "person = Person(name='Alice', age=30)\n",
    "print(\"NamedTuple:\", person)"
   ],
   "metadata": {
    "collapsed": false
   }
  },
  {
   "cell_type": "code",
   "execution_count": 4,
   "outputs": [
    {
     "name": "stdout",
     "output_type": "stream",
     "text": [
      "10\n",
      "12\n",
      "14\n",
      "16\n",
      "18\n"
     ]
    }
   ],
   "source": [
    "# Модуль itertools предоставляет функции для создания итераторов для эффективного перебора данных. Он включает такие функции, как count, cycle, chain, islice и другие.\n",
    "\n",
    "import itertools\n",
    "# Итератор count\n",
    "counter = itertools.count(start=10, step=2)\n",
    "for i in range(5):\n",
    "    print(next(counter))"
   ],
   "metadata": {
    "collapsed": false
   }
  },
  {
   "cell_type": "code",
   "execution_count": 5,
   "outputs": [
    {
     "name": "stdout",
     "output_type": "stream",
     "text": [
      "A\n",
      "B\n",
      "C\n",
      "A\n",
      "B\n"
     ]
    }
   ],
   "source": [
    "# Итератор cycle\n",
    "cycler = itertools.cycle(['A', 'B', 'C'])\n",
    "for i in range(5):\n",
    "#     print(next(cycler))"
   ],
   "metadata": {
    "collapsed": false
   }
  },
  {
   "cell_type": "code",
   "execution_count": 6,
   "outputs": [
    {
     "name": "stdout",
     "output_type": "stream",
     "text": [
      "25\n"
     ]
    }
   ],
   "source": [
    "# Модуль functools предоставляет функции для работы с функциями высшего порядка. Он включает такие функции, как partial, reduce, lru_cache, которые помогают работать с функциями и их аргументами.\n",
    "\n",
    "from functools import partial, reduce\n",
    "\n",
    "# partial для создания функции с предустановленными аргументами\n",
    "def power(base, exponent):\n",
    "    return base ** exponent\n",
    "\n",
    "square = partial(power, exponent=2)\n",
    "print(square(5))"
   ],
   "metadata": {
    "collapsed": false
   }
  },
  {
   "cell_type": "code",
   "execution_count": 9,
   "outputs": [
    {
     "name": "stdout",
     "output_type": "stream",
     "text": [
      "10\n"
     ]
    }
   ],
   "source": [
    "# reduce для свертки последовательности\n",
    "numbers = [1, 2, 3, 4]\n",
    "sum_numbers = reduce(lambda x, y: x + y, numbers)\n",
    "print(sum_numbers)"
   ],
   "metadata": {
    "collapsed": false
   }
  },
  {
   "cell_type": "code",
   "execution_count": 17,
   "outputs": [
    {
     "name": "stdout",
     "output_type": "stream",
     "text": [
      "4.0\n",
      "1.0\n",
      "2.0\n"
     ]
    }
   ],
   "source": [
    "import math\n",
    "\n",
    "# Квадратный корень\n",
    "sqrt = math.sqrt(16)\n",
    "print(sqrt)\n",
    "\n",
    "# Синус угла\n",
    "sin_value = math.sin(math.radians(90))\n",
    "print(sin_value)\n",
    "\n",
    "# Логарифм\n",
    "log_value = math.log(100, 10)\n",
    "print(log_value)"
   ],
   "metadata": {
    "collapsed": false
   }
  }
 ],
 "metadata": {
  "kernelspec": {
   "display_name": "Python 3",
   "language": "python",
   "name": "python3"
  },
  "language_info": {
   "codemirror_mode": {
    "name": "ipython",
    "version": 2
   },
   "file_extension": ".py",
   "mimetype": "text/x-python",
   "name": "python",
   "nbconvert_exporter": "python",
   "pygments_lexer": "ipython2",
   "version": "2.7.6"
  }
 },
 "nbformat": 4,
 "nbformat_minor": 0
}
