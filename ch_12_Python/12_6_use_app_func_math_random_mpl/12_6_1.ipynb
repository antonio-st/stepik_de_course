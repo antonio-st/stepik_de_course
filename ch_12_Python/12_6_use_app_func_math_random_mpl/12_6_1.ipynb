{
 "cells": [
  {
   "cell_type": "code",
   "execution_count": 14,
   "metadata": {
    "collapsed": true
   },
   "outputs": [
    {
     "name": "stdout",
     "output_type": "stream",
     "text": [
      "5\n",
      "4\n",
      "3628800\n",
      "10.0\n",
      "1225.0\n",
      "6\n",
      "\n",
      "\n",
      "\n",
      "\n"
     ]
    }
   ],
   "source": [
    "from math import *\n",
    "\n",
    "print(ceil(4.1))\n",
    "print(floor(4.9))\n",
    "print(factorial(10))\n",
    "print(fabs(-10)) # Возвращает абсолютное значение числа x (похож на встроенную функцию abs(), но всегда возвращает float).\n",
    "print(fsum(range(1, 50))) # Возвращает сумму элементов в iterable. Точнее, чем функция sum() для длинных списков чисел.\n",
    "print(gcd(54, 42)) # Возвращает наибольший общий делитель a и b"
   ]
  },
  {
   "cell_type": "code",
   "execution_count": 24,
   "outputs": [
    {
     "name": "stdout",
     "output_type": "stream",
     "text": [
      "7.38905609893065\n",
      "3.0\n",
      "3.912023005428146\n",
      "60.0\n",
      "1024.0\n"
     ]
    }
   ],
   "source": [
    "print(exp(2))\n",
    "print(log(8, 2)) # log(x, base) Логарифм числа x по основанию base. Если основание не указано, используется основание e.\n",
    "print(log(50)) # (натуральный логарифм)\n",
    "print(sqrt(3600))\n",
    "print(pow(2, 10))"
   ],
   "metadata": {
    "collapsed": false
   }
  },
  {
   "cell_type": "code",
   "execution_count": 25,
   "outputs": [
    {
     "name": "stdout",
     "output_type": "stream",
     "text": [
      "1.0\n",
      "0.5000000000000001\n",
      "0.9999999999999999\n",
      "90.0\n",
      "60.00000000000001\n",
      "45.0\n",
      "5.0\n"
     ]
    }
   ],
   "source": [
    "# Тригонометрические функции\n",
    "print(sin(radians(90)))\n",
    "print(cos(radians(60)))\n",
    "print(tan(radians(45)))\n",
    "print(degrees(asin(1)))\n",
    "print(degrees(acos(0.5)))\n",
    "print(degrees(atan(1)))\n",
    "print(hypot(3, 4)) #  Возвращает длину гипотенузы прямоугольного треугольника с катетами x и y."
   ],
   "metadata": {
    "collapsed": false
   }
  },
  {
   "cell_type": "code",
   "execution_count": 27,
   "outputs": [
    {
     "name": "stdout",
     "output_type": "stream",
     "text": [
      "3.141592653589793\n",
      "2.718281828459045\n",
      "180.0\n",
      "3.141592653589793\n"
     ]
    }
   ],
   "source": [
    "# Константы\n",
    "\n",
    "print(pi)\n",
    "print(e)\n",
    "\n",
    "print(degrees(pi)) # Преобразует угол x из радианов в градусы\n",
    "print(radians(180)) # Преобразует угол x из градусов в радианы."
   ],
   "metadata": {
    "collapsed": false
   }
  },
  {
   "cell_type": "code",
   "execution_count": 28,
   "outputs": [
    {
     "name": "stdout",
     "output_type": "stream",
     "text": [
      "31.41592653589793\n"
     ]
    }
   ],
   "source": [
    "# Вычисление длины окружности\n",
    "rad = 5\n",
    "circumference = 2 * pi * rad\n",
    "print(circumference)\n"
   ],
   "metadata": {
    "collapsed": false
   }
  },
  {
   "cell_type": "code",
   "execution_count": 30,
   "outputs": [
    {
     "name": "stdout",
     "output_type": "stream",
     "text": [
      "area : 6.0\n"
     ]
    }
   ],
   "source": [
    "# Вычисление площади треугольника по трём сторонам (формула Герона)\n",
    "\n",
    "a, b, c = 3, 4, 5\n",
    "s = (a + b + c) / 2\n",
    "area = sqrt(s * (s - a) * (s - b) * (s - c))\n",
    "print(\"area :\", area)"
   ],
   "metadata": {
    "collapsed": false
   }
  }
 ],
 "metadata": {
  "kernelspec": {
   "display_name": "Python 3",
   "language": "python",
   "name": "python3"
  },
  "language_info": {
   "codemirror_mode": {
    "name": "ipython",
    "version": 2
   },
   "file_extension": ".py",
   "mimetype": "text/x-python",
   "name": "python",
   "nbconvert_exporter": "python",
   "pygments_lexer": "ipython2",
   "version": "2.7.6"
  }
 },
 "nbformat": 4,
 "nbformat_minor": 0
}
