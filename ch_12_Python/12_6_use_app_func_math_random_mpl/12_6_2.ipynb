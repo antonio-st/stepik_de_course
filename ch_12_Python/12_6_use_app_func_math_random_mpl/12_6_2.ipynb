{
 "cells": [
  {
   "cell_type": "code",
   "execution_count": 1,
   "metadata": {
    "collapsed": true
   },
   "outputs": [
    {
     "data": {
      "text/plain": "0.12539853674773527"
     },
     "execution_count": 1,
     "metadata": {},
     "output_type": "execute_result"
    }
   ],
   "source": [
    "import random\n",
    "# Модуль random\n",
    "\n",
    "from random import *\n",
    "\n",
    "random() # Вывод: случайное число,"
   ]
  },
  {
   "cell_type": "code",
   "execution_count": 6,
   "outputs": [
    {
     "data": {
      "text/plain": "53.42885189663722"
     },
     "execution_count": 6,
     "metadata": {},
     "output_type": "execute_result"
    }
   ],
   "source": [
    "# возвращает случайное число с плавающей точкой в диапазоне от a до b (включая a, но не включая b).\n",
    "\n",
    "uniform(1, 100)"
   ],
   "metadata": {
    "collapsed": false
   }
  },
  {
   "cell_type": "code",
   "execution_count": 9,
   "outputs": [
    {
     "data": {
      "text/plain": "25"
     },
     "execution_count": 9,
     "metadata": {},
     "output_type": "execute_result"
    }
   ],
   "source": [
    "# возвращает случайное целое число N в диапазоне от a до b (включительно).\n",
    "\n",
    "randint(1, 100)"
   ],
   "metadata": {
    "collapsed": false
   }
  },
  {
   "cell_type": "code",
   "execution_count": 39,
   "outputs": [
    {
     "data": {
      "text/plain": "48"
     },
     "execution_count": 39,
     "metadata": {},
     "output_type": "execute_result"
    }
   ],
   "source": [
    "# возвращает случайное число из диапазона range(start, stop, step)\n",
    "randrange(0, 60, 2)"
   ],
   "metadata": {
    "collapsed": false
   }
  },
  {
   "cell_type": "code",
   "execution_count": 50,
   "outputs": [
    {
     "data": {
      "text/plain": "'cherry'"
     },
     "execution_count": 50,
     "metadata": {},
     "output_type": "execute_result"
    }
   ],
   "source": [
    "# Функция choice(seq) возвращает случайный элемент из непустой последовательности seq.\n",
    "choices = ['apple', 'banana', 'cherry']\n",
    "choice(choices)"
   ],
   "metadata": {
    "collapsed": false
   }
  },
  {
   "cell_type": "code",
   "execution_count": 65,
   "outputs": [
    {
     "name": "stdout",
     "output_type": "stream",
     "text": [
      "[2, 10, 6, 1, 9, 5, 8, 7, 3, 4]\n"
     ]
    }
   ],
   "source": [
    "# Функция shuffle(seq) перемешивает элементы последовательности seq на месте и возвращает None.\n",
    "\n",
    "list1 = list(range(1, 11))\n",
    "shuffle(list1)\n",
    "print(list1)"
   ],
   "metadata": {
    "collapsed": false
   }
  },
  {
   "cell_type": "code",
   "execution_count": 81,
   "outputs": [
    {
     "data": {
      "text/plain": "[19, 20, 9, 28, 21]"
     },
     "execution_count": 81,
     "metadata": {},
     "output_type": "execute_result"
    }
   ],
   "source": [
    "# Функция sample(seq, k) возвращает список из k уникальных элементов, случайным образом выбранных из последовательности seq\n",
    "\n",
    "sample(range(9, 30), 5)"
   ],
   "metadata": {
    "collapsed": false
   }
  },
  {
   "cell_type": "code",
   "execution_count": 2,
   "outputs": [
    {
     "data": {
      "text/plain": "['tomato', 'qiwi', 'cherry', 'tomato', 'banana']"
     },
     "execution_count": 2,
     "metadata": {},
     "output_type": "execute_result"
    }
   ],
   "source": [
    "# Функция choices(seq, k, weights=None, cum_weights=None) возвращает список из k элементов из seq, выбранных с возможностью повторений. weights или cum_weights могут использоваться для задания вероятностей выбора.\n",
    "\n",
    "choices(['apple', 'banana', 'cherry', 'qiwi', 'tomato'], k=5)"
   ],
   "metadata": {
    "collapsed": false
   }
  },
  {
   "cell_type": "code",
   "execution_count": 3,
   "outputs": [
    {
     "data": {
      "text/plain": "['apple', 'apple', 'banana']"
     },
     "execution_count": 3,
     "metadata": {},
     "output_type": "execute_result"
    }
   ],
   "source": [
    "choices(['apple', 'banana', 'cherry'], weights=[10, 1, 1], k=3)"
   ],
   "metadata": {
    "collapsed": false
   }
  },
  {
   "cell_type": "code",
   "execution_count": 103,
   "outputs": [
    {
     "data": {
      "text/plain": "0.6394267984578837"
     },
     "execution_count": 103,
     "metadata": {},
     "output_type": "execute_result"
    }
   ],
   "source": [
    "# Для воспроизводимости результатов вы можете установить начальное значение генератора случайных чисел с помощью функции seed().\n",
    "\n",
    "seed(42)\n",
    "random()"
   ],
   "metadata": {
    "collapsed": false
   }
  },
  {
   "cell_type": "code",
   "execution_count": 109,
   "outputs": [
    {
     "data": {
      "text/plain": "0.6394267984578837"
     },
     "execution_count": 109,
     "metadata": {},
     "output_type": "execute_result"
    }
   ],
   "source": [
    "seed(42)\n",
    "random()"
   ],
   "metadata": {
    "collapsed": false
   }
  },
  {
   "cell_type": "code",
   "execution_count": 111,
   "outputs": [
    {
     "name": "stdout",
     "output_type": "stream",
     "text": [
      "5\n",
      "1\n",
      "5\n",
      "4\n",
      "1\n",
      "1\n",
      "1\n",
      "2\n",
      "2\n",
      "5\n"
     ]
    }
   ],
   "source": [
    "import random\n",
    "def roll_dice():\n",
    "    return random.randint(1, 6)\n",
    "\n",
    "for i in range(10):\n",
    "    print(roll_dice())"
   ],
   "metadata": {
    "collapsed": false
   }
  }
 ],
 "metadata": {
  "kernelspec": {
   "display_name": "Python 3",
   "language": "python",
   "name": "python3"
  },
  "language_info": {
   "codemirror_mode": {
    "name": "ipython",
    "version": 2
   },
   "file_extension": ".py",
   "mimetype": "text/x-python",
   "name": "python",
   "nbconvert_exporter": "python",
   "pygments_lexer": "ipython2",
   "version": "2.7.6"
  }
 },
 "nbformat": 4,
 "nbformat_minor": 0
}
