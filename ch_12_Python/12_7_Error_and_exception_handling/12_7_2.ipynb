{
 "cells": [
  {
   "cell_type": "code",
   "execution_count": 7,
   "metadata": {
    "collapsed": true
   },
   "outputs": [
    {
     "ename": "ZeroDivisionError",
     "evalue": "division by zero",
     "output_type": "error",
     "traceback": [
      "\u001B[0;31m---------------------------------------------------------------------------\u001B[0m",
      "\u001B[0;31mZeroDivisionError\u001B[0m                         Traceback (most recent call last)",
      "Cell \u001B[0;32mIn[7], line 2\u001B[0m\n\u001B[1;32m      1\u001B[0m s \u001B[38;5;241m=\u001B[39m \u001B[38;5;28;01mlambda\u001B[39;00m x, y: x \u001B[38;5;241m/\u001B[39m y\n\u001B[0;32m----> 2\u001B[0m \u001B[43ms\u001B[49m\u001B[43m(\u001B[49m\u001B[38;5;241;43m1\u001B[39;49m\u001B[43m,\u001B[49m\u001B[43m \u001B[49m\u001B[38;5;241;43m0\u001B[39;49m\u001B[43m)\u001B[49m\n",
      "Cell \u001B[0;32mIn[7], line 1\u001B[0m, in \u001B[0;36m<lambda>\u001B[0;34m(x, y)\u001B[0m\n\u001B[0;32m----> 1\u001B[0m s \u001B[38;5;241m=\u001B[39m \u001B[38;5;28;01mlambda\u001B[39;00m x, y: \u001B[43mx\u001B[49m\u001B[43m \u001B[49m\u001B[38;5;241;43m/\u001B[39;49m\u001B[43m \u001B[49m\u001B[43my\u001B[49m\n\u001B[1;32m      2\u001B[0m s(\u001B[38;5;241m1\u001B[39m, \u001B[38;5;241m0\u001B[39m)\n",
      "\u001B[0;31mZeroDivisionError\u001B[0m: division by zero"
     ]
    }
   ],
   "source": [
    "s = lambda x, y: x / y\n",
    "s(1, 0)"
   ]
  },
  {
   "cell_type": "code",
   "execution_count": 22,
   "outputs": [
    {
     "name": "stdout",
     "output_type": "stream",
     "text": [
      "10 / 0 - На ноль делить нельзя! \n",
      "done\n",
      "None\n"
     ]
    }
   ],
   "source": [
    "def div():\n",
    "    try:\n",
    "        x = int(input(\"Введите число # \"))\n",
    "        y = int(input(\"Введите число # \"))\n",
    "        res = x / y\n",
    "    except ValueError:\n",
    "        print(\"Вы ввели не число !\")\n",
    "    except ZeroDivisionError:\n",
    "        print(f\"{x} / {y} - На ноль делить нельзя! \")\n",
    "    else:\n",
    "        return res # когда необходимо продолжить выполнение некоторого сегмента кода ТОЛЬКО в случае если ошибок в ходе выполнения блока try не возникало\n",
    "    finally:\n",
    "        print(\"done\")\n",
    "\n",
    "print(div())"
   ],
   "metadata": {
    "collapsed": false
   }
  }
 ],
 "metadata": {
  "kernelspec": {
   "display_name": "Python 3",
   "language": "python",
   "name": "python3"
  },
  "language_info": {
   "codemirror_mode": {
    "name": "ipython",
    "version": 2
   },
   "file_extension": ".py",
   "mimetype": "text/x-python",
   "name": "python",
   "nbconvert_exporter": "python",
   "pygments_lexer": "ipython2",
   "version": "2.7.6"
  }
 },
 "nbformat": 4,
 "nbformat_minor": 0
}
