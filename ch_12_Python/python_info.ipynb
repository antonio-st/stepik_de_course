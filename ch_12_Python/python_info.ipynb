{
 "cells": [
  {
   "cell_type": "markdown",
   "metadata": {
    "collapsed": false
   },
   "source": [
    "## python info"
   ]
  },
  {
   "cell_type": "markdown",
   "metadata": {
    "collapsed": false
   },
   "source": [
    "### Строки\n",
    "Это один из самых важных и часто используемых типов данных в Python. Строка представляет собой последовательность символов и используется для хранения и обработки текстовой информации. В Python строки относятся к неизменяемым (immutable) типам данных, что означает, что после создания строки её содержимое нельзя изменить напрямую.\n",
    "\n",
    "Изменяемые объекты — это объекты, которые могут быть изменены после их создания. Это означает, что их содержимое можно изменять, добавлять или удалять элементы без создания нового объекта. Примером изменяемых объектов являются списки, словари и множества. Мы о них поговорим позднее.\n"
   ]
  },
  {
   "cell_type": "markdown",
   "source": [
    "```python\n",
    "my_str = \"Hello\"\n",
    "my_str = my_str + \" World\"  # Создаётся новая строка, а не изменяется существующая\n",
    "print(my_str)  # Вывод: Hello World\n",
    "```"
   ],
   "metadata": {
    "collapsed": false
   }
  },
  {
   "cell_type": "markdown",
   "source": [
    "___Сборщик мусора (Garbage Collector)___ в Python — это механизм, который автоматически освобождает память, удаляя объекты, которые больше не используются в программе. Он играет ключевую роль в управлении памятью, позволяя программистам не беспокоиться о ручной очистке объектов. Сборщик мусора необходим, чтобы избегать утечек памяти, когда ненужные объекты продолжают занимать память."
   ],
   "metadata": {
    "collapsed": false
   }
  },
  {
   "cell_type": "code",
   "execution_count": 2,
   "metadata": {
    "collapsed": false
   },
   "outputs": [
    {
     "name": "stdout",
     "output_type": "stream",
     "text": [
      "Hello world !\n",
      "Hello Hello Hello Hello Hello Hello Hello Hello Hello Hello \n"
     ]
    }
   ],
   "source": [
    "# конкантенация\n",
    "w_1 = \"Hello \"\n",
    "w_2 = \"world\"\n",
    "print(f\"{w_1}{w_2} !\")\n",
    "# повторение слов\n",
    "print(w_1 * 10)"
   ]
  },
  {
   "cell_type": "code",
   "execution_count": 44,
   "metadata": {
    "collapsed": false
   },
   "outputs": [
    {
     "name": "stdout",
     "output_type": "stream",
     "text": [
      "e\n",
      " world\n",
      "Hlo ol | с интервалом 2\n",
      "alacS\n",
      "SCALA\n",
      "scala\n",
      "Hello, python !!!\n"
     ]
    }
   ],
   "source": [
    "w_3 = \"Hello, world !!!\"\n",
    "w_4 = \"Scala\"\n",
    "print(w_3[1])\n",
    "print(w_3[6:12])\n",
    "print(f\"{w_3[0:12:2]} | с интервалом 2\")\n",
    "print(w_4[::-1]) # развернуть строку\n",
    "print(w_4.upper())\n",
    "print(w_4.lower())\n",
    "print(w_3.replace(\"world\", \"python\"))"
   ]
  },
  {
   "cell_type": "code",
   "execution_count": 46,
   "outputs": [
    {
     "name": "stdout",
     "output_type": "stream",
     "text": [
      "Hi, world!\n",
      "Hi, World!\n"
     ]
    }
   ],
   "source": [
    "# Метод capitalize() в Python возвращает копию строки, в которой первая буква переведена в верхний регистр\n",
    "# Если нужно сделать заглавными первые буквы всех слов в строке, следует использовать метод title()\n",
    "text = \"Hello, World!\"\n",
    "print(text.lower().replace(\"hello\", \"hi\").capitalize())\n",
    "print(text.lower().replace(\"hello\", \"hi\").title())"
   ],
   "metadata": {
    "collapsed": false
   }
  },
  {
   "cell_type": "code",
   "execution_count": 38,
   "outputs": [
    {
     "name": "stdout",
     "output_type": "stream",
     "text": [
      "['aplle', ' qiwi', ' banana']\n",
      "Hello, Scala!!!\n",
      "19\n"
     ]
    }
   ],
   "source": [
    "w_5 = \"aplle, qiwi, banana\"\n",
    "\n",
    "print(w_5.split(\",\"))\n",
    "print(\"   Hello, Scala!!!    \".strip()) # Убирает пробелы или другие символы в начале и конце строки.\n",
    "print(len(w_5))"
   ],
   "metadata": {
    "collapsed": false
   }
  },
  {
   "cell_type": "code",
   "execution_count": null,
   "metadata": {
    "collapsed": false
   },
   "outputs": [],
   "source": []
  },
  {
   "cell_type": "code",
   "execution_count": null,
   "metadata": {
    "collapsed": false
   },
   "outputs": [],
   "source": []
  },
  {
   "cell_type": "code",
   "execution_count": null,
   "metadata": {
    "collapsed": false
   },
   "outputs": [],
   "source": []
  }
 ],
 "metadata": {
  "kernelspec": {
   "display_name": "Python 3",
   "language": "python",
   "name": "python3"
  },
  "language_info": {
   "codemirror_mode": {
    "name": "ipython",
    "version": 2
   },
   "file_extension": ".py",
   "mimetype": "text/x-python",
   "name": "python",
   "nbconvert_exporter": "python",
   "pygments_lexer": "ipython2",
   "version": "2.7.6"
  }
 },
 "nbformat": 4,
 "nbformat_minor": 0
}
