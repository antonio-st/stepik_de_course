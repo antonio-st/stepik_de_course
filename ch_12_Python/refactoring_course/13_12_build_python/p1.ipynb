{
 "cells": [
  {
   "cell_type": "markdown",
   "source": [
    "### Как собираются приложения на Python?"
   ],
   "metadata": {
    "collapsed": false
   }
  },
  {
   "cell_type": "code",
   "execution_count": null,
   "outputs": [],
   "source": [
    "pip install pyinstaller\n",
    "pyinstaller --onefile my_script.py"
   ],
   "metadata": {
    "collapsed": false
   }
  },
  {
   "cell_type": "markdown",
   "source": [
    "И теперь второй вариант запуска - через Docker. То есть как подготовить проект к запуску в Docker? А что если в нем еще будут и библиотеки?\n",
    "\n",
    "Чтобы создать Docker-контейнер для Python-приложения, использующего библиотеку pandas, Вам потребуется создать Dockerfile и файл requirements.txt для управления зависимостями. В этом примере мы создадим Docker-контейнер, который выполнит Python-скрипт с pandas.\n",
    "\n",
    "Создайте папку для вашего проекта и внутри неё следующие файлы:\n",
    "\n",
    "my_project/\n",
    "├── app.py\n",
    "├── Dockerfile\n",
    "└── requirements.txt\n",
    "\n",
    "Далее для простоты эксперимента заполним app.py следующим кодом.\n",
    "\n",
    "```python\n",
    "# app.py\n",
    "import pandas as pd\n",
    "\n",
    "data = {\n",
    "    'Name': ['Alice', 'Bob', 'Charlie'],\n",
    "    'Age': [24, 27, 22]\n",
    "}\n",
    "\n",
    "df = pd.DataFrame(data)\n",
    "print(df)\n",
    "```\n",
    "И ничего страшного, что мы не знаем Pandas. Важно, что он является той библиотекой, которую нужно установить.\n",
    "\n",
    "А в requirements.txt мы положим pandas."
   ],
   "metadata": {
    "collapsed": false
   }
  },
  {
   "cell_type": "markdown",
   "source": [
    "В Dockerfile мы укажем базовый образ, скопируем файлы проекта в контейнер, установим зависимости из requirements.txt и выполним наш скрипт.\n",
    "```bash\n",
    "# Используем официальный базовый образ Python\n",
    "FROM python:3.9-slim\n",
    "\n",
    "# Устанавливаем рабочую директорию в контейнере\n",
    "WORKDIR /app\n",
    "\n",
    "# Копируем файл requirements.txt в рабочую директорию\n",
    "COPY requirements.txt .\n",
    "\n",
    "# Устанавливаем зависимости из файла requirements.txt\n",
    "RUN pip install --no-cache-dir -r requirements.txt\n",
    "\n",
    "# Копируем остальные файлы проекта в контейнер\n",
    "COPY . .\n",
    "\n",
    "# Запускаем скрипт при запуске контейнера\n",
    "CMD [\"python\", \"app.py\"]\n",
    "\n",
    "Далее соберем докер образ.\n",
    "\n",
    "docker build -t my-python-app .\n",
    "\n",
    "Запустим контейнер.\n",
    "\n",
    "docker run --rm my-python-app\n",
    "```"
   ],
   "metadata": {
    "collapsed": false
   }
  },
  {
   "cell_type": "code",
   "execution_count": null,
   "outputs": [],
   "source": [],
   "metadata": {
    "collapsed": false
   }
  },
  {
   "cell_type": "code",
   "execution_count": null,
   "outputs": [],
   "source": [],
   "metadata": {
    "collapsed": false
   }
  },
  {
   "cell_type": "code",
   "execution_count": null,
   "outputs": [],
   "source": [],
   "metadata": {
    "collapsed": false
   }
  },
  {
   "cell_type": "code",
   "execution_count": null,
   "outputs": [],
   "source": [],
   "metadata": {
    "collapsed": false
   }
  }
 ],
 "metadata": {
  "kernelspec": {
   "display_name": "Python 3",
   "language": "python",
   "name": "python3"
  },
  "language_info": {
   "codemirror_mode": {
    "name": "ipython",
    "version": 2
   },
   "file_extension": ".py",
   "mimetype": "text/x-python",
   "name": "python",
   "nbconvert_exporter": "python",
   "pygments_lexer": "ipython2",
   "version": "2.7.6"
  }
 },
 "nbformat": 4,
 "nbformat_minor": 0
}
