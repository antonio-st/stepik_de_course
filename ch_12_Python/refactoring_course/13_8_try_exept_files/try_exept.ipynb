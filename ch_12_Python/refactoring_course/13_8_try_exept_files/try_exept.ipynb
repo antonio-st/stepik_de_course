{
 "cells": [
  {
   "cell_type": "markdown",
   "metadata": {},
   "source": [
    "## try exept"
   ]
  },
  {
   "cell_type": "code",
   "execution_count": 10,
   "metadata": {},
   "outputs": [
    {
     "name": "stdin",
     "output_type": "stream",
     "text": [
      "Введите число \n"
     ]
    },
    {
     "name": "stdout",
     "output_type": "stream",
     "text": [
      "Ожидалось число! Получено \n",
      "Yappiii!!!\n"
     ]
    }
   ],
   "source": [
    "try:\n",
    "    x = input(\"Введите число\")\n",
    "    result = 10 / int(x)\n",
    "    print(f\"Результат {result}\")\n",
    "except ZeroDivisionError:\n",
    "    print(\"Division by zero\")\n",
    "except ValueError:\n",
    "    print(f\"Ожидалось число! Получено {x}\")\n",
    "print(\"Yappiii!!!\")"
   ]
  },
  {
   "cell_type": "code",
   "execution_count": 11,
   "metadata": {},
   "outputs": [
    {
     "name": "stdout",
     "output_type": "stream",
     "text": [
      "Ошибка типа данных\n"
     ]
    }
   ],
   "source": [
    "try:\n",
    "    result = \"hello\" + 5  # Нельзя сложить строку и число\n",
    "except TypeError:\n",
    "    print(\"Ошибка типа данных\")"
   ]
  },
  {
   "cell_type": "code",
   "execution_count": 12,
   "metadata": {},
   "outputs": [
    {
     "name": "stdout",
     "output_type": "stream",
     "text": [
      "Ошибка индекса\n"
     ]
    }
   ],
   "source": [
    "my_list = [1, 2, 3]\n",
    "try:\n",
    "    print(my_list[5])  # Индекса 5 нет в списке\n",
    "except IndexError:\n",
    "    print(\"Ошибка индекса\")"
   ]
  },
  {
   "cell_type": "code",
   "execution_count": 13,
   "metadata": {},
   "outputs": [
    {
     "name": "stdout",
     "output_type": "stream",
     "text": [
      "Ошибка: ключ не найден\n"
     ]
    }
   ],
   "source": [
    "my_dict = {\"name\": \"Alice\"}\n",
    "try:\n",
    "    print(my_dict[\"age\"])  # Ключа \"age\" нет в словаре\n",
    "except KeyError:\n",
    "    print(\"Ошибка: ключ не найден\")"
   ]
  },
  {
   "cell_type": "code",
   "execution_count": 16,
   "metadata": {},
   "outputs": [],
   "source": [
    "!echo \"Test file for Python\" >> non_existent_file.txt"
   ]
  },
  {
   "cell_type": "code",
   "execution_count": 21,
   "metadata": {},
   "outputs": [],
   "source": [
    "!rm -rf non_existent_file.txt"
   ]
  },
  {
   "cell_type": "code",
   "execution_count": 22,
   "metadata": {},
   "outputs": [
    {
     "name": "stdout",
     "output_type": "stream",
     "text": [
      "Ошибка: файл не найден\n"
     ]
    }
   ],
   "source": [
    "try:\n",
    "    file = open(\"non_existent_file.txt\")\n",
    "    print(file.read)\n",
    "except FileNotFoundError:\n",
    "    print(\"Ошибка: файл не найден\")"
   ]
  },
  {
   "cell_type": "markdown",
   "metadata": {},
   "source": [
    "## files"
   ]
  },
  {
   "cell_type": "markdown",
   "metadata": {},
   "source": [
    "\n",
    "    read(): Читает весь файл или указанное количество символов.\n",
    "    readline(): Читает одну строку.\n",
    "    readlines(): Читает все строки и возвращает список.\n"
   ]
  },
  {
   "cell_type": "code",
   "execution_count": 24,
   "metadata": {},
   "outputs": [],
   "source": [
    "!echo \"test python file\" >> test.txt"
   ]
  },
  {
   "cell_type": "code",
   "execution_count": 30,
   "metadata": {},
   "outputs": [
    {
     "name": "stdout",
     "output_type": "stream",
     "text": [
      "Дата-инженер в потоке данных,\n",
      "Как капитан — управляет бурей,\n",
      "Скрипты и пайплайны, как сеть паутин,\n",
      "Свяжут мир данных в прочной структуре.\n"
     ]
    }
   ],
   "source": [
    "file = open(\"test.txt\", \"r\")\n",
    "content = file.read()\n",
    "print(content)\n",
    "file.close()"
   ]
  },
  {
   "cell_type": "code",
   "execution_count": 34,
   "metadata": {},
   "outputs": [],
   "source": [
    "file_2 = open(\"test_2.txt\", \"w\")\n",
    "file_2.write(\"Hello Scala from Python\")\n",
    "\n",
    "lines = [\"\\nLine 1\\n\", \"Line 2\\n\", \"Line 3\\n\"]\n",
    "file_2.writelines(lines)\n",
    "file_2.close()"
   ]
  },
  {
   "cell_type": "code",
   "execution_count": 32,
   "metadata": {},
   "outputs": [
    {
     "name": "stdout",
     "output_type": "stream",
     "text": [
      "test_2.txt  test.txt  try_exept.ipynb\n"
     ]
    }
   ],
   "source": [
    "!ls"
   ]
  },
  {
   "cell_type": "code",
   "execution_count": 35,
   "metadata": {},
   "outputs": [
    {
     "name": "stdout",
     "output_type": "stream",
     "text": [
      "Hello Scala from Python\n",
      "Line 1\n",
      "Line 2\n",
      "Line 3\n"
     ]
    }
   ],
   "source": [
    "!cat test_2.txt"
   ]
  },
  {
   "cell_type": "code",
   "execution_count": 36,
   "metadata": {},
   "outputs": [],
   "source": [
    "# дописать в конец\n",
    "file_2 = open(\"test_2.txt\", \"a\")\n",
    "file_2.write(\"\\nHello Python from Scala!\")\n",
    "file_2.close()"
   ]
  },
  {
   "cell_type": "code",
   "execution_count": 37,
   "metadata": {},
   "outputs": [
    {
     "name": "stdout",
     "output_type": "stream",
     "text": [
      "Hello Scala from Python\n",
      "Line 1\n",
      "Line 2\n",
      "Line 3\n",
      "\n",
      "Hello Python from Scala!"
     ]
    }
   ],
   "source": [
    "!cat test_2.txt"
   ]
  },
  {
   "cell_type": "code",
   "execution_count": null,
   "metadata": {},
   "outputs": [],
   "source": []
  },
  {
   "cell_type": "code",
   "execution_count": 38,
   "metadata": {},
   "outputs": [
    {
     "name": "stdout",
     "output_type": "stream",
     "text": [
      "Файл не найден. Создаем файл и записываем данные.\n",
      "Файл создан и заполнен.\n"
     ]
    }
   ],
   "source": [
    "try:\n",
    "    # Пытаемся открыть и прочитать файл\n",
    "    with open(\"data.txt\", \"r\") as file:\n",
    "        content = file.read()\n",
    "        print(\"Содержимое файла:\")\n",
    "        print(content)\n",
    "except FileNotFoundError:\n",
    "    # Обработка, если файла нет\n",
    "    print(\"Файл не найден. Создаем файл и записываем данные.\")\n",
    "    with open(\"data.txt\", \"w\") as file:\n",
    "        file.write(\"Привет! Это первый текст в файле.\")\n",
    "    print(\"Файл создан и заполнен.\")\n",
    "except Exception as e:\n",
    "    # Обработка всех других возможных ошибок\n",
    "    print(\"Произошла ошибка:\", e)"
   ]
  },
  {
   "cell_type": "code",
   "execution_count": 39,
   "metadata": {},
   "outputs": [
    {
     "name": "stdout",
     "output_type": "stream",
     "text": [
      "data.txt  test_2.txt  test.txt\ttry_exept.ipynb\n"
     ]
    }
   ],
   "source": [
    "!ls"
   ]
  },
  {
   "cell_type": "code",
   "execution_count": 40,
   "metadata": {},
   "outputs": [
    {
     "name": "stdout",
     "output_type": "stream",
     "text": [
      "Привет! Это первый текст в файле."
     ]
    }
   ],
   "source": [
    "!cat data.txt"
   ]
  }
 ],
 "metadata": {
  "kernelspec": {
   "display_name": "Python 3 (ipykernel)",
   "language": "python",
   "name": "python3"
  },
  "language_info": {
   "codemirror_mode": {
    "name": "ipython",
    "version": 3
   },
   "file_extension": ".py",
   "mimetype": "text/x-python",
   "name": "python",
   "nbconvert_exporter": "python",
   "pygments_lexer": "ipython3",
   "version": "3.10.12"
  }
 },
 "nbformat": 4,
 "nbformat_minor": 4
}
