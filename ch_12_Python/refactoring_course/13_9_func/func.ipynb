{
 "cells": [
  {
   "cell_type": "code",
   "execution_count": 3,
   "metadata": {},
   "outputs": [],
   "source": [
    "def mult():\n",
    "    return 10 ** 2"
   ]
  },
  {
   "cell_type": "code",
   "execution_count": 9,
   "metadata": {
    "collapsed": false,
    "jupyter": {
     "outputs_hidden": false
    }
   },
   "outputs": [],
   "source": [
    "# присваивание переменной вызова функции\n",
    "test_f = mult()"
   ]
  },
  {
   "cell_type": "code",
   "execution_count": 10,
   "metadata": {
    "collapsed": false,
    "jupyter": {
     "outputs_hidden": false
    }
   },
   "outputs": [
    {
     "data": {
      "text/plain": [
       "int"
      ]
     },
     "execution_count": 10,
     "metadata": {},
     "output_type": "execute_result"
    }
   ],
   "source": [
    "type(test_f)"
   ]
  },
  {
   "cell_type": "code",
   "execution_count": 11,
   "metadata": {
    "collapsed": false,
    "jupyter": {
     "outputs_hidden": false
    }
   },
   "outputs": [
    {
     "name": "stdout",
     "output_type": "stream",
     "text": [
      "<class 'int'>\n",
      "<class 'int'>\n",
      "<class 'int'>\n"
     ]
    }
   ],
   "source": [
    "def greet():\n",
    "    a = 10\n",
    "    b = 20\n",
    "    c = 30\n",
    "    return a, b, c\n",
    "\n",
    "result1, result2, result3 = greet()\n",
    "print(type(result1))\n",
    "print(type(result2))\n",
    "print(type(result3))"
   ]
  },
  {
   "cell_type": "code",
   "execution_count": 17,
   "metadata": {
    "collapsed": false,
    "jupyter": {
     "outputs_hidden": false
    }
   },
   "outputs": [
    {
     "name": "stdout",
     "output_type": "stream",
     "text": [
      "45\n"
     ]
    }
   ],
   "source": [
    "# из функции просто так не поменять значение глобальной переменной\n",
    "abc = 45\n",
    "def greet():\n",
    "    abc = abc + 60\n",
    "    return abc\n",
    "\n",
    "print(abc)"
   ]
  },
  {
   "cell_type": "code",
   "execution_count": 25,
   "metadata": {
    "collapsed": false,
    "jupyter": {
     "outputs_hidden": false
    }
   },
   "outputs": [
    {
     "name": "stdout",
     "output_type": "stream",
     "text": [
      "20\n",
      "20\n"
     ]
    }
   ],
   "source": [
    "# То есть каждый раз, если Вы хотите внутри локального тела функции, изменить значение глобальной переменной, \n",
    "# необходимо явно сказать программе об этом. \n",
    "a = 10\n",
    "def change():\n",
    "    global a # Указываем, что будем использовать глобальную переменную a\n",
    "    a = a + 10\n",
    "    return a\n",
    "    \n",
    "print(change())\n",
    "print(a)"
   ]
  },
  {
   "cell_type": "code",
   "execution_count": 26,
   "metadata": {},
   "outputs": [
    {
     "name": "stdout",
     "output_type": "stream",
     "text": [
      "Привет, Алиса! Тебе 25 лет.\n"
     ]
    }
   ],
   "source": [
    "# Позиционные параметры\n",
    "def greet(name, age):\n",
    "    print(f\"Привет, {name}! Тебе {age} лет.\")\n",
    "\n",
    "greet(\"Алиса\", 25)  # Привет, Алиса! Тебе 25 лет."
   ]
  },
  {
   "cell_type": "code",
   "execution_count": 27,
   "metadata": {},
   "outputs": [
    {
     "name": "stdout",
     "output_type": "stream",
     "text": [
      "Привет, Алиса! Тебе 18 лет.\n",
      "Привет, Боб! Тебе 25 лет.\n"
     ]
    }
   ],
   "source": [
    "# Значения по умолчанию\n",
    "def greet(name, age=18):\n",
    "    print(f\"Привет, {name}! Тебе {age} лет.\")\n",
    "\n",
    "greet(\"Алиса\")       # Привет, Алиса! Тебе 18 лет.\n",
    "greet(\"Боб\", 25)     # Привет, Боб! Тебе 25 лет."
   ]
  },
  {
   "cell_type": "code",
   "execution_count": 28,
   "metadata": {},
   "outputs": [
    {
     "data": {
      "text/plain": [
       "24"
      ]
     },
     "execution_count": 28,
     "metadata": {},
     "output_type": "execute_result"
    }
   ],
   "source": [
    "# Позиционные аргументы переменной длины\n",
    "# Используя *args, можно передавать любое количество позиционных аргументов. Эти аргументы будут упакованы в кортеж.\n",
    "\n",
    "def add(*args):\n",
    "    return sum(args)\n",
    "\n",
    "add(2, 4, 8, 10) # 24\n"
   ]
  },
  {
   "cell_type": "code",
   "execution_count": 31,
   "metadata": {},
   "outputs": [
    {
     "name": "stdout",
     "output_type": "stream",
     "text": [
      "name: Lisa\n",
      "age: 35\n",
      "city: Stavropol\n"
     ]
    }
   ],
   "source": [
    "# Именованные аргументы переменной длины\n",
    "# С помощью **kwargs можно передавать переменное количество именованных аргументов. \n",
    "# Эти аргументы будут упакованы в словарь.\n",
    "def people(**kwargs):\n",
    "    for key, value in kwargs.items():\n",
    "        print(f\"{key}: {value}\")\n",
    "people(name=\"Lisa\", age=35, city=\"Stavropol\")    "
   ]
  },
  {
   "cell_type": "code",
   "execution_count": null,
   "metadata": {},
   "outputs": [],
   "source": []
  },
  {
   "cell_type": "code",
   "execution_count": 52,
   "metadata": {},
   "outputs": [
    {
     "name": "stdout",
     "output_type": "stream",
     "text": [
      "8\n",
      "7\n",
      "6\n",
      "5\n",
      "4\n",
      "3\n",
      "2\n"
     ]
    },
    {
     "data": {
      "text/plain": [
       "40320"
      ]
     },
     "execution_count": 52,
     "metadata": {},
     "output_type": "execute_result"
    }
   ],
   "source": [
    "# Факториал числа n (обозначается как n!) — это произведение всех положительных чисел от 1 до n\n",
    "def factorial(n):\n",
    "    if n == 1:\n",
    "        return 1\n",
    "    else:\n",
    "        print(n)\n",
    "        return n * factorial(n - 1) # Рекурсивный вызов\n",
    "\n",
    "factorial(8) # 40320"
   ]
  },
  {
   "cell_type": "code",
   "execution_count": 48,
   "metadata": {},
   "outputs": [
    {
     "name": "stdout",
     "output_type": "stream",
     "text": [
      "> 4\n",
      "> 3\n",
      "> 2\n",
      "> 1\n",
      "> 0\n",
      "> 1\n",
      "> 2\n",
      "> 1\n",
      "> 0\n",
      "3\n"
     ]
    }
   ],
   "source": [
    "# Числа Фибоначчи – это ряд чисел, в котором каждое следующее число равно сумме двух предыдущих.\n",
    "def fibonacci(n):\n",
    "    print(\">\", n)\n",
    "    if n == 0:          # Базовый случай 1\n",
    "        return 0\n",
    "    elif n == 1:        # Базовый случай 2\n",
    "        return 1\n",
    "    else:\n",
    "        return fibonacci(n - 1) + fibonacci(n - 2)  # Рекурсивный вызов\n",
    "\n",
    "print(fibonacci(4))  # Вывод: 8"
   ]
  }
 ],
 "metadata": {
  "kernelspec": {
   "display_name": "Python 3 (ipykernel)",
   "language": "python",
   "name": "python3"
  },
  "language_info": {
   "codemirror_mode": {
    "name": "ipython",
    "version": 3
   },
   "file_extension": ".py",
   "mimetype": "text/x-python",
   "name": "python",
   "nbconvert_exporter": "python",
   "pygments_lexer": "ipython3",
   "version": "3.10.12"
  }
 },
 "nbformat": 4,
 "nbformat_minor": 4
}
