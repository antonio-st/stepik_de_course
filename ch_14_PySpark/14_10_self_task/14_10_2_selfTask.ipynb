{
 "cells": [
  {
   "cell_type": "code",
   "execution_count": 1,
   "id": "0aa8a91d-b2ea-41c9-99be-6a4e609e60ba",
   "metadata": {},
   "outputs": [
    {
     "name": "stderr",
     "output_type": "stream",
     "text": [
      "Setting default log level to \"WARN\".\n",
      "To adjust logging level use sc.setLogLevel(newLevel). For SparkR, use setLogLevel(newLevel).\n"
     ]
    }
   ],
   "source": [
    "from pyspark import SparkContext, SparkConf\n",
    "from pyspark.sql import SparkSession,DataFrame\n",
    "from pyspark.sql.functions import col, round, to_date, year, month, sum, avg\n",
    "\n",
    "conf = (\n",
    "     SparkConf()\n",
    "    .setAppName('Simple_Spark')\n",
    "    .setMaster('local[*]')\n",
    ")\n",
    "\n",
    "\n",
    "# Spark сессия\n",
    "spark = (\n",
    "    SparkSession\n",
    "    .builder\n",
    "    .config(conf=conf)\n",
    "    # .enableHiveSupport()\n",
    "    .getOrCreate()\n",
    ")"
   ]
  },
  {
   "cell_type": "code",
   "execution_count": 2,
   "id": "3b5e63e8-d5fb-401a-9746-ca2913e4400a",
   "metadata": {},
   "outputs": [
    {
     "name": "stdout",
     "output_type": "stream",
     "text": [
      "Found 5 items\n",
      "-rw-r-----   3 akbogdanov hdfs      7.5 M 2024-04-15 16:09 data_sets/airport-codes.csv\n",
      "-rw-r-----   3 akbogdanov hdfs        314 2024-09-06 11:11 data_sets/authors.csv\n",
      "-rw-r-----   3 akbogdanov hdfs        824 2024-09-06 11:11 data_sets/books.csv\n",
      "-rw-r--r--   3 akbogdanov hdfs      2.1 K 2023-09-04 22:22 data_sets/speech_ivr.csv\n",
      "-rw-r-----   3 akbogdanov hdfs     75.1 K 2024-09-05 16:21 data_sets/weather_data.csv\n"
     ]
    }
   ],
   "source": [
    "!hdfs dfs -ls -h ./data_sets/"
   ]
  },
  {
   "cell_type": "code",
   "execution_count": 4,
   "id": "7f318efc-8dcf-4457-b911-04578938c049",
   "metadata": {},
   "outputs": [
    {
     "name": "stderr",
     "output_type": "stream",
     "text": [
      "                                                                                \r"
     ]
    },
    {
     "name": "stdout",
     "output_type": "stream",
     "text": [
      "+---------+---------+----------+---------+\n",
      "|author_id|     name|birth_date|  country|\n",
      "+---------+---------+----------+---------+\n",
      "|        1| Author_1|1960-12-31|    India|\n",
      "|        2| Author_2|1965-12-31|   Canada|\n",
      "|        3| Author_3|1970-12-31|      USA|\n",
      "|        4| Author_4|1975-12-31|       UK|\n",
      "|        5| Author_5|1980-12-31|      USA|\n",
      "|        6| Author_6|1985-12-31|      USA|\n",
      "|        7| Author_7|1990-12-31|      USA|\n",
      "|        8| Author_8|1995-12-31|Australia|\n",
      "|        9| Author_9|2000-12-31|Australia|\n",
      "|       10|Author_10|2005-12-31|    India|\n",
      "+---------+---------+----------+---------+\n",
      "\n"
     ]
    }
   ],
   "source": [
    "author_df = spark.read.csv(\"./data_sets/authors.csv\", header=True)\n",
    "author_df.show()"
   ]
  },
  {
   "cell_type": "code",
   "execution_count": 5,
   "id": "4fab3428-42c8-4401-9ea1-32bda86fb84b",
   "metadata": {},
   "outputs": [
    {
     "name": "stdout",
     "output_type": "stream",
     "text": [
      "+-------+-------+---------+-----------+-----+------------+\n",
      "|book_id|  title|author_id|      genre|price|publish_date|\n",
      "+-------+-------+---------+-----------+-----+------------+\n",
      "|      1| Book_1|        2|    Mystery|73.57|  1980-12-31|\n",
      "|      2| Book_2|        1|Non-Fiction| 41.1|  1982-12-31|\n",
      "|      3| Book_3|       10|    Fiction|10.63|  1984-12-31|\n",
      "|      4| Book_4|        9|Non-Fiction|46.31|  1986-12-31|\n",
      "|      5| Book_5|        7|    Science|31.13|  1988-12-31|\n",
      "|      6| Book_6|        4|Non-Fiction| 83.7|  1990-12-31|\n",
      "|      7| Book_7|        6|Non-Fiction|40.36|  1992-12-31|\n",
      "|      8| Book_8|        2|Non-Fiction|84.48|  1994-12-31|\n",
      "|      9| Book_9|        7|    Fantasy|10.05|  1996-12-31|\n",
      "|     10|Book_10|        2|    Science| 37.7|  1998-12-31|\n",
      "|     11|Book_11|       10|Non-Fiction| 31.7|  2000-12-31|\n",
      "|     12|Book_12|        8|Non-Fiction|31.02|  2002-12-31|\n",
      "|     13|Book_13|        8|Non-Fiction|16.14|  2004-12-31|\n",
      "|     14|Book_14|        1|    Fiction|26.84|  2006-12-31|\n",
      "|     15|Book_15|        8|    Fantasy| 60.0|  2008-12-31|\n",
      "|     16|Book_16|        2|    Fiction|36.22|  2010-12-31|\n",
      "|     17|Book_17|        6|    Fantasy|47.57|  2012-12-31|\n",
      "|     18|Book_18|        1|Non-Fiction|43.92|  2014-12-31|\n",
      "|     19|Book_19|        5|    Science|88.83|  2016-12-31|\n",
      "|     20|Book_20|        7|    Mystery|91.48|  2018-12-31|\n",
      "+-------+-------+---------+-----------+-----+------------+\n",
      "\n"
     ]
    }
   ],
   "source": [
    "books_df = spark.read.csv(\"./data_sets/books.csv\", header=True)\n",
    "books_df.show()"
   ]
  },
  {
   "cell_type": "code",
   "execution_count": 15,
   "id": "574e1fb7-9f0c-49e0-a9a9-9099b01f4dc3",
   "metadata": {},
   "outputs": [
    {
     "name": "stdout",
     "output_type": "stream",
     "text": [
      "root\n",
      " |-- author_id: string (nullable = true)\n",
      " |-- name: string (nullable = true)\n",
      " |-- birth_date: date (nullable = true)\n",
      " |-- country: string (nullable = true)\n",
      "\n"
     ]
    }
   ],
   "source": [
    "# Преобразуйте столбцы publish_date и birth_date в формат даты.\n",
    "\n",
    "author_tr_df = (author_df\n",
    ".withColumn(\"birth_date\", to_date(col(\"birth_date\")))\n",
    ")\n",
    "author_tr_df.printSchema()"
   ]
  },
  {
   "cell_type": "code",
   "execution_count": 16,
   "id": "57f56604-8a0b-4514-bf9f-0070a2a1fb51",
   "metadata": {},
   "outputs": [
    {
     "name": "stdout",
     "output_type": "stream",
     "text": [
      "root\n",
      " |-- book_id: string (nullable = true)\n",
      " |-- title: string (nullable = true)\n",
      " |-- author_id: string (nullable = true)\n",
      " |-- genre: string (nullable = true)\n",
      " |-- price: double (nullable = true)\n",
      " |-- publish_date: date (nullable = true)\n",
      "\n"
     ]
    }
   ],
   "source": [
    "books_tr_df = (books_df\n",
    ".withColumn(\"publish_date\", to_date(col(\"publish_date\")))\n",
    ".withColumn(\"price\", col(\"price\").cast(\"Double\"))\n",
    ")\n",
    "books_tr_df.printSchema()"
   ]
  },
  {
   "cell_type": "code",
   "execution_count": 17,
   "id": "d4618de8-3cca-46b9-b2f9-254e5c3d8913",
   "metadata": {},
   "outputs": [
    {
     "name": "stdout",
     "output_type": "stream",
     "text": [
      "+---------+---------+----------+---------+-------+-------+---------+-----------+-----+------------+\n",
      "|author_id|     name|birth_date|  country|book_id|  title|author_id|      genre|price|publish_date|\n",
      "+---------+---------+----------+---------+-------+-------+---------+-----------+-----+------------+\n",
      "|        2| Author_2|1965-12-31|   Canada|      1| Book_1|        2|    Mystery|73.57|  1980-12-31|\n",
      "|        1| Author_1|1960-12-31|    India|      2| Book_2|        1|Non-Fiction| 41.1|  1982-12-31|\n",
      "|       10|Author_10|2005-12-31|    India|      3| Book_3|       10|    Fiction|10.63|  1984-12-31|\n",
      "|        9| Author_9|2000-12-31|Australia|      4| Book_4|        9|Non-Fiction|46.31|  1986-12-31|\n",
      "|        7| Author_7|1990-12-31|      USA|      5| Book_5|        7|    Science|31.13|  1988-12-31|\n",
      "|        4| Author_4|1975-12-31|       UK|      6| Book_6|        4|Non-Fiction| 83.7|  1990-12-31|\n",
      "|        6| Author_6|1985-12-31|      USA|      7| Book_7|        6|Non-Fiction|40.36|  1992-12-31|\n",
      "|        2| Author_2|1965-12-31|   Canada|      8| Book_8|        2|Non-Fiction|84.48|  1994-12-31|\n",
      "|        7| Author_7|1990-12-31|      USA|      9| Book_9|        7|    Fantasy|10.05|  1996-12-31|\n",
      "|        2| Author_2|1965-12-31|   Canada|     10|Book_10|        2|    Science| 37.7|  1998-12-31|\n",
      "|       10|Author_10|2005-12-31|    India|     11|Book_11|       10|Non-Fiction| 31.7|  2000-12-31|\n",
      "|        8| Author_8|1995-12-31|Australia|     12|Book_12|        8|Non-Fiction|31.02|  2002-12-31|\n",
      "|        8| Author_8|1995-12-31|Australia|     13|Book_13|        8|Non-Fiction|16.14|  2004-12-31|\n",
      "|        1| Author_1|1960-12-31|    India|     14|Book_14|        1|    Fiction|26.84|  2006-12-31|\n",
      "|        8| Author_8|1995-12-31|Australia|     15|Book_15|        8|    Fantasy| 60.0|  2008-12-31|\n",
      "|        2| Author_2|1965-12-31|   Canada|     16|Book_16|        2|    Fiction|36.22|  2010-12-31|\n",
      "|        6| Author_6|1985-12-31|      USA|     17|Book_17|        6|    Fantasy|47.57|  2012-12-31|\n",
      "|        1| Author_1|1960-12-31|    India|     18|Book_18|        1|Non-Fiction|43.92|  2014-12-31|\n",
      "|        5| Author_5|1980-12-31|      USA|     19|Book_19|        5|    Science|88.83|  2016-12-31|\n",
      "|        7| Author_7|1990-12-31|      USA|     20|Book_20|        7|    Mystery|91.48|  2018-12-31|\n",
      "+---------+---------+----------+---------+-------+-------+---------+-----------+-----+------------+\n",
      "\n"
     ]
    }
   ],
   "source": [
    "# Объедините таблицы books и authors по author_id\n",
    "\n",
    "library_df = (\n",
    "    author_tr_df.alias(\"a\")\n",
    "    .join(books_tr_df.alias(\"b\"), col(\"a.author_id\") == col(\"b.author_id\"))\n",
    ")\n",
    "library_df.show()"
   ]
  },
  {
   "cell_type": "code",
   "execution_count": 18,
   "id": "a3a99dab-1de4-481a-8348-6a89b3ef13ce",
   "metadata": {},
   "outputs": [
    {
     "name": "stdout",
     "output_type": "stream",
     "text": [
      "+--------+-------+\n",
      "|    name|revenue|\n",
      "+--------+-------+\n",
      "|Author_2| 231.97|\n",
      "|Author_7| 132.66|\n",
      "|Author_1| 111.86|\n",
      "|Author_8| 107.16|\n",
      "|Author_5|  88.83|\n",
      "+--------+-------+\n",
      "\n"
     ]
    }
   ],
   "source": [
    "# Найдите топ-5 авторов, книги которых принесли наибольшую выручку.\n",
    "(library_df\n",
    " .groupby(\"name\")\n",
    " .agg(sum(col(\"price\")).alias(\"revenue\"))\n",
    " .select(\"name\", \"revenue\")\n",
    " .orderBy(col(\"revenue\").desc())\n",
    " .limit(5)\n",
    " .show()\n",
    ")\n"
   ]
  },
  {
   "cell_type": "code",
   "execution_count": 22,
   "id": "b53eb98e-96ca-483c-8f01-fccbc0320773",
   "metadata": {},
   "outputs": [
    {
     "name": "stdout",
     "output_type": "stream",
     "text": [
      "+-----------+-----+\n",
      "|      genre|count|\n",
      "+-----------+-----+\n",
      "|Non-Fiction|    9|\n",
      "|    Science|    3|\n",
      "|    Fiction|    3|\n",
      "|    Fantasy|    3|\n",
      "|    Mystery|    2|\n",
      "+-----------+-----+\n",
      "\n"
     ]
    }
   ],
   "source": [
    "# Найдите количество книг в каждом жанре\n",
    "(\n",
    "    library_df\n",
    "    .groupBy(\"genre\")\n",
    "    .count()\n",
    "    .orderBy(col(\"count\").desc())\n",
    "    .show()\n",
    ")"
   ]
  },
  {
   "cell_type": "code",
   "execution_count": 24,
   "id": "5a29e544-8bce-4d6c-849f-6fab3f5ef075",
   "metadata": {},
   "outputs": [
    {
     "name": "stdout",
     "output_type": "stream",
     "text": [
      "+---------+-----------------+\n",
      "|     name|        avg_price|\n",
      "+---------+-----------------+\n",
      "| Author_5|            88.83|\n",
      "| Author_4|             83.7|\n",
      "| Author_2|          57.9925|\n",
      "| Author_9|            46.31|\n",
      "| Author_7|            44.22|\n",
      "| Author_6|           43.965|\n",
      "| Author_1|37.28666666666667|\n",
      "| Author_8|            35.72|\n",
      "|Author_10|           21.165|\n",
      "+---------+-----------------+\n",
      "\n"
     ]
    },
    {
     "name": "stderr",
     "output_type": "stream",
     "text": [
      "                                                                                \r"
     ]
    }
   ],
   "source": [
    "# Подсчитайте среднюю цену книг по каждому автору\n",
    "(\n",
    "    library_df\n",
    "    .groupBy(\"name\")\n",
    "    .agg(avg(col(\"price\")).alias(\"avg_price\"))\n",
    "    .orderBy(col(\"avg_price\").desc())\n",
    "    .show()\n",
    ")\n"
   ]
  },
  {
   "cell_type": "code",
   "execution_count": 27,
   "id": "3526e4a9-73c8-46b6-92c3-32e52a2c8ffc",
   "metadata": {},
   "outputs": [
    {
     "name": "stdout",
     "output_type": "stream",
     "text": [
      "+---------+---------+----------+---------+-------+-------+---------+-----------+-----+------------+\n",
      "|author_id|     name|birth_date|  country|book_id|  title|author_id|      genre|price|publish_date|\n",
      "+---------+---------+----------+---------+-------+-------+---------+-----------+-----+------------+\n",
      "|        7| Author_7|1990-12-31|      USA|     20|Book_20|        7|    Mystery|91.48|  2018-12-31|\n",
      "|        5| Author_5|1980-12-31|      USA|     19|Book_19|        5|    Science|88.83|  2016-12-31|\n",
      "|        8| Author_8|1995-12-31|Australia|     15|Book_15|        8|    Fantasy| 60.0|  2008-12-31|\n",
      "|        6| Author_6|1985-12-31|      USA|     17|Book_17|        6|    Fantasy|47.57|  2012-12-31|\n",
      "|        1| Author_1|1960-12-31|    India|     18|Book_18|        1|Non-Fiction|43.92|  2014-12-31|\n",
      "|        2| Author_2|1965-12-31|   Canada|     16|Book_16|        2|    Fiction|36.22|  2010-12-31|\n",
      "|       10|Author_10|2005-12-31|    India|     11|Book_11|       10|Non-Fiction| 31.7|  2000-12-31|\n",
      "|        8| Author_8|1995-12-31|Australia|     12|Book_12|        8|Non-Fiction|31.02|  2002-12-31|\n",
      "|        1| Author_1|1960-12-31|    India|     14|Book_14|        1|    Fiction|26.84|  2006-12-31|\n",
      "|        8| Author_8|1995-12-31|Australia|     13|Book_13|        8|Non-Fiction|16.14|  2004-12-31|\n",
      "+---------+---------+----------+---------+-------+-------+---------+-----------+-----+------------+\n",
      "\n"
     ]
    }
   ],
   "source": [
    "# Найдите книги, опубликованные после 2000 года, и отсортируйте их по цене.\n",
    "\n",
    "(\n",
    "    library_df\n",
    "    .filter(year(col(\"publish_date\")) >= 2000)\n",
    "    .orderBy(col(\"price\").desc())\n",
    "    .show()\n",
    ")"
   ]
  },
  {
   "cell_type": "code",
   "execution_count": 28,
   "id": "3614d2f0-c838-4fcf-b33a-4d99f1c5558e",
   "metadata": {},
   "outputs": [],
   "source": [
    "spark.stop()"
   ]
  }
 ],
 "metadata": {
  "kernelspec": {
   "display_name": "Python 3 (ipykernel)",
   "language": "python",
   "name": "python3"
  },
  "language_info": {
   "codemirror_mode": {
    "name": "ipython",
    "version": 3
   },
   "file_extension": ".py",
   "mimetype": "text/x-python",
   "name": "python",
   "nbconvert_exporter": "python",
   "pygments_lexer": "ipython3",
   "version": "3.10.11"
  }
 },
 "nbformat": 4,
 "nbformat_minor": 5
}
