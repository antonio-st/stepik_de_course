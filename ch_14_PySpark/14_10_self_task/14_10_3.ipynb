{
 "cells": [
  {
   "cell_type": "code",
   "execution_count": 1,
   "id": "d790a501-645d-4e02-ab10-79e468dd01a4",
   "metadata": {},
   "outputs": [
    {
     "name": "stderr",
     "output_type": "stream",
     "text": [
      "Setting default log level to \"WARN\".\n",
      "To adjust logging level use sc.setLogLevel(newLevel). For SparkR, use setLogLevel(newLevel).\n"
     ]
    }
   ],
   "source": [
    "# Самостоятельное задание  №3. Фильмы и актеры. С использованием временных таблиц и SQL\n",
    "\n",
    "from pyspark import SparkContext, SparkConf\n",
    "from pyspark.sql import SparkSession,DataFrame\n",
    "from pyspark.sql.functions import col, round, to_date, year, month, sum, avg\n",
    "\n",
    "conf = (\n",
    "     SparkConf()\n",
    "    .setAppName('Simple_Spark')\n",
    "    .setMaster('local[*]')\n",
    ")\n",
    "\n",
    "\n",
    "# Spark сессия\n",
    "spark = (\n",
    "    SparkSession\n",
    "    .builder\n",
    "    .config(conf=conf)\n",
    "    # .enableHiveSupport()\n",
    "    .getOrCreate()\n",
    ")"
   ]
  },
  {
   "cell_type": "code",
   "execution_count": 2,
   "id": "bcc4971f-2623-4f65-92bd-03f5a0412001",
   "metadata": {},
   "outputs": [
    {
     "name": "stdout",
     "output_type": "stream",
     "text": [
      "Found 8 items\n",
      "-rw-r-----   3 akbogdanov hdfs        869 2024-09-06 12:21 data_sets/actors.csv\n",
      "-rw-r-----   3 akbogdanov hdfs      7.5 M 2024-04-15 16:09 data_sets/airport-codes.csv\n",
      "-rw-r-----   3 akbogdanov hdfs        314 2024-09-06 11:11 data_sets/authors.csv\n",
      "-rw-r-----   3 akbogdanov hdfs        824 2024-09-06 11:11 data_sets/books.csv\n",
      "-rw-r-----   3 akbogdanov hdfs        283 2024-09-06 12:20 data_sets/movie_actors.csv\n",
      "-rw-r-----   3 akbogdanov hdfs        854 2024-09-06 12:21 data_sets/movies.csv\n",
      "-rw-r--r--   3 akbogdanov hdfs      2.1 K 2023-09-04 22:22 data_sets/speech_ivr.csv\n",
      "-rw-r-----   3 akbogdanov hdfs     75.1 K 2024-09-05 16:21 data_sets/weather_data.csv\n"
     ]
    }
   ],
   "source": [
    "!hdfs dfs -ls -h ./data_sets"
   ]
  },
  {
   "cell_type": "markdown",
   "id": "6ce76ecf-3b85-4bbf-b7e3-cf2ea3e50f4b",
   "metadata": {},
   "source": [
    "### Подготовка таблицы movies"
   ]
  },
  {
   "cell_type": "code",
   "execution_count": 21,
   "id": "362ab9c8-3b71-4507-85bb-403581502fc8",
   "metadata": {},
   "outputs": [
    {
     "name": "stdout",
     "output_type": "stream",
     "text": [
      "+--------+--------+------+------------+-------------+\n",
      "|movie_id|   title| genre|release_date|       budget|\n",
      "+--------+--------+------+------------+-------------+\n",
      "|       1| Movie_1|Horror|  2000-12-31|8.660058311E7|\n",
      "|       2| Movie_2|Comedy|  2001-12-31|1.274740083E7|\n",
      "|       3| Movie_3|Action|  2002-12-31| 1.80157747E7|\n",
      "|       4| Movie_4| Drama|  2003-12-31|4.817612061E7|\n",
      "|       5| Movie_5| Drama|  2004-12-31| 7.40501611E7|\n",
      "|       6| Movie_6|Action|  2005-12-31|1.476121831E7|\n",
      "|       7| Movie_7| Drama|  2006-12-31|4.456703643E7|\n",
      "|       8| Movie_8| Drama|  2007-12-31|4.880227617E7|\n",
      "|       9| Movie_9|Action|  2008-12-31|2.201627853E7|\n",
      "|      10|Movie_10|Action|  2009-12-31|1.244027929E7|\n",
      "|      11|Movie_11|Comedy|  2010-12-31|8.380567138E7|\n",
      "|      12|Movie_12|Comedy|  2011-12-31|5.074409933E7|\n",
      "|      13|Movie_13|Action|  2012-12-31|   2423742.36|\n",
      "|      14|Movie_14|Sci-Fi|  2013-12-31|8.049514883E7|\n",
      "|      15|Movie_15| Drama|  2014-12-31|9.809858674E7|\n",
      "|      16|Movie_16|Comedy|  2015-12-31|6.098669335E7|\n",
      "|      17|Movie_17| Drama|  2016-12-31|5.086713032E7|\n",
      "|      18|Movie_18|Horror|  2017-12-31|8.796317044E7|\n",
      "|      19|Movie_19|Action|  2018-12-31|9.529916218E7|\n",
      "|      20|Movie_20|Sci-Fi|  2019-12-31|7.569915467E7|\n",
      "+--------+--------+------+------------+-------------+\n",
      "\n"
     ]
    }
   ],
   "source": [
    "movies_data = spark.read.csv(\"./data_sets/movies.csv\", header=True)\n",
    "movies_df = (movies_data\n",
    "    .withColumn(\"budget\", col(\"budget\").cast(\"Double\"))\n",
    "    .withColumn(\"release_date\", to_date(col(\"release_date\")))\n",
    "            )\n",
    "movies_df.show()\n",
    "movies_df.createOrReplaceTempView(\"movies\")"
   ]
  },
  {
   "cell_type": "code",
   "execution_count": 22,
   "id": "72fca618-3c96-4fcb-a370-56d221ba8122",
   "metadata": {},
   "outputs": [
    {
     "name": "stdout",
     "output_type": "stream",
     "text": [
      "root\n",
      " |-- movie_id: string (nullable = true)\n",
      " |-- title: string (nullable = true)\n",
      " |-- genre: string (nullable = true)\n",
      " |-- release_date: date (nullable = true)\n",
      " |-- budget: double (nullable = true)\n",
      "\n"
     ]
    }
   ],
   "source": [
    "movies_df.printSchema()"
   ]
  },
  {
   "cell_type": "markdown",
   "id": "73792646-36eb-4ed7-8269-cef9212db238",
   "metadata": {},
   "source": [
    "### Подготовка таблицы actors"
   ]
  },
  {
   "cell_type": "code",
   "execution_count": 16,
   "id": "2b70c648-602e-4ecf-ad6e-d2b438717aec",
   "metadata": {},
   "outputs": [
    {
     "name": "stdout",
     "output_type": "stream",
     "text": [
      "+--------+--------+----------+---------+\n",
      "|actor_id|    name|birth_date|  country|\n",
      "+--------+--------+----------+---------+\n",
      "|       1| Actor_1|1960-12-31|   Canada|\n",
      "|       2| Actor_2|1962-12-31|       UK|\n",
      "|       3| Actor_3|1964-12-31|       UK|\n",
      "|       4| Actor_4|1966-12-31|       UK|\n",
      "|       5| Actor_5|1968-12-31|    India|\n",
      "|       6| Actor_6|1970-12-31|      USA|\n",
      "|       7| Actor_7|1972-12-31|    India|\n",
      "|       8| Actor_8|1974-12-31|Australia|\n",
      "|       9| Actor_9|1976-12-31|      USA|\n",
      "|      10|Actor_10|1978-12-31|Australia|\n",
      "|      11|Actor_11|1980-12-31|      USA|\n",
      "|      12|Actor_12|1982-12-31|    India|\n",
      "|      13|Actor_13|1984-12-31|       UK|\n",
      "|      14|Actor_14|1986-12-31|   Canada|\n",
      "|      15|Actor_15|1988-12-31|       UK|\n",
      "|      16|Actor_16|1990-12-31|    India|\n",
      "|      17|Actor_17|1992-12-31|      USA|\n",
      "|      18|Actor_18|1994-12-31|       UK|\n",
      "|      19|Actor_19|1996-12-31|    India|\n",
      "|      20|Actor_20|1998-12-31|Australia|\n",
      "+--------+--------+----------+---------+\n",
      "only showing top 20 rows\n",
      "\n"
     ]
    }
   ],
   "source": [
    "actors_data = spark.read.csv(\"./data_sets/actors.csv\", header=True)\n",
    "actors_df = actors_data.withColumn(\"birth_date\", to_date(col(\"birth_date\")))\n",
    "actors_df.show()\n",
    "actors_df.createOrReplaceTempView(\"actors\")"
   ]
  },
  {
   "cell_type": "code",
   "execution_count": 18,
   "id": "254870c3-ebd4-4642-bc88-984da54439d9",
   "metadata": {},
   "outputs": [
    {
     "name": "stdout",
     "output_type": "stream",
     "text": [
      "root\n",
      " |-- actor_id: string (nullable = true)\n",
      " |-- name: string (nullable = true)\n",
      " |-- birth_date: date (nullable = true)\n",
      " |-- country: string (nullable = true)\n",
      "\n"
     ]
    }
   ],
   "source": [
    "actors_df.printSchema()"
   ]
  },
  {
   "cell_type": "markdown",
   "id": "526f5c07-68b5-4a60-bd7a-32628be72fd8",
   "metadata": {},
   "source": [
    "### Подготовка таблицы movie_actors"
   ]
  },
  {
   "cell_type": "code",
   "execution_count": 23,
   "id": "1f3dc080-70f8-4711-8841-761983a7cbfc",
   "metadata": {},
   "outputs": [
    {
     "name": "stdout",
     "output_type": "stream",
     "text": [
      "+--------+--------+\n",
      "|movie_id|actor_id|\n",
      "+--------+--------+\n",
      "|       1|      25|\n",
      "|      16|       5|\n",
      "|       6|      16|\n",
      "|      16|      11|\n",
      "|      14|      21|\n",
      "|       3|       6|\n",
      "|      15|       9|\n",
      "|       3|      13|\n",
      "|       2|      24|\n",
      "|       1|       8|\n",
      "|       9|      14|\n",
      "|       9|      24|\n",
      "|       7|       1|\n",
      "|       3|      17|\n",
      "|      18|      24|\n",
      "|      11|       5|\n",
      "|       7|      25|\n",
      "|       9|       2|\n",
      "|       1|      25|\n",
      "|      14|      28|\n",
      "+--------+--------+\n",
      "only showing top 20 rows\n",
      "\n"
     ]
    }
   ],
   "source": [
    "movie_actors_df = spark.read.csv(\"./data_sets/movie_actors.csv\", header=True)\n",
    "movie_actors_df.show()\n",
    "movie_actors_df.createOrReplaceTempView(\"movie_actors\")"
   ]
  },
  {
   "cell_type": "code",
   "execution_count": 24,
   "id": "7671f966-1cb8-4e38-94e8-0115e0c27c54",
   "metadata": {},
   "outputs": [
    {
     "name": "stdout",
     "output_type": "stream",
     "text": [
      "root\n",
      " |-- movie_id: string (nullable = true)\n",
      " |-- actor_id: string (nullable = true)\n",
      "\n"
     ]
    }
   ],
   "source": [
    "movie_actors_df.printSchema()"
   ]
  },
  {
   "cell_type": "code",
   "execution_count": 41,
   "id": "e8cc1cac-982e-44f1-8412-c0656f7deab1",
   "metadata": {
    "scrolled": true
   },
   "outputs": [
    {
     "name": "stdout",
     "output_type": "stream",
     "text": [
      "+------+-----------+\n",
      "| genre|count_title|\n",
      "+------+-----------+\n",
      "|Action|          6|\n",
      "| Drama|          4|\n",
      "|Comedy|          4|\n",
      "|Horror|          2|\n",
      "|Sci-Fi|          2|\n",
      "+------+-----------+\n",
      "\n"
     ]
    }
   ],
   "source": [
    "# Найдите топ-5 жанров по количеству фильмов. movies actors movie_actors\n",
    "\n",
    "spark.sql(\"\"\"\n",
    "SELECT m.genre\n",
    "        ,COUNT(DISTINCT(title)) count_title\n",
    "FROM movies m\n",
    "JOIN movie_actors ma ON ma.movie_id = m.movie_id\n",
    "JOIN actors a ON a.actor_id = ma.actor_id\n",
    "GROUP BY m.genre\n",
    "ORDER BY count_title DESC\n",
    "LIMIT 5\n",
    "\n",
    "\"\"\").show()\n",
    "\n"
   ]
  },
  {
   "cell_type": "code",
   "execution_count": 60,
   "id": "e0e5dc84-87a2-4147-a083-a4abc808c609",
   "metadata": {},
   "outputs": [
    {
     "name": "stdout",
     "output_type": "stream",
     "text": [
      "+--------+-----------+\n",
      "|    name|count_films|\n",
      "+--------+-----------+\n",
      "|Actor_17|          5|\n",
      "+--------+-----------+\n",
      "\n"
     ]
    }
   ],
   "source": [
    "# Найдите актера с наибольшим количеством фильмов\n",
    "spark.sql(\"\"\"\n",
    "SELECT name\n",
    "      ,COUNT(m.movie_id) count_films\n",
    "FROM movies m\n",
    "JOIN movie_actors ma ON ma.movie_id = m.movie_id\n",
    "JOIN actors a ON a.actor_id = ma.actor_id\n",
    "GROUP BY a.name\n",
    "ORDER BY count_films DESC\n",
    "LIMIT 1\n",
    "\n",
    "\"\"\").show()\n"
   ]
  },
  {
   "cell_type": "code",
   "execution_count": 66,
   "id": "e8669d1b-430d-4ae8-ba64-fb0c718d13fd",
   "metadata": {},
   "outputs": [
    {
     "name": "stderr",
     "output_type": "stream",
     "text": [
      "[Stage 176:>                                                        (0 + 1) / 1]\r"
     ]
    },
    {
     "name": "stdout",
     "output_type": "stream",
     "text": [
      "+------+--------------------+\n",
      "| genre|          avg_budget|\n",
      "+------+--------------------+\n",
      "| Drama|6.0427218525000006E7|\n",
      "|Horror|      8.7281876775E7|\n",
      "|Comedy|     5.20709662225E7|\n",
      "|Action|2.7492742561666667E7|\n",
      "|Sci-Fi|       7.809715175E7|\n",
      "+------+--------------------+\n",
      "\n"
     ]
    },
    {
     "name": "stderr",
     "output_type": "stream",
     "text": [
      "                                                                                \r"
     ]
    }
   ],
   "source": [
    "# Подсчитайте средний бюджет фильмов по жанрам.\n",
    "\n",
    "\n",
    "spark.sql(\"\"\"\n",
    "SELECT m.genre\n",
    "        ,AVG(DISTINCT(m.budget)) avg_budget\n",
    "FROM movies m\n",
    "JOIN movie_actors ma ON ma.movie_id = m.movie_id\n",
    "JOIN actors a ON a.actor_id = ma.actor_id\n",
    "GROUP BY m.genre\n",
    "\"\"\").show()\n"
   ]
  },
  {
   "cell_type": "code",
   "execution_count": 76,
   "id": "ffac36ac-bdef-4e8f-8cfc-e2522f4b772c",
   "metadata": {},
   "outputs": [
    {
     "name": "stdout",
     "output_type": "stream",
     "text": [
      "+--------+---------+----------+\n",
      "|   title|  country|num_actors|\n",
      "+--------+---------+----------+\n",
      "| Movie_1|    India|         3|\n",
      "| Movie_7|    India|         2|\n",
      "| Movie_3|      USA|         2|\n",
      "|Movie_10|       UK|         2|\n",
      "|Movie_15|    India|         2|\n",
      "|Movie_18|Australia|         2|\n",
      "| Movie_2|      USA|         2|\n",
      "| Movie_7|      USA|         2|\n",
      "|Movie_10|      USA|         2|\n",
      "+--------+---------+----------+\n",
      "\n"
     ]
    }
   ],
   "source": [
    "# Найдите фильмы, в которых снялось более одного актера из одной страны.\n",
    "\n",
    "spark.sql(\"\"\"\n",
    "SELECT m.title, a.country, COUNT(*) as num_actors\n",
    "FROM movies m\n",
    "JOIN movie_actors ma ON ma.movie_id = m.movie_id\n",
    "JOIN actors a ON a.actor_id = ma.actor_id\n",
    "GROUP BY m.title, a.country\n",
    "HAVING num_actors > 1\n",
    "ORDER BY num_actors DESC\n",
    "\n",
    "\"\"\").show()"
   ]
  },
  {
   "cell_type": "code",
   "execution_count": null,
   "id": "a058aa00-4ec9-4d21-b1b6-cb362a636b93",
   "metadata": {},
   "outputs": [],
   "source": []
  },
  {
   "cell_type": "code",
   "execution_count": null,
   "id": "aa4d7b28-9b88-47bb-94de-6c9ddf9f2d4c",
   "metadata": {},
   "outputs": [],
   "source": []
  },
  {
   "cell_type": "code",
   "execution_count": null,
   "id": "60aecf3a-0909-464e-a527-e1bfe6125d74",
   "metadata": {},
   "outputs": [],
   "source": []
  },
  {
   "cell_type": "code",
   "execution_count": 30,
   "id": "2e0bb7f2-52c9-4d63-96c9-3e05645db2dd",
   "metadata": {},
   "outputs": [
    {
     "name": "stdout",
     "output_type": "stream",
     "text": [
      "+--------+-------+------+------------+-------------+--------+--------+--------+--------+----------+---------+\n",
      "|movie_id|  title| genre|release_date|       budget|movie_id|actor_id|actor_id|    name|birth_date|  country|\n",
      "+--------+-------+------+------------+-------------+--------+--------+--------+--------+----------+---------+\n",
      "|       1|Movie_1|Horror|  2000-12-31|8.660058311E7|       1|      13|      13|Actor_13|1984-12-31|       UK|\n",
      "|       1|Movie_1|Horror|  2000-12-31|8.660058311E7|       1|      16|      16|Actor_16|1990-12-31|    India|\n",
      "|       1|Movie_1|Horror|  2000-12-31|8.660058311E7|       1|      25|      25|Actor_25|2008-12-31|    India|\n",
      "|       1|Movie_1|Horror|  2000-12-31|8.660058311E7|       1|       8|       8| Actor_8|1974-12-31|Australia|\n",
      "|       1|Movie_1|Horror|  2000-12-31|8.660058311E7|       1|      25|      25|Actor_25|2008-12-31|    India|\n",
      "|       2|Movie_2|Comedy|  2001-12-31|1.274740083E7|       2|      17|      17|Actor_17|1992-12-31|      USA|\n",
      "|       2|Movie_2|Comedy|  2001-12-31|1.274740083E7|       2|      17|      17|Actor_17|1992-12-31|      USA|\n",
      "|       2|Movie_2|Comedy|  2001-12-31|1.274740083E7|       2|      24|      24|Actor_24|2006-12-31|Australia|\n",
      "|       3|Movie_3|Action|  2002-12-31| 1.80157747E7|       3|      17|      17|Actor_17|1992-12-31|      USA|\n",
      "|       3|Movie_3|Action|  2002-12-31| 1.80157747E7|       3|      13|      13|Actor_13|1984-12-31|       UK|\n",
      "|       3|Movie_3|Action|  2002-12-31| 1.80157747E7|       3|       6|       6| Actor_6|1970-12-31|      USA|\n",
      "|       4|Movie_4| Drama|  2003-12-31|4.817612061E7|       4|      18|      18|Actor_18|1994-12-31|       UK|\n",
      "|       4|Movie_4| Drama|  2003-12-31|4.817612061E7|       4|      21|      21|Actor_21|2000-12-31|   Canada|\n",
      "|       6|Movie_6|Action|  2005-12-31|1.476121831E7|       6|      24|      24|Actor_24|2006-12-31|Australia|\n",
      "|       6|Movie_6|Action|  2005-12-31|1.476121831E7|       6|      16|      16|Actor_16|1990-12-31|    India|\n",
      "|       7|Movie_7| Drama|  2006-12-31|4.456703643E7|       7|      16|      16|Actor_16|1990-12-31|    India|\n",
      "|       7|Movie_7| Drama|  2006-12-31|4.456703643E7|       7|      17|      17|Actor_17|1992-12-31|      USA|\n",
      "|       7|Movie_7| Drama|  2006-12-31|4.456703643E7|       7|       9|       9| Actor_9|1976-12-31|      USA|\n",
      "|       7|Movie_7| Drama|  2006-12-31|4.456703643E7|       7|      25|      25|Actor_25|2008-12-31|    India|\n",
      "|       7|Movie_7| Drama|  2006-12-31|4.456703643E7|       7|       1|       1| Actor_1|1960-12-31|   Canada|\n",
      "+--------+-------+------+------------+-------------+--------+--------+--------+--------+----------+---------+\n",
      "only showing top 20 rows\n",
      "\n"
     ]
    }
   ],
   "source": [
    "\n",
    "spark.sql(\"\"\"\n",
    "SELECT *\n",
    "FROM movies m\n",
    "JOIN movie_actors ma ON ma.movie_id = m.movie_id\n",
    "JOIN actors a ON a.actor_id = ma.actor_id\n",
    "\n",
    "\"\"\").show()"
   ]
  }
 ],
 "metadata": {
  "kernelspec": {
   "display_name": "PySpark 3.5.1",
   "language": "python",
   "name": "pyspark-3.5.1"
  },
  "language_info": {
   "codemirror_mode": {
    "name": "ipython",
    "version": 3
   },
   "file_extension": ".py",
   "mimetype": "text/x-python",
   "name": "python",
   "nbconvert_exporter": "python",
   "pygments_lexer": "ipython3",
   "version": "3.10.11"
  }
 },
 "nbformat": 4,
 "nbformat_minor": 5
}
