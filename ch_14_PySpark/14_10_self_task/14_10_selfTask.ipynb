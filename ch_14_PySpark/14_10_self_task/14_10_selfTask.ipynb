{
 "cells": [
  {
   "cell_type": "code",
   "execution_count": 20,
   "id": "6cb6f124-9aa3-4ec2-935c-bc50a9d88bcc",
   "metadata": {},
   "outputs": [
    {
     "name": "stderr",
     "output_type": "stream",
     "text": [
      "24/09/06 10:58:38 WARN SparkSession: Using an existing Spark session; only runtime SQL configurations will take effect.\n"
     ]
    }
   ],
   "source": [
    "from pyspark import SparkContext, SparkConf\n",
    "from pyspark.sql import SparkSession,DataFrame\n",
    "from pyspark.sql.functions import col, round, to_date, year, month, sum, avg\n",
    "\n",
    "conf = (\n",
    "     SparkConf()\n",
    "    .setAppName('Simple_Spark')\n",
    "    .setMaster('local[*]')\n",
    ")\n",
    "\n",
    "\n",
    "# Spark сессия\n",
    "spark = (\n",
    "    SparkSession\n",
    "    .builder\n",
    "    .config(conf=conf)\n",
    "    # .enableHiveSupport()\n",
    "    .getOrCreate()\n",
    ")"
   ]
  },
  {
   "cell_type": "code",
   "execution_count": 21,
   "id": "cf9e718f-8547-44e7-b9ba-94bdba29dc85",
   "metadata": {},
   "outputs": [],
   "source": [
    "weather_df = spark.read.csv(\"weather_data.csv\", header=True)\n",
    "weather_col = weather_df.columns"
   ]
  },
  {
   "cell_type": "code",
   "execution_count": 22,
   "id": "7166bb0f-aa25-490d-b514-9f98648d2159",
   "metadata": {},
   "outputs": [
    {
     "data": {
      "text/plain": [
       "['station_id', 'date', 'temperature', 'precipitation', 'wind_speed']"
      ]
     },
     "execution_count": 22,
     "metadata": {},
     "output_type": "execute_result"
    }
   ],
   "source": [
    "weather_col"
   ]
  },
  {
   "cell_type": "code",
   "execution_count": 23,
   "id": "b5796e0b-8f7f-402c-aac2-3c23edc15c99",
   "metadata": {},
   "outputs": [
    {
     "data": {
      "text/plain": [
       "0"
      ]
     },
     "execution_count": 23,
     "metadata": {},
     "output_type": "execute_result"
    }
   ],
   "source": [
    "weather_df.filter(col(\"station_id\").isNull()).count()\n",
    "weather_df.filter(col(\"date\").isNull()).count()\n",
    "weather_df.filter(col(\"temperature\").isNull()).count()\n",
    "weather_df.filter(col(\"precipitation\").isNull()).count()\n",
    "weather_df.filter(col(\"wind_speed\").isNull()).count()\n"
   ]
  },
  {
   "cell_type": "code",
   "execution_count": 24,
   "id": "da46d11c-3ba5-4e6b-9d38-953964c18bd6",
   "metadata": {},
   "outputs": [
    {
     "name": "stdout",
     "output_type": "stream",
     "text": [
      "root\n",
      " |-- station_id: string (nullable = true)\n",
      " |-- date: date (nullable = true)\n",
      " |-- temperature: double (nullable = true)\n",
      " |-- precipitation: string (nullable = true)\n",
      " |-- wind_speed: string (nullable = true)\n",
      "\n"
     ]
    }
   ],
   "source": [
    "# Преобразуйте столбец date в формат даты.\n",
    "weather_format_df = (weather_df\n",
    ".withColumn(\"date\", to_date(col(\"date\")))\n",
    ".withColumn(\"temperature\", col(\"temperature\").cast(\"Double\"))\n",
    ")\n",
    "\n",
    "weather_format_df.printSchema()"
   ]
  },
  {
   "cell_type": "code",
   "execution_count": 25,
   "id": "0c5d5d64-1880-41a2-93f4-fe3f316afced",
   "metadata": {},
   "outputs": [
    {
     "data": {
      "text/plain": [
       "1000"
      ]
     },
     "execution_count": 25,
     "metadata": {},
     "output_type": "execute_result"
    }
   ],
   "source": [
    "weather_df.count()"
   ]
  },
  {
   "cell_type": "code",
   "execution_count": 26,
   "id": "c4a6c548-adb3-41e8-b1bd-5323b7cbb515",
   "metadata": {},
   "outputs": [
    {
     "name": "stdout",
     "output_type": "stream",
     "text": [
      "+----------+------------------+\n",
      "|      date|       temperature|\n",
      "+----------+------------------+\n",
      "|2021-08-20|39.982828249354846|\n",
      "|2023-12-02| 39.96797489293784|\n",
      "|2022-03-28|  39.8246894248997|\n",
      "|2019-02-11| 39.76737697836647|\n",
      "|2020-06-10| 39.69147838355929|\n",
      "+----------+------------------+\n",
      "\n"
     ]
    }
   ],
   "source": [
    "# Найдите топ-5 самых жарких дней за все время наблюдений.\n",
    "(weather_format_df\n",
    ".select(\"date\", \"temperature\")\n",
    ".orderBy(col(\"temperature\").desc())\n",
    ".limit(5)\n",
    ".show()\n",
    ")"
   ]
  },
  {
   "cell_type": "code",
   "execution_count": 27,
   "id": "ec7c75ea-8f02-4c95-bc50-462d3c4e899d",
   "metadata": {},
   "outputs": [
    {
     "name": "stdout",
     "output_type": "stream",
     "text": [
      "+----------+-----------------+\n",
      "|station_id|sum_precipitation|\n",
      "+----------+-----------------+\n",
      "| station_5|642.9302626767898|\n",
      "+----------+-----------------+\n",
      "\n"
     ]
    }
   ],
   "source": [
    "# Найдите метеостанцию с наибольшим количеством осадков за последний год\n",
    "(\n",
    "    weather_format_df\n",
    "    .filter(year(col(\"date\")) == 2023)\n",
    "    .groupBy(\"station_id\")\n",
    "    .agg(sum(col(\"precipitation\")).alias(\"sum_precipitation\"))\n",
    "    .orderBy(col(\"sum_precipitation\").desc())\n",
    "    .limit(1)\n",
    "    .select(\"station_id\", \"sum_precipitation\")\n",
    "    .show()\n",
    ")"
   ]
  },
  {
   "cell_type": "code",
   "execution_count": 28,
   "id": "2591ee89-cdf0-4b64-8c78-af1d1240eb9e",
   "metadata": {},
   "outputs": [
    {
     "name": "stdout",
     "output_type": "stream",
     "text": [
      "+-----+------------------+\n",
      "|month|          avg_temp|\n",
      "+-----+------------------+\n",
      "|    1|11.356518462550754|\n",
      "|    2| 9.067229891101926|\n",
      "|    3| 7.244080205633994|\n",
      "|    4|12.024529009744693|\n",
      "|    5| 9.902883346912718|\n",
      "|    6|13.421092297254138|\n",
      "|    7|6.1857183016954576|\n",
      "|    8|  10.9678002814186|\n",
      "|    9| 9.596744236573942|\n",
      "|   10|  9.09884344821895|\n",
      "|   11| 7.265889994697494|\n",
      "|   12|11.218592100674337|\n",
      "+-----+------------------+\n",
      "\n"
     ]
    }
   ],
   "source": [
    "# Подсчитайте среднюю температуру по месяцам за все время наблюдений.\n",
    "\n",
    "(\n",
    "    weather_format_df\n",
    "    .withColumn(\"month\", month(col(\"date\")))\n",
    "    .groupBy(\"month\")\n",
    "    .agg(avg(\"temperature\").alias(\"avg_temp\"))\n",
    "    .orderBy(\"month\")\n",
    "    .show()\n",
    ")\n"
   ]
  },
  {
   "cell_type": "code",
   "execution_count": 29,
   "id": "d99bc221-ecf1-4d5a-a014-74a14a8b628e",
   "metadata": {},
   "outputs": [],
   "source": [
    "spark.stop()"
   ]
  }
 ],
 "metadata": {
  "kernelspec": {
   "display_name": "PySpark 3.5.1",
   "language": "python",
   "name": "pyspark-3.5.1"
  },
  "language_info": {
   "codemirror_mode": {
    "name": "ipython",
    "version": 3
   },
   "file_extension": ".py",
   "mimetype": "text/x-python",
   "name": "python",
   "nbconvert_exporter": "python",
   "pygments_lexer": "ipython3",
   "version": "3.10.11"
  }
 },
 "nbformat": 4,
 "nbformat_minor": 5
}
