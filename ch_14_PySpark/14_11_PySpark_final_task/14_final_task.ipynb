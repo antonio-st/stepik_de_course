{
 "cells": [
  {
   "cell_type": "markdown",
   "id": "a6d9b4d1-a04a-4976-b4eb-0234c12e4235",
   "metadata": {},
   "source": [
    "## Итоговое задание  №4\n",
    "\n",
    "<b>1.</b> Сгруппируйте данные по IP и посчитайте количество запросов для каждого IP, выводим 10 самых активных IP. Формат вывода, как на скрине ниже.\n",
    "\n",
    "<b>2.</b> Сгруппируйте данные по HTTP-методу и посчитайте количество запросов для каждого метода.\n",
    "\n",
    "<b>3.</b> Профильтруйте и посчитайте количество запросов с кодом ответа 404.\n",
    "\n",
    "<b>4.</b> Сгруппируйте данные по дате и просуммируйте размер ответов, сортируйте по дате."
   ]
  },
  {
   "cell_type": "code",
   "execution_count": 20,
   "id": "35573cd7-e103-47e4-bcc9-22d27bd42a9c",
   "metadata": {},
   "outputs": [],
   "source": [
    "# инициализация Spark сессии\n",
    "from pyspark import SparkContext, SparkConf\n",
    "from pyspark.sql import SparkSession,DataFrame\n",
    "from pyspark.sql.functions import col, year, month, sum, avg, count\n",
    "from pyspark.sql.types import StructField, StructType, StringType, IntegerType, TimestampType\n",
    "\n",
    "conf = (\n",
    "     SparkConf()\n",
    "    .setAppName('Simple_Spark')\n",
    "    .setMaster('local[*]')\n",
    ")\n",
    "\n",
    "\n",
    "# Spark сессия\n",
    "spark = (\n",
    "    SparkSession\n",
    "    .builder\n",
    "    .config(conf=conf)\n",
    "    # .enableHiveSupport()\n",
    "    .getOrCreate()\n",
    ")\n"
   ]
  },
  {
   "cell_type": "code",
   "execution_count": 21,
   "id": "34550117-cde5-4054-8ac9-1fa3bbd7be1b",
   "metadata": {},
   "outputs": [],
   "source": [
    "# схема данных\n",
    "schema = (StructType([StructField('ip', StringType(), True),\n",
    "        StructField('timestamp', TimestampType(), True),\n",
    "        StructField('method', StringType(), True),\n",
    "        StructField('url', StringType(), True), \n",
    "        StructField('response_code', IntegerType(), True),\n",
    "        StructField('response_size', IntegerType(), True)\n",
    "       ])\n",
    "        )"
   ]
  },
  {
   "cell_type": "code",
   "execution_count": 22,
   "id": "6b8bcf4b-0770-4d47-8fd7-88b6d089625c",
   "metadata": {},
   "outputs": [
    {
     "name": "stdout",
     "output_type": "stream",
     "text": [
      "+--------------+--------------------------+------+---------------------+-------------+-------------+\n",
      "|            ip|                 timestamp|method|                  url|response_code|response_size|\n",
      "+--------------+--------------------------+------+---------------------+-------------+-------------+\n",
      "|40.110.212.214|2024-08-11 04:54:47.693419|  POST|           categories|          500|         2067|\n",
      "| 19.130.93.143|2024-05-24 01:51:11.620188|   PUT|tags/explore/category|          301|         2029|\n",
      "|142.12.126.182|2024-02-14 08:14:25.862731|   GET|posts/wp-content/tags|          404|         6135|\n",
      "| 130.46.123.96|2024-08-13 23:03:17.545586|  POST|       wp-content/app|          404|         5517|\n",
      "|203.215.14.169|2024-01-18 03:09:53.438453|   GET|                  app|          404|         2124|\n",
      "+--------------+--------------------------+------+---------------------+-------------+-------------+\n",
      "only showing top 5 rows\n",
      "\n"
     ]
    }
   ],
   "source": [
    "# загрузка данных в df из файла .csv, проверка корректности данных по 5 строкам\n",
    "# Внимание! для загрузки поменять путь на свой, если папка data перемещалась\n",
    "file = \"./data/web_server_logs.csv\"\n",
    "\n",
    "df = spark.read.csv(file, header=True, schema=schema)\n",
    "df.show(5, 100, False)"
   ]
  },
  {
   "cell_type": "code",
   "execution_count": 23,
   "id": "a4f05cea-d998-49b5-9402-1bf2b82c2a1b",
   "metadata": {},
   "outputs": [
    {
     "name": "stdout",
     "output_type": "stream",
     "text": [
      "root\n",
      " |-- ip: string (nullable = true)\n",
      " |-- timestamp: timestamp (nullable = true)\n",
      " |-- method: string (nullable = true)\n",
      " |-- url: string (nullable = true)\n",
      " |-- response_code: integer (nullable = true)\n",
      " |-- response_size: integer (nullable = true)\n",
      "\n"
     ]
    }
   ],
   "source": [
    "# проверим схему данных:\n",
    "df.printSchema()"
   ]
  },
  {
   "cell_type": "code",
   "execution_count": 24,
   "id": "ba70d498-5287-4e3d-a5b3-40e07bdb035e",
   "metadata": {},
   "outputs": [
    {
     "data": {
      "text/plain": [
       "0"
      ]
     },
     "execution_count": 24,
     "metadata": {},
     "output_type": "execute_result"
    }
   ],
   "source": [
    "# проверим null в колонках\n",
    "df.filter(col(\"ip\").isNull()).count()"
   ]
  },
  {
   "cell_type": "markdown",
   "id": "7dfe6239-09a9-4bdd-9e19-5ec459a1f4ee",
   "metadata": {},
   "source": [
    "1. `Сгруппируйте данные по IP и посчитайте количество запросов для каждого IP, выводим 10 самых активных IP.`"
   ]
  },
  {
   "cell_type": "code",
   "execution_count": 25,
   "id": "b5636e5d-4df2-4e4e-b99d-406e7ee815ea",
   "metadata": {},
   "outputs": [
    {
     "name": "stdout",
     "output_type": "stream",
     "text": [
      "Top 10 active IP addresses: \n",
      "+---------------+-------------+\n",
      "|             ip|request_count|\n",
      "+---------------+-------------+\n",
      "| 169.224.123.25|            2|\n",
      "|  33.213.65.240|            2|\n",
      "|  169.136.2.244|            1|\n",
      "| 172.254.175.14|            1|\n",
      "|  167.130.16.96|            1|\n",
      "|    9.27.24.117|            1|\n",
      "|215.244.100.237|            1|\n",
      "| 102.24.253.126|            1|\n",
      "|  101.142.52.17|            1|\n",
      "|   190.253.9.63|            1|\n",
      "+---------------+-------------+\n",
      "\n"
     ]
    }
   ],
   "source": [
    "task1_df = (\n",
    "    df\n",
    "    .groupBy(\"ip\")\n",
    "    .agg(count(\"*\").alias(\"request_count\"))\n",
    "    .orderBy(col(\"request_count\").desc())\n",
    "    .limit(10)\n",
    ")\n",
    "\n",
    "print(\"Top 10 active IP addresses: \")\n",
    "task1_df.show()"
   ]
  },
  {
   "cell_type": "markdown",
   "id": "08c10d11-5b32-4285-a089-13b7796c23ba",
   "metadata": {},
   "source": [
    "2. `Сгруппируйте данные по HTTP-методу и посчитайте количество запросов для каждого метода`"
   ]
  },
  {
   "cell_type": "code",
   "execution_count": 26,
   "id": "760a4610-115d-4b2d-aff3-33680854ff3a",
   "metadata": {},
   "outputs": [
    {
     "name": "stdout",
     "output_type": "stream",
     "text": [
      "Request count by HTTP method:\n",
      "+------+------------+\n",
      "|method|method_count|\n",
      "+------+------------+\n",
      "|  POST|       25230|\n",
      "|DELETE|       24851|\n",
      "|   PUT|       24948|\n",
      "|   GET|       24971|\n",
      "+------+------------+\n",
      "\n"
     ]
    }
   ],
   "source": [
    "task2_df = (\n",
    "    df\n",
    "    .groupBy(\"method\")\n",
    "    .agg(count(\"*\").alias(\"method_count\"))\n",
    ")\n",
    "\n",
    "print(\"Request count by HTTP method:\")\n",
    "task2_df.show()"
   ]
  },
  {
   "cell_type": "markdown",
   "id": "2d3da624-4899-44c3-833b-29d46e764bab",
   "metadata": {},
   "source": [
    "3. `Профильтруйте и посчитайте количество запросов с кодом ответа 404`"
   ]
  },
  {
   "cell_type": "code",
   "execution_count": 27,
   "id": "a14f4edb-871f-4575-ad52-47574c7caea9",
   "metadata": {},
   "outputs": [
    {
     "name": "stdout",
     "output_type": "stream",
     "text": [
      " Numbers of 404 response codes: 24705\n"
     ]
    }
   ],
   "source": [
    "task3_df = (\n",
    "    df\n",
    "    .filter(col(\"response_code\") == 404)\n",
    ")\n",
    "print(f\" Numbers of 404 response codes: {task3_df.count()}\")"
   ]
  },
  {
   "cell_type": "markdown",
   "id": "18c610cf-1c72-4eea-a292-0b54f76bb327",
   "metadata": {},
   "source": [
    "4. `Сгруппируйте данные по дате и просуммируйте размер ответов, сортируйте по дате.`"
   ]
  },
  {
   "cell_type": "code",
   "execution_count": 28,
   "id": "5a5d1e3e-f7eb-436f-a990-b35965d3b1f0",
   "metadata": {},
   "outputs": [
    {
     "name": "stdout",
     "output_type": "stream",
     "text": [
      "Total response size by day: \n"
     ]
    },
    {
     "name": "stderr",
     "output_type": "stream",
     "text": [
      "24/09/07 19:43:04 WARN CacheManager: Asked to cache already cached data.\n"
     ]
    },
    {
     "name": "stdout",
     "output_type": "stream",
     "text": [
      "+----------+-------------------+\n",
      "| timestamp|total_response_size|\n",
      "+----------+-------------------+\n",
      "|2024-01-01|            1905525|\n",
      "|2024-01-02|            1953726|\n",
      "|2024-01-03|            2007048|\n",
      "|2024-01-04|            1916647|\n",
      "|2024-01-05|            2015058|\n",
      "|2024-01-06|            2053226|\n",
      "|2024-01-07|            2101514|\n",
      "|2024-01-08|            2002937|\n",
      "|2024-01-09|            2142065|\n",
      "|2024-01-10|            2034381|\n",
      "+----------+-------------------+\n",
      "only showing top 10 rows\n",
      "\n"
     ]
    }
   ],
   "source": [
    "task4_df = (\n",
    "    df\n",
    "    .withColumn(\"timestamp\", to_date(col(\"timestamp\")))\n",
    "    .groupBy(\"timestamp\")\n",
    "    .agg(sum(col(\"response_size\")).alias(\"total_response_size\"))\n",
    "    .orderBy(\"timestamp\")\n",
    ")\n",
    "task4_df.cache()\n",
    "print(\"Total response size by day: \")\n",
    "task4_df.show(10, 100, False)"
   ]
  }
 ],
 "metadata": {
  "kernelspec": {
   "display_name": "Python 3 (ipykernel)",
   "language": "python",
   "name": "python3"
  },
  "language_info": {
   "codemirror_mode": {
    "name": "ipython",
    "version": 3
   },
   "file_extension": ".py",
   "mimetype": "text/x-python",
   "name": "python",
   "nbconvert_exporter": "python",
   "pygments_lexer": "ipython3",
   "version": "3.10.12"
  }
 },
 "nbformat": 4,
 "nbformat_minor": 5
}
