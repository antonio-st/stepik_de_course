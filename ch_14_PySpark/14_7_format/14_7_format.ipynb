{
 "cells": [
  {
   "cell_type": "code",
   "execution_count": 1,
   "id": "ccfe55b2-337c-4a92-9e21-8084dcd503d2",
   "metadata": {},
   "outputs": [
    {
     "name": "stderr",
     "output_type": "stream",
     "text": [
      "24/09/02 22:17:02 WARN Utils: Your hostname, antonio-f513 resolves to a loopback address: 127.0.1.1; using 192.168.100.11 instead (on interface wlo1)\n",
      "24/09/02 22:17:02 WARN Utils: Set SPARK_LOCAL_IP if you need to bind to another address\n",
      "Setting default log level to \"WARN\".\n",
      "To adjust logging level use sc.setLogLevel(newLevel). For SparkR, use setLogLevel(newLevel).\n",
      "24/09/02 22:17:03 WARN NativeCodeLoader: Unable to load native-hadoop library for your platform... using builtin-java classes where applicable\n"
     ]
    }
   ],
   "source": [
    "from pyspark import SparkContext, SparkConf\n",
    "from pyspark.sql import SparkSession,DataFrame\n",
    "from pyspark.sql.functions import col, round\n",
    "\n",
    "conf = (\n",
    "     SparkConf()\n",
    "    .setAppName('Simple_Spark')\n",
    "    .setMaster('local[*]')\n",
    ")\n",
    "\n",
    "\n",
    "# Spark сессия\n",
    "spark = (\n",
    "    SparkSession\n",
    "    .builder\n",
    "    .config(conf=conf)\n",
    "    # .enableHiveSupport()\n",
    "    .getOrCreate()\n",
    ")"
   ]
  },
  {
   "cell_type": "code",
   "execution_count": 2,
   "id": "cbab5942-f36b-4432-afb2-cb0d07384b56",
   "metadata": {},
   "outputs": [
    {
     "name": "stderr",
     "output_type": "stream",
     "text": [
      "                                                                                \r"
     ]
    },
    {
     "name": "stdout",
     "output_type": "stream",
     "text": [
      "+----------+-----------+-------+\n",
      "|  language|users_count|avg_sal|\n",
      "+----------+-----------+-------+\n",
      "|      Java|      20000|   3000|\n",
      "|    Python|     100000|   2500|\n",
      "|     Scala|       3000|   3500|\n",
      "|JavaScript|       5000|   2000|\n",
      "|    Kotlin|       4000|   2500|\n",
      "+----------+-----------+-------+\n",
      "\n",
      "root\n",
      " |-- language: string (nullable = true)\n",
      " |-- users_count: integer (nullable = true)\n",
      " |-- avg_sal: integer (nullable = true)\n",
      "\n"
     ]
    }
   ],
   "source": [
    "# создать RDD с помощью схемы\n",
    "\n",
    "from pyspark.sql.types import StructField, StructType, StringType, IntegerType\n",
    "\n",
    "columns3 = [\"language\",\"users_count\"]\n",
    "data3 = [(\"Java\", 20000, 3000), (\"Python\", 100000, 2500), (\"Scala\", 3000, 3500), (\"JavaScript\", 5000, 2000), (\"Kotlin\", 4000, 2500)]\n",
    "\n",
    "schema = StructType([\n",
    "    StructField(\"language\", StringType(), True),\n",
    "    StructField(\"users_count\", IntegerType(), True),\n",
    "    StructField(\"avg_sal\", IntegerType(), True)\n",
    "])\n",
    "\n",
    "df3 = spark.createDataFrame(data3, schema)\n",
    "\n",
    "df3.show()\n",
    "\n",
    "df3.printSchema()"
   ]
  },
  {
   "cell_type": "code",
   "execution_count": 21,
   "id": "49253f02-cbb4-4afd-8be7-ada5c04fc235",
   "metadata": {},
   "outputs": [
    {
     "name": "stdout",
     "output_type": "stream",
     "text": [
      "Defaulting to user installation because normal site-packages is not writeable\n",
      "Requirement already satisfied: pyspark[avro] in /home/antonio/.local/lib/python3.10/site-packages (3.5.2)\n",
      "\u001b[33mWARNING: pyspark 3.5.2 does not provide the extra 'avro'\u001b[0m\u001b[33m\n",
      "\u001b[0mRequirement already satisfied: py4j==0.10.9.7 in /home/antonio/.local/lib/python3.10/site-packages (from pyspark[avro]) (0.10.9.7)\n"
     ]
    }
   ],
   "source": [
    "# !pip install py4j==0.10.9.7\n",
    "!pip install pyspark[avro]"
   ]
  },
  {
   "cell_type": "code",
   "execution_count": null,
   "id": "8e10b53b-b370-4656-a583-3f1284706ff6",
   "metadata": {},
   "outputs": [],
   "source": [
    "df3.write.format(\"avro\").mode(\"overwrite\").save(\"path/to/output/avro\")"
   ]
  },
  {
   "cell_type": "code",
   "execution_count": 14,
   "id": "d80e8254-2bfc-4a84-9d63-12720af51ed9",
   "metadata": {},
   "outputs": [],
   "source": [
    "# orc\n",
    "df3.write\n",
    ".mode(\"overwrite\")\n",
    ".format(\"orc\")\n",
    ".save(\"path/to/output/orc\")"
   ]
  },
  {
   "cell_type": "code",
   "execution_count": 16,
   "id": "8477df6d-a630-40a1-940d-7ce51baa35c2",
   "metadata": {},
   "outputs": [
    {
     "name": "stdout",
     "output_type": "stream",
     "text": [
      "итого 16K\n",
      "-rw-r--r-- 1 antonio antonio 503 сен  2 22:54 part-00000-28e8f734-55a8-4b39-8f1e-401b00132f4d-c000.snappy.orc\n",
      "-rw-r--r-- 1 antonio antonio 515 сен  2 22:54 part-00001-28e8f734-55a8-4b39-8f1e-401b00132f4d-c000.snappy.orc\n",
      "-rw-r--r-- 1 antonio antonio 496 сен  2 22:54 part-00002-28e8f734-55a8-4b39-8f1e-401b00132f4d-c000.snappy.orc\n",
      "-rw-r--r-- 1 antonio antonio 537 сен  2 22:54 part-00003-28e8f734-55a8-4b39-8f1e-401b00132f4d-c000.snappy.orc\n",
      "-rw-r--r-- 1 antonio antonio   0 сен  2 22:54 _SUCCESS\n"
     ]
    }
   ],
   "source": [
    "!ls -lh path/to/output/orc"
   ]
  },
  {
   "cell_type": "code",
   "execution_count": 24,
   "id": "aad23ae5-5684-4644-bfab-ba8f75a2f61d",
   "metadata": {},
   "outputs": [
    {
     "name": "stderr",
     "output_type": "stream",
     "text": [
      "                                                                                \r"
     ]
    }
   ],
   "source": [
    "df3.write.parquet(\"path/to/output/parquet\", mode = \"overwrite\")"
   ]
  },
  {
   "cell_type": "code",
   "execution_count": 25,
   "id": "54e69315-9774-477b-99df-f541bec789e9",
   "metadata": {},
   "outputs": [
    {
     "name": "stdout",
     "output_type": "stream",
     "text": [
      "итого 16K\n",
      "-rw-r--r-- 1 antonio antonio 959 сен  2 23:09 part-00000-2157d8f6-04d9-4a47-9ad3-cd3cc3bb3d97-c000.snappy.parquet\n",
      "-rw-r--r-- 1 antonio antonio 973 сен  2 23:09 part-00001-2157d8f6-04d9-4a47-9ad3-cd3cc3bb3d97-c000.snappy.parquet\n",
      "-rw-r--r-- 1 antonio antonio 966 сен  2 23:09 part-00002-2157d8f6-04d9-4a47-9ad3-cd3cc3bb3d97-c000.snappy.parquet\n",
      "-rw-r--r-- 1 antonio antonio 987 сен  2 23:09 part-00003-2157d8f6-04d9-4a47-9ad3-cd3cc3bb3d97-c000.snappy.parquet\n",
      "-rw-r--r-- 1 antonio antonio   0 сен  2 23:09 _SUCCESS\n"
     ]
    }
   ],
   "source": [
    "!ls -lh path/to/output/parquet"
   ]
  },
  {
   "cell_type": "code",
   "execution_count": 26,
   "id": "21a848cf-82e8-4f86-9930-f724887ffe9d",
   "metadata": {},
   "outputs": [],
   "source": [
    "# уменьшить кол-во выходных файлов\n",
    "df3.repartition(1).write.parquet(\"path/to/output/parquet_one\", mode = \"overwrite\")"
   ]
  },
  {
   "cell_type": "code",
   "execution_count": 28,
   "id": "c8be861c-57a2-40b3-b254-70e7ee7344ba",
   "metadata": {},
   "outputs": [
    {
     "name": "stdout",
     "output_type": "stream",
     "text": [
      "итого 4,0K\n",
      "-rw-r--r-- 1 antonio antonio 1,1K сен  2 23:11 part-00000-41c6d012-a34c-42e6-aa5a-76f8ba648690-c000.snappy.parquet\n",
      "-rw-r--r-- 1 antonio antonio    0 сен  2 23:11 _SUCCESS\n"
     ]
    }
   ],
   "source": [
    "!ls -lh path/to/output/parquet_one"
   ]
  },
  {
   "cell_type": "code",
   "execution_count": 29,
   "id": "f8549dab-f8fa-4238-9435-b2bff6a18c89",
   "metadata": {},
   "outputs": [],
   "source": [
    "# репартицирование\n",
    "df3.write.partitionBy(\"language\").parquet(\"path/to/output/parquet_p\", mode = \"overwrite\")"
   ]
  },
  {
   "cell_type": "code",
   "execution_count": 30,
   "id": "ced7b1b8-fbcd-4095-af0a-aba902cdb681",
   "metadata": {},
   "outputs": [
    {
     "name": "stdout",
     "output_type": "stream",
     "text": [
      "итого 20K\n",
      "drwxr-xr-x 2 antonio antonio 4,0K сен  2 23:12 'language=Java'\n",
      "drwxr-xr-x 2 antonio antonio 4,0K сен  2 23:12 'language=JavaScript'\n",
      "drwxr-xr-x 2 antonio antonio 4,0K сен  2 23:12 'language=Kotlin'\n",
      "drwxr-xr-x 2 antonio antonio 4,0K сен  2 23:12 'language=Python'\n",
      "drwxr-xr-x 2 antonio antonio 4,0K сен  2 23:12 'language=Scala'\n",
      "-rw-r--r-- 1 antonio antonio    0 сен  2 23:12  _SUCCESS\n"
     ]
    }
   ],
   "source": [
    "!ls -lh path/to/output/parquet_p"
   ]
  }
 ],
 "metadata": {
  "kernelspec": {
   "display_name": "Python 3 (ipykernel)",
   "language": "python",
   "name": "python3"
  },
  "language_info": {
   "codemirror_mode": {
    "name": "ipython",
    "version": 3
   },
   "file_extension": ".py",
   "mimetype": "text/x-python",
   "name": "python",
   "nbconvert_exporter": "python",
   "pygments_lexer": "ipython3",
   "version": "3.10.12"
  }
 },
 "nbformat": 4,
 "nbformat_minor": 5
}
