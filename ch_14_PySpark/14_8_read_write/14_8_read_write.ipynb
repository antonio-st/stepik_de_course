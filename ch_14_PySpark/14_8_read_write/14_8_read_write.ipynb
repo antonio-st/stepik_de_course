{
 "cells": [
  {
   "cell_type": "code",
   "execution_count": 6,
   "id": "c5a71852-6c32-4f64-a586-171c228dfdb4",
   "metadata": {},
   "outputs": [],
   "source": [
    "from pyspark import SparkContext\n",
    "# Создание SparkContext\n",
    "sc = SparkContext(\"local\", \"Read Text File Example\")"
   ]
  },
  {
   "cell_type": "code",
   "execution_count": 10,
   "id": "ca08a75c-fddb-47b4-99f2-eb8db5f723f3",
   "metadata": {},
   "outputs": [
    {
     "name": "stdout",
     "output_type": "stream",
     "text": [
      "[('Темная', 1), ('башня', 1), ('', 5), ('Преподобный', 1), ('Дон', 1), ('Каллагэн', 1), ('когда-то', 1), ('был', 1), ('католическим', 1), ('священником', 1), ('в', 2), ('городке', 1), ('Салемс-Лот,', 1), ('более', 1), ('не', 2), ('отмеченном', 1), ('ни', 1), ('на', 4), ('одной', 1), ('карте.', 1), ('Его', 1), ('это', 1), ('особо', 1), ('волновало.', 1), ('Такие', 1), ('понятия,', 1), ('как', 1), ('реальность,', 1), ('потеряли', 1), ('для', 1), ('него', 1), ('привычное', 1), ('всем', 1), ('значение.', 1), ('И', 1), ('теперь', 1), ('бывший', 1), ('священник', 1), ('держал', 1), ('руке', 1), ('языческий', 1), ('амулет,', 1), ('черепашку,', 1), ('вырезанную', 1), ('из', 1), ('слоновой', 1), ('кости.', 1), ('Со', 1), ('сколом', 1), ('носу', 1), ('и', 2), ('царапиной,', 1), ('похожей', 1), ('вопросительный', 1), ('знак,', 1), ('панцире,', 1), ('но', 1), ('все', 1), ('равно', 1), ('прекрасную.', 1), ('Прекрасную', 1), ('могущественную.', 1), ('Он', 1), ('чувствовал', 1), ('идущие', 1), ('от', 1), ('нее', 1), ('энергетические', 1), ('импульсы.', 1)]\n"
     ]
    }
   ],
   "source": [
    "rdd = sc.textFile(\"DT.txt\")\n",
    "\n",
    "# Пример обработки данных\n",
    "words = rdd.flatMap(lambda line: line.split(\" \"))\n",
    "word_counts = words.map(lambda word: (word, 1)).reduceByKey(lambda a, b: a + b)\n",
    "\n",
    "# Вывод результата\n",
    "print(word_counts.collect())"
   ]
  },
  {
   "cell_type": "code",
   "execution_count": 11,
   "id": "ccfe55b2-337c-4a92-9e21-8084dcd503d2",
   "metadata": {},
   "outputs": [],
   "source": [
    "from pyspark import SparkContext, SparkConf\n",
    "from pyspark.sql import SparkSession,DataFrame\n",
    "from pyspark.sql.functions import col, round\n",
    "\n",
    "conf = (\n",
    "     SparkConf()\n",
    "    .setAppName('Simple_Spark')\n",
    "    .setMaster('local[*]')\n",
    ")\n",
    "\n",
    "\n",
    "# Spark сессия\n",
    "spark = (\n",
    "    SparkSession\n",
    "    .builder\n",
    "    .config(conf=conf)\n",
    "    # .enableHiveSupport()\n",
    "    .getOrCreate()\n",
    ")"
   ]
  },
  {
   "cell_type": "code",
   "execution_count": 16,
   "id": "d2a8cf9b-fbd1-4db8-8b5d-d1549d5a0faa",
   "metadata": {
    "scrolled": true
   },
   "outputs": [
    {
     "name": "stderr",
     "output_type": "stream",
     "text": [
      "                                                                                \r"
     ]
    },
    {
     "name": "stdout",
     "output_type": "stream",
     "text": [
      "root\n",
      " |-- event_time: timestamp (nullable = true)\n",
      " |-- event_type: string (nullable = true)\n",
      " |-- product_id: integer (nullable = true)\n",
      " |-- category_id: long (nullable = true)\n",
      " |-- category_code: string (nullable = true)\n",
      " |-- brand: string (nullable = true)\n",
      " |-- price: double (nullable = true)\n",
      " |-- user_id: long (nullable = true)\n",
      " |-- user_session: string (nullable = true)\n",
      "\n",
      "+-------------------+----------+----------+-------------------+--------------------+-----------+------+-------------------+------------+\n",
      "|         event_time|event_type|product_id|        category_id|       category_code|      brand| price|            user_id|user_session|\n",
      "+-------------------+----------+----------+-------------------+--------------------+-----------+------+-------------------+------------+\n",
      "|2020-09-24 14:57:06|      view|   1996170|2144415922528452715|electronics.telep...|       NULL|  31.9|1515915625519388267|  LJuJVLEjPT|\n",
      "|2020-09-24 14:57:26|      view|    139905|2144415926932472027|computers.compone...|     zalman| 17.16|1515915625519380411|  tdicluNnRY|\n",
      "|2020-09-24 14:57:27|      view|    215454|2144415927158964449|                NULL|       NULL|  9.81|1515915625513238515|  4TMArHtXQy|\n",
      "|2020-09-24 14:57:33|      view|    635807|2144415923107266682|computers.periphe...|     pantum|113.81|1515915625519014356|  aGFYrNgC08|\n",
      "|2020-09-24 14:57:36|      view|   3658723|2144415921169498184|                NULL|cameronsino| 15.87|1515915625510743344|  aa4mmk0kwQ|\n",
      "+-------------------+----------+----------+-------------------+--------------------+-----------+------+-------------------+------------+\n",
      "only showing top 5 rows\n",
      "\n"
     ]
    }
   ],
   "source": [
    "df = spark.read.csv(\"events.csv\", inferSchema=True, header=True)\n",
    "\n",
    "df.printSchema()\n",
    "\n",
    "df.show(5)"
   ]
  },
  {
   "cell_type": "code",
   "execution_count": null,
   "id": "f340f2f1-c576-47d5-bda5-611158d9d2f0",
   "metadata": {},
   "outputs": [],
   "source": [
    "+-------------------+----------+----------+-------------------+--------------------+-----------+------+-------------------+------------+\n",
    "|         event_time|event_type|product_id|        category_id|       category_code|      brand| price|            user_id|user_session|\n",
    "+-------------------+----------+----------+-------------------+--------------------+-----------+------+-------------------+------------+\n",
    "|2020-09-24 14:57:06|      view|   1996170|2144415922528452715|electronics.telep...|       NULL|  31.9|1515915625519388267|  LJuJVLEjPT|\n",
    "|2020-09-24 14:57:26|      view|    139905|2144415926932472027|computers.compone...|     zalman| 17.16|1515915625519380411|  tdicluNnRY|\n",
    "|2020-09-24 14:57:27|      view|    215454|2144415927158964449|                NULL|       NULL|  9.81|1515915625513238515|  4TMArHtXQy|\n",
    "|2020-09-24 14:57:33|      view|    635807|2144415923107266682|computers.periphe...|     pantum|113.81|1515915625519014356|  aGFYrNgC08|\n",
    "|2020-09-24 14:57:36|      view|   3658723|2144415921169498184|                NULL|cameronsino| 15.87|1515915625510743344|  aa4mmk0kwQ|\n",
    "+-------------------+----------+----------+-------------------+--------------------+-----------+------+-------------------+------------+"
   ]
  },
  {
   "cell_type": "code",
   "execution_count": 20,
   "id": "46b06916-05b1-4b6f-9e75-34508b24a228",
   "metadata": {},
   "outputs": [
    {
     "data": {
      "text/plain": [
       "StructType([StructField('event_time', TimestampType(), True), StructField('event_type', StringType(), True), StructField('product_id', IntegerType(), True), StructField('category_id', LongType(), True), StructField('category_code', StringType(), True), StructField('brand', StringType(), True), StructField('price', DoubleType(), True), StructField('user_id', LongType(), True), StructField('user_session', StringType(), True)])"
      ]
     },
     "execution_count": 20,
     "metadata": {},
     "output_type": "execute_result"
    }
   ],
   "source": [
    "df.schema"
   ]
  },
  {
   "cell_type": "code",
   "execution_count": 28,
   "id": "fc5f72ed-f414-42a6-b717-6fd11ddb0ef8",
   "metadata": {},
   "outputs": [
    {
     "name": "stdout",
     "output_type": "stream",
     "text": [
      "+-------------------+-------------------+------+\n",
      "|         event_time|        category_id| price|\n",
      "+-------------------+-------------------+------+\n",
      "|2020-09-24 14:57:06|2144415922528452715|  31.9|\n",
      "|2020-09-24 14:57:26|2144415926932472027| 17.16|\n",
      "|2020-09-24 14:57:27|2144415927158964449|  9.81|\n",
      "|2020-09-24 14:57:33|2144415923107266682|113.81|\n",
      "|2020-09-24 14:57:36|2144415921169498184| 15.87|\n",
      "+-------------------+-------------------+------+\n",
      "only showing top 5 rows\n",
      "\n"
     ]
    }
   ],
   "source": [
    "from pyspark.sql.types import StructType, StructField, StringType, IntegerType, TimestampType, LongType, DoubleType\n",
    "\n",
    "schema = StructType([\n",
    "    StructField('event_time', TimestampType(), True),\n",
    "    StructField('event_type', StringType(), True),\n",
    "    StructField('product_id', IntegerType(), True), \n",
    "    StructField('category_id', LongType(), True),\n",
    "    StructField('category_code', StringType(), True),\n",
    "    StructField('brand', StringType(), True), \n",
    "    StructField('price', DoubleType(), True),\n",
    "    StructField('user_id', LongType(), True),\n",
    "    StructField('user_session', StringType(), True)])\n",
    "\n",
    "df2 = spark.read.csv(\"events.csv\", schema=schema, header=True)\n",
    "\n",
    "df2.select(\"event_time\", \"category_id\", \"price\").show(5)\n",
    "\n"
   ]
  },
  {
   "cell_type": "code",
   "execution_count": 30,
   "id": "d03bbc80-1736-49ec-91d5-b740e8d6f7c7",
   "metadata": {},
   "outputs": [
    {
     "name": "stderr",
     "output_type": "stream",
     "text": [
      "                                                                                \r"
     ]
    }
   ],
   "source": [
    "(df2\n",
    ".write.mode(\"overwrite\").option(\"header\", True).csv(\"events_mod\")\n",
    ")"
   ]
  },
  {
   "cell_type": "code",
   "execution_count": 2,
   "id": "7d6a6019-f09d-4b3c-8d3b-9ccbdf20e140",
   "metadata": {},
   "outputs": [
    {
     "name": "stdout",
     "output_type": "stream",
     "text": [
      "итого 106M\n",
      "-rw-r--r-- 1 antonio antonio 106M сен  4 21:51 part-00000-ed15d3f5-9c9c-4e3c-bf4e-a4ad5d67f4bb-c000.csv\n",
      "-rw-r--r-- 1 antonio antonio    0 сен  4 21:51 _SUCCESS\n"
     ]
    }
   ],
   "source": [
    "!ls -lh events_mod"
   ]
  },
  {
   "cell_type": "code",
   "execution_count": 1,
   "id": "ec240f57-582d-4dad-bb1a-2f4d87202d02",
   "metadata": {},
   "outputs": [
    {
     "name": "stdout",
     "output_type": "stream",
     "text": [
      "event_time,event_type,product_id,category_id,category_code,brand,price,user_id,user_session\n",
      "2020-09-24T14:57:06.000+03:00,view,1996170,2144415922528452715,electronics.telephone,,31.9,1515915625519388267,LJuJVLEjPT\n",
      "2020-09-24T14:57:26.000+03:00,view,139905,2144415926932472027,computers.components.cooler,zalman,17.16,1515915625519380411,tdicluNnRY\n",
      "2020-09-24T14:57:27.000+03:00,view,215454,2144415927158964449,,,9.81,1515915625513238515,4TMArHtXQy\n",
      "2020-09-24T14:57:33.000+03:00,view,635807,2144415923107266682,computers.peripherals.printer,pantum,113.81,1515915625519014356,aGFYrNgC08\n"
     ]
    }
   ],
   "source": [
    "!head -n 5 events_mod/part-00000-ed15d3f5-9c9c-4e3c-bf4e-a4ad5d67f4bb-c000.csv"
   ]
  }
 ],
 "metadata": {
  "kernelspec": {
   "display_name": "Python 3 (ipykernel)",
   "language": "python",
   "name": "python3"
  },
  "language_info": {
   "codemirror_mode": {
    "name": "ipython",
    "version": 3
   },
   "file_extension": ".py",
   "mimetype": "text/x-python",
   "name": "python",
   "nbconvert_exporter": "python",
   "pygments_lexer": "ipython3",
   "version": "3.10.12"
  }
 },
 "nbformat": 4,
 "nbformat_minor": 5
}
