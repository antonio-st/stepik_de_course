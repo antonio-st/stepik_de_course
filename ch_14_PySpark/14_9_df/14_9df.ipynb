{
 "cells": [
  {
   "cell_type": "code",
   "execution_count": 1,
   "id": "8fa443fd-fdb7-4083-894a-a7cff9749f3a",
   "metadata": {},
   "outputs": [
    {
     "name": "stderr",
     "output_type": "stream",
     "text": [
      "24/09/04 21:55:37 WARN Utils: Your hostname, antonio-f513 resolves to a loopback address: 127.0.1.1; using 192.168.100.11 instead (on interface wlo1)\n",
      "24/09/04 21:55:37 WARN Utils: Set SPARK_LOCAL_IP if you need to bind to another address\n",
      "Setting default log level to \"WARN\".\n",
      "To adjust logging level use sc.setLogLevel(newLevel). For SparkR, use setLogLevel(newLevel).\n",
      "24/09/04 21:55:37 WARN NativeCodeLoader: Unable to load native-hadoop library for your platform... using builtin-java classes where applicable\n"
     ]
    }
   ],
   "source": [
    "from pyspark import SparkContext, SparkConf\n",
    "from pyspark.sql import SparkSession,DataFrame\n",
    "from pyspark.sql.functions import col, round\n",
    "\n",
    "conf = (\n",
    "     SparkConf()\n",
    "    .setAppName('Simple_Spark')\n",
    "    .setMaster('local[*]')\n",
    ")\n",
    "\n",
    "\n",
    "# Spark сессия\n",
    "spark = (\n",
    "    SparkSession\n",
    "    .builder\n",
    "    .config(conf=conf)\n",
    "    # .enableHiveSupport()\n",
    "    .getOrCreate()\n",
    ")"
   ]
  },
  {
   "cell_type": "code",
   "execution_count": 4,
   "id": "6bd2a259-60a8-4f73-9ec6-5ee01fc3edab",
   "metadata": {},
   "outputs": [
    {
     "name": "stdout",
     "output_type": "stream",
     "text": [
      "+---+-----------+-----+\n",
      "|age| department| name|\n",
      "+---+-----------+-----+\n",
      "| 30|         HR| John|\n",
      "| 25|    Finance|  Doe|\n",
      "| 35|         HR| Jane|\n",
      "| 40|    Finance| Mark|\n",
      "| 23|Engineering|Smith|\n",
      "+---+-----------+-----+\n",
      "\n"
     ]
    }
   ],
   "source": [
    "df = spark.read.json(\"people.json\")\n",
    "df.show()"
   ]
  },
  {
   "cell_type": "code",
   "execution_count": 6,
   "id": "ff466aab-93f5-47d0-bc7d-44638be7402a",
   "metadata": {},
   "outputs": [
    {
     "name": "stdout",
     "output_type": "stream",
     "text": [
      "+---+----------+----+\n",
      "|age|department|name|\n",
      "+---+----------+----+\n",
      "| 30|        HR|John|\n",
      "| 35|        HR|Jane|\n",
      "| 40|   Finance|Mark|\n",
      "+---+----------+----+\n",
      "\n"
     ]
    }
   ],
   "source": [
    "filtered_df = df.filter(col(\"age\") >= 30)\n",
    "filtered_df.show()"
   ]
  },
  {
   "cell_type": "code",
   "execution_count": 24,
   "id": "38a43e99-6461-45f3-a39c-62435f68a6de",
   "metadata": {},
   "outputs": [
    {
     "name": "stdout",
     "output_type": "stream",
     "text": [
      "+-----------+-------+----------+\n",
      "| department|avg_age|count_name|\n",
      "+-----------+-------+----------+\n",
      "|Engineering|   23.0|         1|\n",
      "|         HR|   32.5|         2|\n",
      "|    Finance|   32.5|         2|\n",
      "+-----------+-------+----------+\n",
      "\n"
     ]
    }
   ],
   "source": [
    "from pyspark.sql.functions import sum, avg, max, count\n",
    "agg_df = (df\n",
    ".groupby(\"department\")\n",
    " .agg(avg(\"age\").alias(\"avg_age\"),\n",
    "      count(\"name\").alias(\"count_name\")\n",
    "     )\n",
    ")\n",
    "agg_df.show()"
   ]
  },
  {
   "cell_type": "code",
   "execution_count": 22,
   "id": "35a324da-6564-425a-813c-130c586e74d7",
   "metadata": {},
   "outputs": [
    {
     "name": "stdout",
     "output_type": "stream",
     "text": [
      "+---+-----------+-----+\n",
      "|age| department| name|\n",
      "+---+-----------+-----+\n",
      "| 23|Engineering|Smith|\n",
      "| 25|    Finance|  Doe|\n",
      "| 30|         HR| John|\n",
      "| 35|         HR| Jane|\n",
      "| 40|    Finance| Mark|\n",
      "+---+-----------+-----+\n",
      "\n"
     ]
    }
   ],
   "source": [
    "df.orderBy(\"age\").show()"
   ]
  },
  {
   "cell_type": "code",
   "execution_count": 27,
   "id": "27fed064-2187-4b6c-9662-fd4fd79c3849",
   "metadata": {},
   "outputs": [],
   "source": [
    "people_df = spark.read.json(\"people.json\")\n",
    "departments_df = spark.read.json(\"departments.json\")"
   ]
  },
  {
   "cell_type": "code",
   "execution_count": 28,
   "id": "3f2a8dac-c442-4ccf-9858-bce19a9d08c8",
   "metadata": {},
   "outputs": [
    {
     "name": "stdout",
     "output_type": "stream",
     "text": [
      "+---------------+---+\n",
      "|department_name| id|\n",
      "+---------------+---+\n",
      "|             HR|  1|\n",
      "|        Finance|  2|\n",
      "|    Engineering|  3|\n",
      "+---------------+---+\n",
      "\n"
     ]
    }
   ],
   "source": [
    "departments_df.show()"
   ]
  },
  {
   "cell_type": "code",
   "execution_count": 29,
   "id": "430e5f8f-668a-4cf8-b1af-853bd92929ee",
   "metadata": {},
   "outputs": [],
   "source": [
    "# spark sql\n",
    "people_df.createOrReplaceTempView(\"people\")\n",
    "departments_df.createOrReplaceTempView(\"departments\")"
   ]
  },
  {
   "cell_type": "code",
   "execution_count": 32,
   "id": "2a9ef6c3-c1c8-4ab0-b449-64353a947271",
   "metadata": {},
   "outputs": [
    {
     "name": "stdout",
     "output_type": "stream",
     "text": [
      "+-----+---+---------------+\n",
      "| name|age|department_name|\n",
      "+-----+---+---------------+\n",
      "| John| 30|             HR|\n",
      "|  Doe| 25|        Finance|\n",
      "| Jane| 35|             HR|\n",
      "| Mark| 40|        Finance|\n",
      "|Smith| 23|    Engineering|\n",
      "+-----+---+---------------+\n",
      "\n"
     ]
    }
   ],
   "source": [
    "join_df = spark.sql(\"\"\"\n",
    "SELECT p.name, p.age, d.department_name\n",
    "FROM people p\n",
    "JOIN departments d ON d.department_name = p.department\n",
    "\"\"\")\n",
    "join_df.show()"
   ]
  },
  {
   "cell_type": "code",
   "execution_count": 33,
   "id": "eb891580-290e-4c3e-b548-e0c9f6db280d",
   "metadata": {},
   "outputs": [
    {
     "name": "stdout",
     "output_type": "stream",
     "text": [
      "итого 4,0K\n",
      "-rw-r--r-- 1 antonio antonio 99 сен  4 22:25 part-00000-e7b2a878-0751-443b-bb79-afabbe8c11a4-c000.csv\n",
      "-rw-r--r-- 1 antonio antonio  0 сен  4 22:25 _SUCCESS\n"
     ]
    }
   ],
   "source": [
    "join_df.write.csv(\"output.csv\", header=True)\n",
    "!ls -lh output.csv"
   ]
  },
  {
   "cell_type": "code",
   "execution_count": null,
   "id": "d154eefc-2045-4f36-9269-d823e8d84a47",
   "metadata": {},
   "outputs": [],
   "source": [
    "# Join"
   ]
  },
  {
   "cell_type": "code",
   "execution_count": 42,
   "id": "7af9dabe-3dc5-4173-be69-6b2d33767dc7",
   "metadata": {},
   "outputs": [],
   "source": [
    "# Пример данных для DataFrame people\n",
    "people_data = [\n",
    "    (\"John\", 30, 1),\n",
    "    (\"Doe\", 25, 2),\n",
    "    (\"Jane\", 35, 1),\n",
    "    (\"Mark\", 40, 2),\n",
    "    (\"Smith\", 23, 3),\n",
    "    (\"Mike\", 33, 5)\n",
    "]\n",
    "people_columns = [\"name\", \"age\", \"department_id\"]\n",
    "people_df = spark.createDataFrame(data=people_data, schema=people_columns)\n",
    "\n",
    "# Пример данных для DataFrame departments\n",
    "departments_data = [\n",
    "    (1, \"HR\"),\n",
    "    (2, \"Finance\"),\n",
    "    (3, \"Engineering\"),\n",
    "    (4, \"Marketing\")\n",
    "]\n",
    "departments_columns = [\"id\", \"department_name\"]\n",
    "departments_df = spark.createDataFrame(data=departments_data, schema=departments_columns)"
   ]
  },
  {
   "cell_type": "code",
   "execution_count": 43,
   "id": "ba16d506-2d47-4283-bb7a-215059935b42",
   "metadata": {},
   "outputs": [
    {
     "name": "stdout",
     "output_type": "stream",
     "text": [
      "+-----+---+-------------+---+---------------+\n",
      "| name|age|department_id| id|department_name|\n",
      "+-----+---+-------------+---+---------------+\n",
      "| John| 30|            1|  1|             HR|\n",
      "| Jane| 35|            1|  1|             HR|\n",
      "|  Doe| 25|            2|  2|        Finance|\n",
      "| Mark| 40|            2|  2|        Finance|\n",
      "|Smith| 23|            3|  3|    Engineering|\n",
      "+-----+---+-------------+---+---------------+\n",
      "\n"
     ]
    }
   ],
   "source": [
    "inner_join_df = (\n",
    "people_df.alias(\"p\")\n",
    "    .join(departments_df.alias(\"d\"), col(\"p.department_id\") == col(\"d.id\"), \"inner\")\n",
    ")\n",
    "inner_join_df.show()"
   ]
  },
  {
   "cell_type": "code",
   "execution_count": 44,
   "id": "74f68199-020b-4b3d-9bad-43b6fc5130b7",
   "metadata": {},
   "outputs": [
    {
     "name": "stdout",
     "output_type": "stream",
     "text": [
      "+-----+---+-------------+----+---------------+\n",
      "| name|age|department_id|  id|department_name|\n",
      "+-----+---+-------------+----+---------------+\n",
      "| John| 30|            1|   1|             HR|\n",
      "| Jane| 35|            1|   1|             HR|\n",
      "|  Doe| 25|            2|   2|        Finance|\n",
      "| Mark| 40|            2|   2|        Finance|\n",
      "| Mike| 33|            5|NULL|           NULL|\n",
      "|Smith| 23|            3|   3|    Engineering|\n",
      "+-----+---+-------------+----+---------------+\n",
      "\n"
     ]
    }
   ],
   "source": [
    "left_join_df = (\n",
    "people_df.alias(\"p\")\n",
    "    .join(departments_df.alias(\"d\"), col(\"p.department_id\") == col(\"d.id\"), \"left\")\n",
    ")\n",
    "left_join_df.show()"
   ]
  },
  {
   "cell_type": "code",
   "execution_count": 45,
   "id": "61066170-a52b-4cd7-b274-c0d6b86b45b0",
   "metadata": {},
   "outputs": [
    {
     "name": "stdout",
     "output_type": "stream",
     "text": [
      "+-----+----+-------------+---+---------------+\n",
      "| name| age|department_id| id|department_name|\n",
      "+-----+----+-------------+---+---------------+\n",
      "| Jane|  35|            1|  1|             HR|\n",
      "| John|  30|            1|  1|             HR|\n",
      "| Mark|  40|            2|  2|        Finance|\n",
      "|  Doe|  25|            2|  2|        Finance|\n",
      "|Smith|  23|            3|  3|    Engineering|\n",
      "| NULL|NULL|         NULL|  4|      Marketing|\n",
      "+-----+----+-------------+---+---------------+\n",
      "\n"
     ]
    }
   ],
   "source": [
    "right_join_df = (\n",
    "people_df.alias(\"p\")\n",
    "    .join(departments_df.alias(\"d\"), col(\"p.department_id\") == col(\"d.id\"), \"right\")\n",
    ")\n",
    "right_join_df.show()"
   ]
  },
  {
   "cell_type": "code",
   "execution_count": 46,
   "id": "f3adcf97-a78c-48b1-a8e0-744a66529add",
   "metadata": {},
   "outputs": [
    {
     "name": "stdout",
     "output_type": "stream",
     "text": [
      "+-----+----+-------------+----+---------------+\n",
      "| name| age|department_id|  id|department_name|\n",
      "+-----+----+-------------+----+---------------+\n",
      "| John|  30|            1|   1|             HR|\n",
      "| Jane|  35|            1|   1|             HR|\n",
      "|  Doe|  25|            2|   2|        Finance|\n",
      "| Mark|  40|            2|   2|        Finance|\n",
      "|Smith|  23|            3|   3|    Engineering|\n",
      "| NULL|NULL|         NULL|   4|      Marketing|\n",
      "| Mike|  33|            5|NULL|           NULL|\n",
      "+-----+----+-------------+----+---------------+\n",
      "\n"
     ]
    }
   ],
   "source": [
    "full_join_df = (\n",
    "people_df.alias(\"p\")\n",
    "    .join(departments_df.alias(\"d\"), col(\"p.department_id\") == col(\"d.id\"), \"full\")\n",
    ")\n",
    "full_join_df.show()"
   ]
  },
  {
   "cell_type": "code",
   "execution_count": 47,
   "id": "921c1588-83e2-4c8d-9163-52c06198476a",
   "metadata": {},
   "outputs": [
    {
     "name": "stderr",
     "output_type": "stream",
     "text": [
      "[Stage 95:====================================>                    (7 + 4) / 11]\r"
     ]
    },
    {
     "name": "stdout",
     "output_type": "stream",
     "text": [
      "+-----+---+-------------+---+---------------+\n",
      "| name|age|department_id| id|department_name|\n",
      "+-----+---+-------------+---+---------------+\n",
      "| John| 30|            1|  1|             HR|\n",
      "| John| 30|            1|  2|        Finance|\n",
      "| John| 30|            1|  3|    Engineering|\n",
      "| John| 30|            1|  4|      Marketing|\n",
      "|  Doe| 25|            2|  1|             HR|\n",
      "| Jane| 35|            1|  1|             HR|\n",
      "|  Doe| 25|            2|  2|        Finance|\n",
      "| Jane| 35|            1|  2|        Finance|\n",
      "|  Doe| 25|            2|  3|    Engineering|\n",
      "| Jane| 35|            1|  3|    Engineering|\n",
      "|  Doe| 25|            2|  4|      Marketing|\n",
      "| Jane| 35|            1|  4|      Marketing|\n",
      "| Mark| 40|            2|  1|             HR|\n",
      "| Mark| 40|            2|  2|        Finance|\n",
      "| Mark| 40|            2|  3|    Engineering|\n",
      "| Mark| 40|            2|  4|      Marketing|\n",
      "|Smith| 23|            3|  1|             HR|\n",
      "| Mike| 33|            5|  1|             HR|\n",
      "|Smith| 23|            3|  2|        Finance|\n",
      "| Mike| 33|            5|  2|        Finance|\n",
      "+-----+---+-------------+---+---------------+\n",
      "only showing top 20 rows\n",
      "\n"
     ]
    },
    {
     "name": "stderr",
     "output_type": "stream",
     "text": [
      "                                                                                \r"
     ]
    }
   ],
   "source": [
    "cross_join = people_df.crossJoin(departments_df)\n",
    "cross_join.show()"
   ]
  },
  {
   "cell_type": "code",
   "execution_count": 50,
   "id": "f0c17833-b785-40e4-a713-74e211c87a08",
   "metadata": {},
   "outputs": [
    {
     "name": "stdout",
     "output_type": "stream",
     "text": [
      "+----+---+-------------+---+---------------+\n",
      "|name|age|department_id| id|department_name|\n",
      "+----+---+-------------+---+---------------+\n",
      "|John| 30|            1|  1|             HR|\n",
      "|Jane| 35|            1|  1|             HR|\n",
      "|Mark| 40|            2|  2|        Finance|\n",
      "+----+---+-------------+---+---------------+\n",
      "\n"
     ]
    }
   ],
   "source": [
    "cond_join_df = (\n",
    "people_df.alias(\"p\")\n",
    "    .join(departments_df.alias(\"d\"), (col(\"p.department_id\") == col(\"d.id\")) & (col(\"age\") >= 30))\n",
    ")\n",
    "cond_join_df.show()"
   ]
  }
 ],
 "metadata": {
  "kernelspec": {
   "display_name": "Python 3 (ipykernel)",
   "language": "python",
   "name": "python3"
  },
  "language_info": {
   "codemirror_mode": {
    "name": "ipython",
    "version": 3
   },
   "file_extension": ".py",
   "mimetype": "text/x-python",
   "name": "python",
   "nbconvert_exporter": "python",
   "pygments_lexer": "ipython3",
   "version": "3.10.12"
  }
 },
 "nbformat": 4,
 "nbformat_minor": 5
}
