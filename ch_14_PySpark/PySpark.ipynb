{
 "cells": [
  {
   "cell_type": "code",
   "execution_count": 1,
   "id": "590b29ca-e264-40d5-af0d-0737fa721a17",
   "metadata": {},
   "outputs": [
    {
     "name": "stdout",
     "output_type": "stream",
     "text": [
      "pip 24.2 from /home/antonio/.local/lib/python3.10/site-packages/pip (python 3.10)\n"
     ]
    }
   ],
   "source": [
    "!pip --version"
   ]
  },
  {
   "cell_type": "code",
   "execution_count": 2,
   "id": "57564fbb-16c3-4651-8554-f3cdf76c441f",
   "metadata": {
    "scrolled": true
   },
   "outputs": [
    {
     "name": "stdout",
     "output_type": "stream",
     "text": [
      "Defaulting to user installation because normal site-packages is not writeable\n",
      "Collecting pyspark\n",
      "  Downloading pyspark-3.5.2.tar.gz (317.3 MB)\n",
      "\u001b[2K     \u001b[38;2;114;156;31m━━━━━━━━━━━━━━━━━━━━━━━━━━━━━━━━━━━━━━━\u001b[0m \u001b[32m317.3/317.3 MB\u001b[0m \u001b[31m7.9 MB/s\u001b[0m eta \u001b[36m0:00:00\u001b[0mm eta \u001b[36m0:00:01\u001b[0m[36m0:00:02\u001b[0m\n",
      "\u001b[?25h  Preparing metadata (setup.py) ... \u001b[?25ldone\n",
      "\u001b[?25hCollecting py4j\n",
      "  Downloading py4j-0.10.9.7-py2.py3-none-any.whl.metadata (1.5 kB)\n",
      "Downloading py4j-0.10.9.7-py2.py3-none-any.whl (200 kB)\n",
      "Building wheels for collected packages: pyspark\n",
      "  Building wheel for pyspark (setup.py) ... \u001b[?25ldone\n",
      "\u001b[?25h  Created wheel for pyspark: filename=pyspark-3.5.2-py2.py3-none-any.whl size=317812371 sha256=38f6c93c4fbd5b987da6abb423f9abe7704fa41be3a3ebef16ce36e2e8a2b585\n",
      "  Stored in directory: /home/antonio/.cache/pip/wheels/34/34/bd/03944534c44b677cd5859f248090daa9fb27b3c8f8e5f49574\n",
      "Successfully built pyspark\n",
      "Installing collected packages: py4j, pyspark\n",
      "Successfully installed py4j-0.10.9.7 pyspark-3.5.2\n"
     ]
    }
   ],
   "source": [
    "!pip install pyspark py4j"
   ]
  },
  {
   "cell_type": "code",
   "execution_count": 30,
   "id": "c7033ca8-5e5f-4085-855a-35910d3e979a",
   "metadata": {},
   "outputs": [],
   "source": [
    "from pyspark import SparkContext, SparkConf\n",
    "from pyspark.sql import SparkSession,DataFrame\n",
    "from pyspark.sql.functions import col, round\n",
    "\n",
    "conf = (\n",
    "     SparkConf()\n",
    "    .setAppName('Simple_Spark')\n",
    "    .setMaster('local[*]')\n",
    ")\n",
    "\n",
    "\n",
    "# Spark сессия\n",
    "spark = (\n",
    "    SparkSession\n",
    "    .builder\n",
    "    .config(conf=conf)\n",
    "    # .enableHiveSupport()\n",
    "    .getOrCreate()\n",
    ")"
   ]
  },
  {
   "cell_type": "code",
   "execution_count": 15,
   "id": "8455b5f3-0f3b-4303-951d-cd01038bb8b5",
   "metadata": {},
   "outputs": [
    {
     "name": "stdout",
     "output_type": "stream",
     "text": [
      "+---+-------+----------+\n",
      "| id|   city|population|\n",
      "+---+-------+----------+\n",
      "|  1| Moscow|        15|\n",
      "|  2|    Rio|         5|\n",
      "|  3|GonKong|        10|\n",
      "+---+-------+----------+\n",
      "\n"
     ]
    }
   ],
   "source": [
    "# создать DF\n",
    "data = [(1, \"Moscow\", 15), (2, \"Rio\", 5), (3, \"GonKong\", 10)]\n",
    "columns = [\"id\", \"city\", \"population\"]\n",
    "\n",
    "df =  spark.createDataFrame(data).toDF(*columns)\n",
    "df.show()"
   ]
  },
  {
   "cell_type": "code",
   "execution_count": 22,
   "id": "05f66165-b66f-4e35-aff6-81ba97ea50b9",
   "metadata": {},
   "outputs": [
    {
     "name": "stdout",
     "output_type": "stream",
     "text": [
      "+--------+-----------+\n",
      "|language|users_count|\n",
      "+--------+-----------+\n",
      "|    Java|      20000|\n",
      "|  Python|     100000|\n",
      "|   Scala|       3000|\n",
      "+--------+-----------+\n",
      "\n",
      "root\n",
      " |-- language: string (nullable = true)\n",
      " |-- users_count: string (nullable = true)\n",
      "\n"
     ]
    }
   ],
   "source": [
    "# создать DF c RDD\n",
    "\n",
    "columns2 = [\"language\",\"users_count\"]\n",
    "data2 = [(\"Java\", \"20000\"), (\"Python\", \"100000\"), (\"Scala\", \"3000\")]\n",
    "\n",
    "rdd = spark.sparkContext.parallelize(data2)\n",
    "\n",
    "df2 = rdd.toDF(columns2)\n",
    "\n",
    "df2.show()\n",
    "\n",
    "df2.printSchema()"
   ]
  },
  {
   "cell_type": "code",
   "execution_count": 26,
   "id": "0a4385c1-8813-413e-a7a6-9ccefc8d0e9d",
   "metadata": {
    "scrolled": true
   },
   "outputs": [
    {
     "name": "stdout",
     "output_type": "stream",
     "text": [
      "+----------+-----------+-------+\n",
      "|  language|users_count|avg_sal|\n",
      "+----------+-----------+-------+\n",
      "|      Java|      20000|   3000|\n",
      "|    Python|     100000|   2500|\n",
      "|     Scala|       3000|   3500|\n",
      "|JavaScript|       5000|   2000|\n",
      "|    Kotlin|       4000|   2500|\n",
      "+----------+-----------+-------+\n",
      "\n",
      "root\n",
      " |-- language: string (nullable = true)\n",
      " |-- users_count: integer (nullable = true)\n",
      " |-- avg_sal: integer (nullable = true)\n",
      "\n"
     ]
    }
   ],
   "source": [
    "# создать RDD с помощью схемы\n",
    "\n",
    "from pyspark.sql.types import StructField, StructType, StringType, IntegerType\n",
    "\n",
    "columns3 = [\"language\",\"users_count\"]\n",
    "data3 = [(\"Java\", 20000, 3000), (\"Python\", 100000, 2500), (\"Scala\", 3000, 3500), (\"JavaScript\", 5000, 2000), (\"Kotlin\", 4000, 2500)]\n",
    "\n",
    "schema = StructType([\n",
    "    StructField(\"language\", StringType(), True),\n",
    "    StructField(\"users_count\", IntegerType(), True),\n",
    "    StructField(\"avg_sal\", IntegerType(), True)\n",
    "])\n",
    "\n",
    "df3 = spark.createDataFrame(data3, schema)\n",
    "\n",
    "df3.show()\n",
    "\n",
    "df3.printSchema()\n"
   ]
  },
  {
   "cell_type": "code",
   "execution_count": 37,
   "id": "c10feeb3-32c2-46de-ae2a-d556924e2352",
   "metadata": {},
   "outputs": [
    {
     "name": "stdout",
     "output_type": "stream",
     "text": [
      "root\n",
      " |-- language: string (nullable = true)\n",
      " |-- new_user_count: integer (nullable = true)\n",
      " |-- avg_sal: integer (nullable = true)\n",
      "\n",
      "+----------+--------------+-------+\n",
      "|  language|new_user_count|avg_sal|\n",
      "+----------+--------------+-------+\n",
      "|      Java|         20500|   3600|\n",
      "|    Python|        100500|   3000|\n",
      "|     Scala|          3500|   4200|\n",
      "|JavaScript|          5500|   2400|\n",
      "|    Kotlin|          4500|   3000|\n",
      "+----------+--------------+-------+\n",
      "\n"
     ]
    }
   ],
   "source": [
    "new_df3 = (\n",
    "            df3\n",
    "            .withColumn(\"avg_sal\", round((col(\"avg_sal\") * 0.2) + col(\"avg_sal\")).cast(\"Int\"))\n",
    "            .select(col(\"language\"),\n",
    "                       (col(\"users_count\") + 500).alias(\"new_user_count\"),\n",
    "                    col(\"avg_sal\")\n",
    "                \n",
    "            )\n",
    "        )\n",
    "new_df3.printSchema()\n",
    "new_df3.show()"
   ]
  },
  {
   "cell_type": "code",
   "execution_count": 42,
   "id": "9cdf2f94-c224-4def-8456-4f665d783989",
   "metadata": {},
   "outputs": [],
   "source": [
    "spark.stop()"
   ]
  },
  {
   "cell_type": "code",
   "execution_count": 39,
   "id": "4ba869c9-0f73-4dea-893d-0ad649fc404b",
   "metadata": {},
   "outputs": [
    {
     "data": {
      "text/plain": [
       "''"
      ]
     },
     "execution_count": 39,
     "metadata": {},
     "output_type": "execute_result"
    }
   ],
   "source": []
  }
 ],
 "metadata": {
  "kernelspec": {
   "display_name": "Python 3 (ipykernel)",
   "language": "python",
   "name": "python3"
  },
  "language_info": {
   "codemirror_mode": {
    "name": "ipython",
    "version": 3
   },
   "file_extension": ".py",
   "mimetype": "text/x-python",
   "name": "python",
   "nbconvert_exporter": "python",
   "pygments_lexer": "ipython3",
   "version": "3.10.12"
  }
 },
 "nbformat": 4,
 "nbformat_minor": 5
}
