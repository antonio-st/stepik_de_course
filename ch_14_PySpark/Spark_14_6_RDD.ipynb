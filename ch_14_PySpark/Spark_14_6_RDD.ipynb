{
 "cells": [
  {
   "cell_type": "code",
   "execution_count": 1,
   "id": "f40ea5c3-c48b-4ff6-9447-bcbc9f8ec3bb",
   "metadata": {},
   "outputs": [
    {
     "name": "stderr",
     "output_type": "stream",
     "text": [
      "24/09/01 21:29:33 WARN Utils: Your hostname, antonio-f513 resolves to a loopback address: 127.0.1.1; using 192.168.100.11 instead (on interface wlo1)\n",
      "24/09/01 21:29:33 WARN Utils: Set SPARK_LOCAL_IP if you need to bind to another address\n",
      "Setting default log level to \"WARN\".\n",
      "To adjust logging level use sc.setLogLevel(newLevel). For SparkR, use setLogLevel(newLevel).\n",
      "24/09/01 21:29:34 WARN NativeCodeLoader: Unable to load native-hadoop library for your platform... using builtin-java classes where applicable\n"
     ]
    }
   ],
   "source": [
    "from pyspark import SparkContext, SparkConf\n",
    "from pyspark.sql import SparkSession,DataFrame\n",
    "from pyspark.sql.functions import col, round\n",
    "\n",
    "conf = (\n",
    "     SparkConf()\n",
    "    .setAppName('Simple_Spark')\n",
    "    .setMaster('local[*]')\n",
    ")\n",
    "\n",
    "\n",
    "# Spark сессия\n",
    "spark = (\n",
    "    SparkSession\n",
    "    .builder\n",
    "    .config(conf=conf)\n",
    "    # .enableHiveSupport()\n",
    "    .getOrCreate()\n",
    ")"
   ]
  },
  {
   "cell_type": "markdown",
   "id": "03919878-1bd1-4358-8797-ad04fe400099",
   "metadata": {},
   "source": [
    "`Преобразования (Transformations) в RDD`"
   ]
  },
  {
   "cell_type": "code",
   "execution_count": null,
   "id": "2e139574-b69f-4a78-97be-2d8fcfda8579",
   "metadata": {},
   "outputs": [],
   "source": [
    "\n",
    "\n",
    "# from pyspark import SparkContext\n",
    "\n",
    "# sc = SparkContext(\"local\", \"Transformations Example\")\n",
    "\n"
   ]
  },
  {
   "cell_type": "code",
   "execution_count": 22,
   "id": "becd7ea7-f246-4adf-9de2-6cf23875913f",
   "metadata": {},
   "outputs": [],
   "source": [
    "# sc.stop()"
   ]
  },
  {
   "cell_type": "code",
   "execution_count": 2,
   "id": "846db70a-e8cf-4882-bbb1-e5324b6fbd42",
   "metadata": {},
   "outputs": [
    {
     "name": "stderr",
     "output_type": "stream",
     "text": [
      "                                                                                \r"
     ]
    },
    {
     "data": {
      "text/plain": [
       "[1, 2, 3, 4, 5, 6, 7, 8, 9, 10, 11, 12, 13, 14, 15, 16, 17, 18, 19, 20]"
      ]
     },
     "execution_count": 2,
     "metadata": {},
     "output_type": "execute_result"
    }
   ],
   "source": [
    "data = range(1, 30)\n",
    "rdd = spark.sparkContext.parallelize(data)\n",
    "rdd.take(20)"
   ]
  },
  {
   "cell_type": "code",
   "execution_count": 3,
   "id": "233beab1-e0af-45aa-801e-3e30dbbcbd51",
   "metadata": {},
   "outputs": [
    {
     "data": {
      "text/plain": [
       "[[2, 1], [4, 2], [6, 3], [8, 4], [10, 5]]"
      ]
     },
     "execution_count": 3,
     "metadata": {},
     "output_type": "execute_result"
    }
   ],
   "source": [
    "# map: Применяет функцию к каждому элементу RDD и возвращает новый RDD.\n",
    "squared_rdd = rdd.map(lambda x: [x * 2, x])\n",
    "squared_rdd.take(5)"
   ]
  },
  {
   "cell_type": "code",
   "execution_count": 4,
   "id": "e08de7e6-94f1-4e92-8449-75f631605b60",
   "metadata": {},
   "outputs": [
    {
     "data": {
      "text/plain": [
       "PythonRDD[4] at RDD at PythonRDD.scala:53"
      ]
     },
     "execution_count": 4,
     "metadata": {},
     "output_type": "execute_result"
    }
   ],
   "source": [
    "squared_rdd"
   ]
  },
  {
   "cell_type": "code",
   "execution_count": 5,
   "id": "d1ddf847-186b-4c1c-9840-790f70085b71",
   "metadata": {},
   "outputs": [
    {
     "data": {
      "text/plain": [
       "[1, 3, 5, 7, 9, 11, 13, 15, 17, 19, 21, 23, 25, 27, 29]"
      ]
     },
     "execution_count": 5,
     "metadata": {},
     "output_type": "execute_result"
    }
   ],
   "source": [
    "# filter: Возвращает новый RDD, содержащий только те элементы, которые удовлетворяют условию\n",
    "filter_rdd = rdd.filter(lambda x: x % 2 != 0)\n",
    "filter_rdd2 = rdd.filter(lambda x: x <= 10)\n",
    "filter_rdd.take(20)"
   ]
  },
  {
   "cell_type": "code",
   "execution_count": 6,
   "id": "4b463c32-b53e-46d2-beba-9ee736e6b499",
   "metadata": {},
   "outputs": [
    {
     "data": {
      "text/plain": [
       "[1, 2, 3, 4, 5, 6, 7, 8, 9, 10]"
      ]
     },
     "execution_count": 6,
     "metadata": {},
     "output_type": "execute_result"
    }
   ],
   "source": [
    "filter_rdd2.take(20)"
   ]
  },
  {
   "cell_type": "code",
   "execution_count": 7,
   "id": "a842bae2-6016-4f5e-add6-cb923552b6ba",
   "metadata": {},
   "outputs": [
    {
     "data": {
      "text/plain": [
       "[1, 3, 5, 7, 9, 11, 13, 15, 17, 19, 21, 23, 25, 27, 29, 1, 2, 3, 4, 5]"
      ]
     },
     "execution_count": 7,
     "metadata": {},
     "output_type": "execute_result"
    }
   ],
   "source": [
    "# union: Объединяет два RDD в один.\n",
    "\n",
    "filter_rdd.union(filter_rdd2).take(20)"
   ]
  },
  {
   "cell_type": "code",
   "execution_count": 8,
   "id": "cc9bd3aa-27e2-4e59-ae40-80dcc162ed51",
   "metadata": {},
   "outputs": [
    {
     "data": {
      "text/plain": [
       "[1, 1, 3, 4, 5, 5, 6, 7, 8]"
      ]
     },
     "execution_count": 8,
     "metadata": {},
     "output_type": "execute_result"
    }
   ],
   "source": [
    "data2 = [1, 1, 3, 4, 5, 5, 6 ,7 ,8]\n",
    "rdd2 = spark.sparkContext.parallelize(data2)\n",
    "rdd2.take(20)"
   ]
  },
  {
   "cell_type": "code",
   "execution_count": 9,
   "id": "cfb07cc2-679f-4d95-ac03-3c89aba38236",
   "metadata": {},
   "outputs": [
    {
     "data": {
      "text/plain": [
       "[4, 8, 1, 5, 6, 3, 7]"
      ]
     },
     "execution_count": 9,
     "metadata": {},
     "output_type": "execute_result"
    }
   ],
   "source": [
    "# distinct: Убирает дублирующиеся элементы из RDD\n",
    "rdd_distinct = rdd2.distinct()\n",
    "rdd_distinct.take(20)"
   ]
  },
  {
   "cell_type": "markdown",
   "id": "6424c1f3-55c5-4ea1-9a47-deff1ed16868",
   "metadata": {},
   "source": [
    "`Действия (Actions)`"
   ]
  },
  {
   "cell_type": "code",
   "execution_count": 13,
   "id": "d03bfa02-7158-4620-a1e2-80cb3a420fba",
   "metadata": {},
   "outputs": [
    {
     "name": "stdout",
     "output_type": "stream",
     "text": [
      "[1, 1, 3, 4, 5, 5, 6, 7, 8]\n"
     ]
    }
   ],
   "source": [
    "# Применение действия collect для выполнения вычислений и получения результата\n",
    "# Возвращает все элементы RDD или DataFrame в виде списка на драйвер.\n",
    "\n",
    "result_rdd = rdd2.collect()\n",
    "print(result_rdd)"
   ]
  },
  {
   "cell_type": "code",
   "execution_count": 16,
   "id": "413fec01-373b-4ecb-b301-751f25e11ffd",
   "metadata": {},
   "outputs": [
    {
     "data": {
      "text/plain": [
       "29"
      ]
     },
     "execution_count": 16,
     "metadata": {},
     "output_type": "execute_result"
    }
   ],
   "source": [
    "# Возвращает количество элементов в RDD или DataFrame.\n",
    "\n",
    "result_count = rdd.count()\n",
    "result_count"
   ]
  },
  {
   "cell_type": "code",
   "execution_count": 17,
   "id": "d14fcbdc-ed55-4115-82f0-5d73fd3af291",
   "metadata": {},
   "outputs": [
    {
     "data": {
      "text/plain": [
       "1"
      ]
     },
     "execution_count": 17,
     "metadata": {},
     "output_type": "execute_result"
    }
   ],
   "source": [
    "# Возвращает первый элемент RDD или DataFrame.\n",
    "\n",
    "rdd.first()"
   ]
  },
  {
   "cell_type": "code",
   "execution_count": 25,
   "id": "9c60a4d6-d7c2-4dc0-ad86-6a88b42ef853",
   "metadata": {},
   "outputs": [
    {
     "data": {
      "text/plain": [
       "[1, 2, 3, 4, 5]"
      ]
     },
     "execution_count": 25,
     "metadata": {},
     "output_type": "execute_result"
    }
   ],
   "source": [
    "# Возвращает первые n элементов RDD или DataFrame.\n",
    "\n",
    "rdd.take(5)"
   ]
  },
  {
   "cell_type": "code",
   "execution_count": 40,
   "id": "bd78f157-1704-4af2-827d-b3051fc1ade8",
   "metadata": {},
   "outputs": [
    {
     "data": {
      "text/plain": [
       "[1, 1, 3, 4, 5, 5, 6, 7, 8]"
      ]
     },
     "execution_count": 40,
     "metadata": {},
     "output_type": "execute_result"
    }
   ],
   "source": [
    "rdd2.take(30)"
   ]
  },
  {
   "cell_type": "code",
   "execution_count": 42,
   "id": "02b34fdb-c8a7-429f-9527-019618273189",
   "metadata": {},
   "outputs": [
    {
     "data": {
      "text/plain": [
       "100800"
      ]
     },
     "execution_count": 42,
     "metadata": {},
     "output_type": "execute_result"
    }
   ],
   "source": [
    "# reduce: Применяет коммутативную и ассоциативную бинарную функцию для агрегации элементов.\n",
    "\n",
    "add = lambda x, y: x * y\n",
    "rdd2.reduce(add)"
   ]
  },
  {
   "cell_type": "code",
   "execution_count": 56,
   "id": "f0b29396-04de-4c00-ac15-a67264ff0f73",
   "metadata": {},
   "outputs": [
    {
     "name": "stdout",
     "output_type": "stream",
     "text": [
      "part-00000  part-00001\tpart-00002  part-00003\t_SUCCESS\n",
      "[16, 8]\n",
      "[18, 9]\n",
      "[20, 10]\n",
      "[22, 11]\n",
      "[24, 12]\n",
      "[26, 13]\n",
      "[28, 14]\n"
     ]
    }
   ],
   "source": [
    "# Сохраняет RDD как текстовый файл в файловой системе.\n",
    "squared_rdd.saveAsTextFile(\"squared_rdd\")\n",
    "!ls -h squared_rdd\n",
    "!cat ./squared_rdd/part-00001"
   ]
  }
 ],
 "metadata": {
  "kernelspec": {
   "display_name": "Python 3 (ipykernel)",
   "language": "python",
   "name": "python3"
  },
  "language_info": {
   "codemirror_mode": {
    "name": "ipython",
    "version": 3
   },
   "file_extension": ".py",
   "mimetype": "text/x-python",
   "name": "python",
   "nbconvert_exporter": "python",
   "pygments_lexer": "ipython3",
   "version": "3.10.12"
  }
 },
 "nbformat": 4,
 "nbformat_minor": 5
}
