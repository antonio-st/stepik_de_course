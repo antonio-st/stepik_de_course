{
 "cells": [
  {
   "cell_type": "markdown",
   "metadata": {
    "collapsed": false,
    "jupyter": {
     "outputs_hidden": false
    }
   },
   "source": []
  },
  {
   "cell_type": "markdown",
   "metadata": {
    "collapsed": false,
    "jupyter": {
     "outputs_hidden": false
    }
   },
   "source": [
    "### Сортировки в Python"
   ]
  },
  {
   "cell_type": "markdown",
   "metadata": {
    "collapsed": false,
    "jupyter": {
     "outputs_hidden": false
    }
   },
   "source": [
    "`Списки (List):`\n",
    "\n",
    "\n",
    "    Списки — наиболее распространенная структура данных для сортировки.\n",
    "    Python предоставляет методы list.sort() и функцию sorted(), которые можно использовать для сортировки списков.\n",
    "\n",
    "Давайте рассмотрим оба метода с примерами.\n",
    "\n",
    "Метод sort() сортирует список на месте (в оригинальном списке) и не создает новый объект. Он поддерживает два полезных параметра:\n",
    "\n",
    "    reverse: сортировка в обратном порядке (по умолчанию False).\n",
    "    key: функция для определения правила сортировки (например, сортировка по длине строк).\n"
   ]
  },
  {
   "cell_type": "code",
   "execution_count": 5,
   "metadata": {
    "collapsed": false,
    "jupyter": {
     "outputs_hidden": false
    }
   },
   "outputs": [
    {
     "name": "stdout",
     "output_type": "stream",
     "text": [
      "[9, 5, 4, 3, 2, 1, 1]\n",
      "[1, 1, 2, 3, 4, 5, 9]\n"
     ]
    }
   ],
   "source": [
    "arr = [3, 1, 4, 1, 5, 9, 2]\n",
    "arr.sort(reverse=True)\n",
    "print(arr)\n",
    "arr.sort(reverse=False)\n",
    "print(arr)"
   ]
  },
  {
   "cell_type": "code",
   "execution_count": 7,
   "metadata": {
    "collapsed": false,
    "jupyter": {
     "outputs_hidden": false
    }
   },
   "outputs": [
    {
     "name": "stdout",
     "output_type": "stream",
     "text": [
      "[1, 1, 2, 3, 4, 5, 9]\n"
     ]
    }
   ],
   "source": [
    "arr_2 = [3, 1, 4, 1, 5, 9, 2]\n",
    "# возвращает новый список\n",
    "print(sorted(arr_2))"
   ]
  },
  {
   "cell_type": "markdown",
   "metadata": {
    "collapsed": false,
    "jupyter": {
     "outputs_hidden": false
    }
   },
   "source": [
    "`Кортежи (Tuple):`\n",
    "\n",
    "    Кортежи неизменяемы, поэтому их нельзя сортировать \"на месте\".\n",
    "    Функция sorted() может использоваться для создания отсортированного списка на основе кортежа."
   ]
  },
  {
   "cell_type": "code",
   "execution_count": 8,
   "metadata": {
    "collapsed": false,
    "jupyter": {
     "outputs_hidden": false
    }
   },
   "outputs": [
    {
     "name": "stdout",
     "output_type": "stream",
     "text": [
      "Отсортированные ключи: ['a', 'b', 'c']\n"
     ]
    }
   ],
   "source": [
    "# Сортировка по ключам\n",
    "my_dict = {'b': 3, 'a': 5, 'c': 1}\n",
    "sorted_keys = sorted(my_dict)  # Получаем отсортированный список ключей\n",
    "print(\"Отсортированные ключи:\", sorted_keys)"
   ]
  },
  {
   "cell_type": "code",
   "execution_count": 9,
   "metadata": {
    "collapsed": false,
    "jupyter": {
     "outputs_hidden": false
    }
   },
   "outputs": [
    {
     "name": "stdout",
     "output_type": "stream",
     "text": [
      "Словарь, отсортированный по значениям: [('c', 1), ('b', 3), ('a', 5)]\n"
     ]
    }
   ],
   "source": [
    "# Сортировка по значениям\n",
    "sorted_by_values = sorted(my_dict.items(), key=lambda item: item[1])\n",
    "print(\"Словарь, отсортированный по значениям:\", sorted_by_values)"
   ]
  },
  {
   "cell_type": "markdown",
   "metadata": {
    "collapsed": false,
    "jupyter": {
     "outputs_hidden": false
    }
   },
   "source": [
    "`Множества (Set):`\n",
    "\n",
    "    Множества неупорядочены, но их можно преобразовать в список, а затем отсортировать с помощью sorted().\n"
   ]
  },
  {
   "cell_type": "code",
   "execution_count": 14,
   "metadata": {},
   "outputs": [
    {
     "name": "stdout",
     "output_type": "stream",
     "text": [
      "[1, 2, 3, 4, 5]\n"
     ]
    }
   ],
   "source": [
    "my_set = {5, 3, 1, 2, 4}\n",
    "new_list = list(my_set)\n",
    "print(sorted(new_list))"
   ]
  },
  {
   "cell_type": "markdown",
   "metadata": {},
   "source": [
    "Теперь, когда мы знаем, что есть уже встроенные в Python методы сортировок - давайте ответим на последний в этой теме вопрос - А зачем нам тогда писать какие-то сортировки, если они уже есть в Python? Причин несколько, разберем основные.\n",
    "\n",
    "1. Изучение сортировок помогает лучше понять алгоритмы и основы работы с данными. Ведь, зная, как работает та или иная сортировка - всегда проще понять почему что-то работает не так.\n",
    "\n",
    "2. Встроенные методы Python используют Timsort, оптимизированный для реальных данных, но не всегда подходящий для всех ситуаций. Пользовательские алгоритмы могут быть полезны:\n",
    "\n",
    "    Для маленьких массивов: Простейшие алгоритмы, такие как сортировка вставками или пузырьковая сортировка, могут быть быстрее для небольших массивов, так как имеют меньшие накладные расходы.\n",
    "    Для частично отсортированных данных: Например, алгоритмы вроде сортировки вставками могут работать быстрее, если массив почти отсортирован.\n",
    "    Для специализированных случаев, например, если известно, что данные ограничены определенным диапазоном значений (например, для поразрядной сортировки).\n",
    "\n",
    "3. Не всегда алгоритмы сортировки, которые уже были преднаписанны подойдут с точки зрения использования памяти. Мы же не знаем на чем они тестировались и для чего подходят."
   ]
  },
  {
   "cell_type": "markdown",
   "metadata": {},
   "source": [
    "`Timsort`\n",
    "\n",
    "Timsort — это комбинация сортировки вставками и сортировки слиянием. Он эффективно работает на небольших данных, особенно если они частично отсортированы.\n",
    "\n",
    "    Худший и средний случай: O(n log n)\n",
    "    Лучший случай: O(n)\n",
    "    Пространственная сложность: O(n)"
   ]
  },
  {
   "cell_type": "code",
   "execution_count": 15,
   "metadata": {},
   "outputs": [
    {
     "name": "stdout",
     "output_type": "stream",
     "text": [
      "Timsort: [1, 1, 2, 3, 4, 5, 9]\n",
      "Timsort с sorted(): [1, 1, 2, 3, 4, 5, 9]\n"
     ]
    }
   ],
   "source": [
    "arr = [3, 1, 4, 1, 5, 9, 2]\n",
    "arr.sort()  # Сортирует на месте\n",
    "print(\"Timsort:\", arr)\n",
    "\n",
    "# Либо\n",
    "arr = [3, 1, 4, 1, 5, 9, 2]\n",
    "sorted_arr = sorted(arr)  # Создает новый отсортированный список\n",
    "print(\"Timsort с sorted():\", sorted_arr)"
   ]
  },
  {
   "cell_type": "markdown",
   "metadata": {},
   "source": [
    "`сортировка слиянием.`\n",
    "\n",
    "Идея: Делим массив на две половины, рекурсивно сортируем каждую часть и объединяем.\n",
    "\n",
    "Временная сложность: O(n log n) в худшем, среднем и лучшем случаях.\n",
    "\n",
    "Пространственная сложность: O(n) из-за дополнительной памяти для объединения\n",
    "\n",
    "По схеме выглядит следующим образом.\n",
    "\n",
    "![](https://ucarecdn.com/f7298cba-1f61-457c-9b95-95c061ed1883/)"
   ]
  },
  {
   "cell_type": "code",
   "execution_count": 16,
   "metadata": {},
   "outputs": [
    {
     "name": "stdout",
     "output_type": "stream",
     "text": [
      "Merge Sort: [1, 2, 3, 4, 5, 6, 7, 8]\n"
     ]
    }
   ],
   "source": [
    "def merge_sort(arr):\n",
    "    if len(arr) <= 1:\n",
    "        return arr\n",
    "    mid = len(arr) // 2\n",
    "    left = merge_sort(arr[:mid])\n",
    "    right = merge_sort(arr[mid:])\n",
    "    return merge(left, right)\n",
    "\n",
    "def merge(left, right):\n",
    "    result = []\n",
    "    i = j = 0\n",
    "    while i < len(left) and j < len(right):\n",
    "        if left[i] < right[j]:\n",
    "            result.append(left[i])\n",
    "            i += 1\n",
    "        else:\n",
    "            result.append(right[j])\n",
    "            j += 1\n",
    "    result.extend(left[i:])\n",
    "    result.extend(right[j:])\n",
    "    return result\n",
    "\n",
    "arr = [8, 3, 5, 1, 4, 2, 7, 6]\n",
    "print(\"Merge Sort:\", merge_sort(arr))"
   ]
  },
  {
   "cell_type": "code",
   "execution_count": null,
   "metadata": {},
   "outputs": [],
   "source": []
  },
  {
   "cell_type": "code",
   "execution_count": null,
   "metadata": {},
   "outputs": [],
   "source": []
  },
  {
   "cell_type": "code",
   "execution_count": null,
   "metadata": {
    "collapsed": false,
    "jupyter": {
     "outputs_hidden": false
    }
   },
   "outputs": [],
   "source": []
  }
 ],
 "metadata": {
  "kernelspec": {
   "display_name": "Python 3 (ipykernel)",
   "language": "python",
   "name": "python3"
  },
  "language_info": {
   "codemirror_mode": {
    "name": "ipython",
    "version": 3
   },
   "file_extension": ".py",
   "mimetype": "text/x-python",
   "name": "python",
   "nbconvert_exporter": "python",
   "pygments_lexer": "ipython3",
   "version": "3.10.12"
  }
 },
 "nbformat": 4,
 "nbformat_minor": 4
}
