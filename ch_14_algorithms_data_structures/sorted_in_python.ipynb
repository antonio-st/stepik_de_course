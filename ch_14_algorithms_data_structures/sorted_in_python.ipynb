{
 "cells": [
  {
   "cell_type": "markdown",
   "metadata": {
    "collapsed": false,
    "jupyter": {
     "outputs_hidden": false
    }
   },
   "source": []
  },
  {
   "cell_type": "markdown",
   "metadata": {
    "collapsed": false,
    "jupyter": {
     "outputs_hidden": false
    }
   },
   "source": [
    "### Сортировки в Python"
   ]
  },
  {
   "cell_type": "markdown",
   "metadata": {
    "collapsed": false,
    "jupyter": {
     "outputs_hidden": false
    }
   },
   "source": [
    "`Списки (List):`\n",
    "\n",
    "\n",
    "    Списки — наиболее распространенная структура данных для сортировки.\n",
    "    Python предоставляет методы list.sort() и функцию sorted(), которые можно использовать для сортировки списков.\n",
    "\n",
    "Давайте рассмотрим оба метода с примерами.\n",
    "\n",
    "Метод sort() сортирует список на месте (в оригинальном списке) и не создает новый объект. Он поддерживает два полезных параметра:\n",
    "\n",
    "    reverse: сортировка в обратном порядке (по умолчанию False).\n",
    "    key: функция для определения правила сортировки (например, сортировка по длине строк).\n"
   ]
  },
  {
   "cell_type": "code",
   "execution_count": 5,
   "metadata": {
    "collapsed": false,
    "jupyter": {
     "outputs_hidden": false
    }
   },
   "outputs": [
    {
     "name": "stdout",
     "output_type": "stream",
     "text": [
      "[9, 5, 4, 3, 2, 1, 1]\n",
      "[1, 1, 2, 3, 4, 5, 9]\n"
     ]
    }
   ],
   "source": [
    "arr = [3, 1, 4, 1, 5, 9, 2]\n",
    "arr.sort(reverse=True)\n",
    "print(arr)\n",
    "arr.sort(reverse=False)\n",
    "print(arr)"
   ]
  },
  {
   "cell_type": "code",
   "execution_count": 7,
   "metadata": {
    "collapsed": false,
    "jupyter": {
     "outputs_hidden": false
    }
   },
   "outputs": [
    {
     "name": "stdout",
     "output_type": "stream",
     "text": [
      "[1, 1, 2, 3, 4, 5, 9]\n"
     ]
    }
   ],
   "source": [
    "arr_2 = [3, 1, 4, 1, 5, 9, 2]\n",
    "# возвращает новый список\n",
    "print(sorted(arr_2))"
   ]
  },
  {
   "cell_type": "markdown",
   "metadata": {
    "collapsed": false,
    "jupyter": {
     "outputs_hidden": false
    }
   },
   "source": [
    "`Кортежи (Tuple):`\n",
    "\n",
    "    Кортежи неизменяемы, поэтому их нельзя сортировать \"на месте\".\n",
    "    Функция sorted() может использоваться для создания отсортированного списка на основе кортежа."
   ]
  },
  {
   "cell_type": "code",
   "execution_count": 8,
   "metadata": {
    "collapsed": false,
    "jupyter": {
     "outputs_hidden": false
    }
   },
   "outputs": [
    {
     "name": "stdout",
     "output_type": "stream",
     "text": [
      "Отсортированные ключи: ['a', 'b', 'c']\n"
     ]
    }
   ],
   "source": [
    "# Сортировка по ключам\n",
    "my_dict = {'b': 3, 'a': 5, 'c': 1}\n",
    "sorted_keys = sorted(my_dict)  # Получаем отсортированный список ключей\n",
    "print(\"Отсортированные ключи:\", sorted_keys)"
   ]
  },
  {
   "cell_type": "code",
   "execution_count": 9,
   "metadata": {
    "collapsed": false,
    "jupyter": {
     "outputs_hidden": false
    }
   },
   "outputs": [
    {
     "name": "stdout",
     "output_type": "stream",
     "text": [
      "Словарь, отсортированный по значениям: [('c', 1), ('b', 3), ('a', 5)]\n"
     ]
    }
   ],
   "source": [
    "# Сортировка по значениям\n",
    "sorted_by_values = sorted(my_dict.items(), key=lambda item: item[1])\n",
    "print(\"Словарь, отсортированный по значениям:\", sorted_by_values)"
   ]
  },
  {
   "cell_type": "markdown",
   "metadata": {
    "collapsed": false,
    "jupyter": {
     "outputs_hidden": false
    }
   },
   "source": [
    "`Множества (Set):`\n",
    "\n",
    "    Множества неупорядочены, но их можно преобразовать в список, а затем отсортировать с помощью sorted().\n"
   ]
  },
  {
   "cell_type": "code",
   "execution_count": 14,
   "metadata": {},
   "outputs": [
    {
     "name": "stdout",
     "output_type": "stream",
     "text": [
      "[1, 2, 3, 4, 5]\n"
     ]
    }
   ],
   "source": [
    "my_set = {5, 3, 1, 2, 4}\n",
    "new_list = list(my_set)\n",
    "print(sorted(new_list))"
   ]
  },
  {
   "cell_type": "markdown",
   "metadata": {},
   "source": [
    "Теперь, когда мы знаем, что есть уже встроенные в Python методы сортировок - давайте ответим на последний в этой теме вопрос - А зачем нам тогда писать какие-то сортировки, если они уже есть в Python? Причин несколько, разберем основные.\n",
    "\n",
    "1. Изучение сортировок помогает лучше понять алгоритмы и основы работы с данными. Ведь, зная, как работает та или иная сортировка - всегда проще понять почему что-то работает не так.\n",
    "\n",
    "2. Встроенные методы Python используют Timsort, оптимизированный для реальных данных, но не всегда подходящий для всех ситуаций. Пользовательские алгоритмы могут быть полезны:\n",
    "\n",
    "    Для маленьких массивов: Простейшие алгоритмы, такие как сортировка вставками или пузырьковая сортировка, могут быть быстрее для небольших массивов, так как имеют меньшие накладные расходы.\n",
    "    Для частично отсортированных данных: Например, алгоритмы вроде сортировки вставками могут работать быстрее, если массив почти отсортирован.\n",
    "    Для специализированных случаев, например, если известно, что данные ограничены определенным диапазоном значений (например, для поразрядной сортировки).\n",
    "\n",
    "3. Не всегда алгоритмы сортировки, которые уже были преднаписанны подойдут с точки зрения использования памяти. Мы же не знаем на чем они тестировались и для чего подходят."
   ]
  },
  {
   "cell_type": "markdown",
   "metadata": {},
   "source": [
    "`Timsort`\n",
    "\n",
    "Timsort — это комбинация сортировки вставками и сортировки слиянием. Он эффективно работает на небольших данных, особенно если они частично отсортированы.\n",
    "\n",
    "    Худший и средний случай: O(n log n)\n",
    "    Лучший случай: O(n)\n",
    "    Пространственная сложность: O(n)"
   ]
  },
  {
   "cell_type": "code",
   "execution_count": 15,
   "metadata": {},
   "outputs": [
    {
     "name": "stdout",
     "output_type": "stream",
     "text": [
      "Timsort: [1, 1, 2, 3, 4, 5, 9]\n",
      "Timsort с sorted(): [1, 1, 2, 3, 4, 5, 9]\n"
     ]
    }
   ],
   "source": [
    "arr = [3, 1, 4, 1, 5, 9, 2]\n",
    "arr.sort()  # Сортирует на месте\n",
    "print(\"Timsort:\", arr)\n",
    "\n",
    "# Либо\n",
    "arr = [3, 1, 4, 1, 5, 9, 2]\n",
    "sorted_arr = sorted(arr)  # Создает новый отсортированный список\n",
    "print(\"Timsort с sorted():\", sorted_arr)"
   ]
  },
  {
   "cell_type": "code",
   "execution_count": null,
   "metadata": {},
   "outputs": [],
   "source": []
  },
  {
   "cell_type": "markdown",
   "metadata": {},
   "source": [
    "<font color=yellow> <b> Cортировка слиянием. </b> </font>"
   ]
  },
  {
   "cell_type": "markdown",
   "metadata": {},
   "source": [
    "Идея: Делим массив на две половины, рекурсивно сортируем каждую часть и объединяем.\n",
    "\n",
    "Временная сложность: O(n log n) в худшем, среднем и лучшем случаях.\n",
    "\n",
    "Пространственная сложность: O(n) из-за дополнительной памяти для объединения\n",
    "\n",
    "По схеме выглядит следующим образом.\n",
    "\n",
    "![](https://ucarecdn.com/f7298cba-1f61-457c-9b95-95c061ed1883/)"
   ]
  },
  {
   "cell_type": "code",
   "execution_count": 8,
   "metadata": {},
   "outputs": [
    {
     "name": "stdout",
     "output_type": "stream",
     "text": [
      "mid 4\n",
      "[8, 3, 5, 1] [4, 2, 7, 6]\n",
      "mid 2\n",
      "[8, 3] [5, 1]\n",
      "mid 1\n",
      "[8] [3]\n",
      "left [8]\n",
      "right [3] end\n",
      "left [3, 8]\n",
      "mid 1\n",
      "[5] [1]\n",
      "left [5]\n",
      "right [1] end\n",
      "right [1, 5] end\n",
      "left [1, 3, 5, 8]\n",
      "mid 2\n",
      "[4, 2] [7, 6]\n",
      "mid 1\n",
      "[4] [2]\n",
      "left [4]\n",
      "right [2] end\n",
      "left [2, 4]\n",
      "mid 1\n",
      "[7] [6]\n",
      "left [7]\n",
      "right [6] end\n",
      "right [6, 7] end\n",
      "right [2, 4, 6, 7] end\n",
      "Merge Sort: [1, 2, 3, 4, 5, 6, 7, 8]\n"
     ]
    }
   ],
   "source": [
    "def merge_sort(arr):\n",
    "    if len(arr) <= 1:\n",
    "        return arr\n",
    "    mid = len(arr) // 2\n",
    "    print(\"mid\", mid)\n",
    "    print(arr[:mid], arr[mid:])\n",
    "    left = merge_sort(arr[:mid])\n",
    "    print(\"left\", left)\n",
    "    right = merge_sort(arr[mid:])\n",
    "    print(\"right\", right, \"end\")\n",
    "    return merge(left, right)\n",
    "\n",
    "def merge(left, right):\n",
    "    result = []\n",
    "    i = j = 0\n",
    "    while i < len(left) and j < len(right):\n",
    "        if left[i] < right[j]:\n",
    "            result.append(left[i])\n",
    "            i += 1\n",
    "        else:\n",
    "            result.append(right[j])\n",
    "            j += 1\n",
    "    result.extend(left[i:])\n",
    "    result.extend(right[j:])\n",
    "    return result\n",
    "\n",
    "arr = [8, 3, 5, 1, 4, 2, 7, 6]\n",
    "print(\"Merge Sort:\", merge_sort(arr))"
   ]
  },
  {
   "cell_type": "code",
   "execution_count": null,
   "metadata": {},
   "outputs": [],
   "source": []
  },
  {
   "cell_type": "markdown",
   "metadata": {},
   "source": [
    "<font color=yellow> <b> Быстрая сортировка </b> </font>"
   ]
  },
  {
   "cell_type": "markdown",
   "metadata": {},
   "source": [
    "быстрая сортировка \n",
    "(медленных не существует, но они все равно есть)). Выбираем опорный элемент (pivot) и разделяем массив на две части: меньшие и большие элементы. Затем рекурсивно сортируем каждую часть.\n",
    "\n",
    "Временная сложность:\n",
    "\n",
    "    Средний случай: O(n log n)\n",
    "    Худший случай: O(n²) (если опорный элемент выбран неудачно, например, для уже отсортированного массива)\n",
    "\n",
    "Пространственная сложность: O(log n) из-за рекурсии.\n",
    "\n",
    "Теперь схема.\n",
    "\n",
    "![](https://ucarecdn.com/0700da75-4e96-4ad0-9087-8014f8af65d1/)\n",
    "\n",
    "В примере опорным элементом (pivot) выбран 78 (первый элемент массива). Массив разбивается на две части относительно опорного элемента: элементы меньше pivot и элементы больше pivot. На каждом шаге элементы переставляются так, чтобы слева от pivot находились элементы меньше него, а справа — больше. Этот процесс продолжается, пока указатели L и R не пересекутся. На последнем шаге L > R, что означает завершение разделения. Когда L и R пересекаются, это значит, что массив был разделен на две части, и сортировка завершена для текущего pivot. Теперь для каждой части (слева и справа от pivot) рекурсивно применяется тот же процесс быстрой сортировки, пока весь массив не будет отсортирован."
   ]
  },
  {
   "cell_type": "code",
   "execution_count": null,
   "metadata": {
    "collapsed": false,
    "jupyter": {
     "outputs_hidden": false
    }
   },
   "outputs": [],
   "source": []
  },
  {
   "cell_type": "code",
   "execution_count": 19,
   "metadata": {},
   "outputs": [
    {
     "name": "stdout",
     "output_type": "stream",
     "text": [
      "arr [3, 6, 8, 10, 1, 2, 1]\n",
      "pivot 10\n",
      "left [3, 6, 8, 1, 2, 1]\n",
      "middle [10]\n",
      "right []\n",
      "arr [3, 6, 8, 1, 2, 1]\n",
      "pivot 1\n",
      "left []\n",
      "middle [1, 1]\n",
      "right [3, 6, 8, 2]\n",
      "arr []\n",
      "arr [3, 6, 8, 2]\n",
      "pivot 8\n",
      "left [3, 6, 2]\n",
      "middle [8]\n",
      "right []\n",
      "arr [3, 6, 2]\n",
      "pivot 6\n",
      "left [3, 2]\n",
      "middle [6]\n",
      "right []\n",
      "arr [3, 2]\n",
      "pivot 2\n",
      "left []\n",
      "middle [2]\n",
      "right [3]\n",
      "arr []\n",
      "arr [3]\n",
      "arr []\n",
      "arr []\n",
      "arr []\n",
      "Quick Sort: [1, 1, 2, 3, 6, 8, 10]\n"
     ]
    }
   ],
   "source": [
    "def quick_sort(arr):\n",
    "    print(\"arr\", arr)\n",
    "    if len(arr) <= 1:\n",
    "        return arr\n",
    "    pivot = arr[len(arr) // 2]\n",
    "    print(\"pivot\", pivot)\n",
    "    left = [x for x in arr if x < pivot]\n",
    "    print(\"left\", left)\n",
    "    middle = [x for x in arr if x == pivot]\n",
    "    print(\"middle\", middle)\n",
    "    right = [x for x in arr if x > pivot]\n",
    "    print(\"right\", right)\n",
    "    return quick_sort(left) + middle + quick_sort(right)\n",
    "\n",
    "arr = [3, 6, 8, 10, 1, 2, 1]\n",
    "print(\"Quick Sort:\", quick_sort(arr))"
   ]
  },
  {
   "cell_type": "code",
   "execution_count": 16,
   "metadata": {},
   "outputs": [
    {
     "data": {
      "text/plain": [
       "10"
      ]
     },
     "execution_count": 16,
     "metadata": {},
     "output_type": "execute_result"
    }
   ],
   "source": [
    "arr[len(arr) // 2]"
   ]
  },
  {
   "cell_type": "code",
   "execution_count": null,
   "metadata": {},
   "outputs": [],
   "source": []
  },
  {
   "cell_type": "markdown",
   "metadata": {},
   "source": [
    "<font color=yellow> <b> Cортировка кучей (пирамидальная сортировка) </b> </font>"
   ]
  },
  {
   "cell_type": "markdown",
   "metadata": {},
   "source": [
    "![](https://ucarecdn.com/a8ec4d8d-6b83-499b-a829-845c7edc4d93/)\n",
    "\n",
    "Идея: Преобразуем массив в двоичную кучу и извлекаем наибольший элемент (корень) на каждом шаге, уменьшая размер кучи.\n",
    "\n",
    "Временная сложность: O(n log n) для всех случаев.\n",
    "\n",
    "Пространственная сложность: O(1), так как сортировка выполняется на месте.\n",
    "\n",
    "К сожалению (или к счастью) встроенной функции для сортировки кучей нет, но Python имеет модуль heapq для работы с кучами. "
   ]
  },
  {
   "cell_type": "code",
   "execution_count": 21,
   "metadata": {},
   "outputs": [
    {
     "name": "stdout",
     "output_type": "stream",
     "text": [
      "Heap Sort: [5, 6, 7, 11, 12, 13]\n"
     ]
    }
   ],
   "source": [
    "def heapify(arr, n, i):\n",
    "    largest = i\n",
    "    left = 2 * i + 1\n",
    "    right = 2 * i + 2\n",
    "    if left < n and arr[i] < arr[left]:\n",
    "        largest = left\n",
    "    if right < n and arr[largest] < arr[right]:\n",
    "        largest = right\n",
    "    if largest != i:\n",
    "        arr[i], arr[largest] = arr[largest], arr[i]\n",
    "        heapify(arr, n, largest)\n",
    "\n",
    "def heap_sort(arr):\n",
    "    n = len(arr)\n",
    "    for i in range(n // 2 - 1, -1, -1):\n",
    "        heapify(arr, n, i)\n",
    "    for i in range(n-1, 0, -1):\n",
    "        arr[i], arr[0] = arr[0], arr[i]\n",
    "        heapify(arr, i, 0)\n",
    "\n",
    "arr = [12, 11, 13, 5, 6, 7]\n",
    "heap_sort(arr)\n",
    "print(\"Heap Sort:\", arr)"
   ]
  },
  {
   "cell_type": "code",
   "execution_count": null,
   "metadata": {},
   "outputs": [],
   "source": []
  },
  {
   "cell_type": "markdown",
   "metadata": {},
   "source": [
    "<font color=yellow> <b> Cортировки вставками </b> </font>"
   ]
  },
  {
   "cell_type": "markdown",
   "metadata": {
    "collapsed": false,
    "jupyter": {
     "outputs_hidden": false
    }
   },
   "source": [
    "Ну, и куда же мы без сортировки вставками.\n",
    "\n",
    "Берем каждый элемент и вставляем его в нужное место в отсортированной части массива.\n",
    "\n",
    "Временная сложность:\n",
    "\n",
    "    Средний и худший случай: O(n²)\n",
    "    Лучший случай (почти отсортированный массив): O(n)\n",
    "\n",
    "Пространственная сложность: O(1)\n",
    "\n",
    "![](https://ucarecdn.com/bd4d6309-0ad1-4f54-b0a5-2b4e1c428824/)"
   ]
  },
  {
   "cell_type": "code",
   "execution_count": 6,
   "metadata": {},
   "outputs": [
    {
     "name": "stdout",
     "output_type": "stream",
     "text": [
      "11 0 12\n",
      "[11, 12, 13, 5, 6] 11\n",
      "13 1 12\n",
      "[11, 12, 13, 5, 6] 13\n",
      "5 2 13\n",
      "[5, 11, 12, 13, 6] 5\n",
      "6 3 13\n",
      "[5, 6, 11, 12, 13] 6\n",
      "Insertion Sort: [5, 6, 11, 12, 13]\n"
     ]
    }
   ],
   "source": [
    "def insertion_sort(arr):\n",
    "    for i in range(1, len(arr)):\n",
    "        key = arr[i]\n",
    "        j = i - 1\n",
    "        print(key, j, arr[j])\n",
    "        while j >= 0 and arr[j] > key:\n",
    "            arr[j + 1] = arr[j]\n",
    "            j -= 1\n",
    "        arr[j + 1] = key\n",
    "        print(arr, key)\n",
    "\n",
    "arr = [12, 11, 13, 5, 6]\n",
    "insertion_sort(arr)\n",
    "print(\"Insertion Sort:\", arr)"
   ]
  },
  {
   "cell_type": "code",
   "execution_count": null,
   "metadata": {},
   "outputs": [],
   "source": []
  },
  {
   "cell_type": "markdown",
   "metadata": {},
   "source": [
    "<font color=yellow> <b> Сортировка пузырьком </b> </font>\n",
    "\n",
    "это простой алгоритм, который сравнивает каждую пару соседних элементов в списке и меняет их местами, если они расположены в неправильном порядке."
   ]
  },
  {
   "cell_type": "code",
   "execution_count": 9,
   "metadata": {},
   "outputs": [
    {
     "name": "stdout",
     "output_type": "stream",
     "text": [
      "0 0\n",
      "0 1\n",
      "0 2\n",
      "0 3\n",
      "0 4\n",
      "0 5\n",
      "0 6\n",
      "[11, 12, 5, 6, 7, 13, 18, 28]\n",
      "1 0\n",
      "1 1\n",
      "1 2\n",
      "1 3\n",
      "1 4\n",
      "1 5\n",
      "[11, 5, 6, 7, 12, 13, 18, 28]\n",
      "2 0\n",
      "2 1\n",
      "2 2\n",
      "2 3\n",
      "2 4\n",
      "[5, 6, 7, 11, 12, 13, 18, 28]\n",
      "3 0\n",
      "3 1\n",
      "3 2\n",
      "3 3\n",
      "[5, 6, 7, 11, 12, 13, 18, 28]\n",
      "4 0\n",
      "4 1\n",
      "4 2\n",
      "[5, 6, 7, 11, 12, 13, 18, 28]\n",
      "5 0\n",
      "5 1\n",
      "[5, 6, 7, 11, 12, 13, 18, 28]\n",
      "6 0\n",
      "[5, 6, 7, 11, 12, 13, 18, 28]\n",
      "[5, 6, 7, 11, 12, 13, 18, 28]\n"
     ]
    },
    {
     "data": {
      "text/plain": [
       "[5, 6, 7, 11, 12, 13, 18, 28]"
      ]
     },
     "execution_count": 9,
     "metadata": {},
     "output_type": "execute_result"
    }
   ],
   "source": [
    "def bubble_sort(arr):\n",
    "    n = len(arr)\n",
    "    for i in range(n):\n",
    "        for j in range(0, n-i-1):\n",
    "            print(i, j)\n",
    "            if arr[j] > arr[j+1]:\n",
    "                arr[j], arr[j+1] = arr[j+1], arr[j]\n",
    "        print(arr)\n",
    "    return arr\n",
    "    \n",
    "arr_2 = [12, 11, 13, 5, 6, 7, 28, 18]\n",
    "\n",
    "bubble_sort(arr_2)"
   ]
  },
  {
   "cell_type": "code",
   "execution_count": null,
   "metadata": {},
   "outputs": [],
   "source": []
  },
  {
   "cell_type": "markdown",
   "metadata": {},
   "source": [
    "<font color=yellow> <b>  Реализация популярных алгоритмов на Python</b> </font>"
   ]
  },
  {
   "cell_type": "code",
   "execution_count": 12,
   "metadata": {},
   "outputs": [
    {
     "data": {
      "text/plain": [
       "6"
      ]
     },
     "execution_count": 12,
     "metadata": {},
     "output_type": "execute_result"
    }
   ],
   "source": [
    "# стандартная функция поиска\n",
    "arr = [10, 20, 30, 40, 50, 9, 11, 60, 70]\n",
    "arr.index(11)"
   ]
  },
  {
   "cell_type": "markdown",
   "metadata": {},
   "source": [
    "`Жадные алгоритмы (Greedy algorithms)`<br> — это класс алгоритмов, которые принимают локально оптимальные решения на каждом шаге,\n",
    "с надеждой, что эти решения приведут к глобально оптимальному решению всей задачи.\n",
    "\n",
    "Основной принцип: \"Берем то, что сейчас кажется наилучшим\". \n",
    "\n",
    "Рассмотрим сразу же одну из популярных задач - задачу о размене монет.\n",
    "\n",
    "Задача: У вас есть монеты разных номиналов. Нужно разменять определённую сумму минимальным количеством монет.\n",
    "Номиналы монет — 1, 5, 10, 25. Разменять сумму 63.\n",
    "\n",
    "```python\n",
    "def coin_change(coins, amount):\n",
    "    coins.sort(reverse=True)  # Сортируем монеты от большего к меньшему\n",
    "    count = 0  # Количество монет\n",
    "    for coin in coins:\n",
    "        while amount >= coin:\n",
    "            amount -= coin\n",
    "            count += 1\n",
    "    return count if amount == 0 else -1\n",
    "\n",
    "coins = [1, 5, 10, 25]\n",
    "amount = 63\n",
    "print(coin_change(coins, amount))  # Output: 6 (25 + 25 + 10 + 1 + 1 + 1)\n",
    "```\n",
    "    Берём монеты самого крупного номинала, пока можем.\n",
    "    Затем берем монеты меньшего номинала для остатка.\n",
    "\n",
    "Внимание! Жадный алгоритм работает корректно только с определёнными наборами монет. \n",
    "Если набор монет другой (например, 1, 3, 4), жадный алгоритм может дать неверный ответ. В этом его большой недостаток."
   ]
  },
  {
   "cell_type": "markdown",
   "metadata": {},
   "source": [
    "`Поиск: Линейный и бинарный.`\n",
    "\n",
    "> Графы: BFS и DFS.\n",
    "\n",
    "> Динамическое программирование: Рюкзак и Фибоначчи.\n",
    "\n",
    "> Строки: KMP для поиска подстроки.\n",
    "\n",
    "Это, пожалуй, самые популярные и основные алгоритмические задачи.\n",
    "\n",
    "Линейный поиск (Linear Search)\n",
    "\n",
    "Сложность: O(n)\n",
    "\n",
    "А также реализация."
   ]
  },
  {
   "cell_type": "code",
   "execution_count": 11,
   "metadata": {},
   "outputs": [
    {
     "name": "stdout",
     "output_type": "stream",
     "text": [
      "0 10\n",
      "1 20\n",
      "2 30\n",
      "3 40\n",
      "3\n"
     ]
    }
   ],
   "source": [
    "def linear_search(arr, target):\n",
    "    for index, element in enumerate(arr):\n",
    "        print(index, element)\n",
    "        if element == target:\n",
    "            return index\n",
    "    return -1\n",
    "\n",
    "arr = [10, 20, 30, 40, 50]\n",
    "print(linear_search(arr, 40))"
   ]
  },
  {
   "cell_type": "markdown",
   "metadata": {},
   "source": [
    "`Бинарный поиск (Binary Search)`\n",
    "\n",
    "Работает только на отсортированных массивах. Делит массив пополам и ищет элемент рекурсивно.\n",
    "\n",
    "Сложность: O(log n)"
   ]
  },
  {
   "cell_type": "code",
   "execution_count": 8,
   "metadata": {},
   "outputs": [
    {
     "name": "stdout",
     "output_type": "stream",
     "text": [
      "2\n"
     ]
    }
   ],
   "source": [
    "def binary_search(arr, target):\n",
    "    left, right = 0, len(arr) - 1\n",
    "    while left <= right:\n",
    "        mid = (left + right) // 2\n",
    "        if arr[mid] == target:\n",
    "            return mid\n",
    "        elif arr[mid] < target:\n",
    "            left = mid + 1\n",
    "        else:\n",
    "            right = mid - 1\n",
    "    return -1\n",
    "\n",
    "arr = [10, 20, 30, 40, 50]\n",
    "print(binary_search(arr, 30))  # Output: 2"
   ]
  },
  {
   "cell_type": "markdown",
   "metadata": {},
   "source": [
    "`графы`\n",
    "\n",
    "\n",
    "<img src=\"https://ucarecdn.com/2d06e45e-cd31-4b64-9715-222300bd5da2/\" alt=\"drawing\" width=\"400\"/>\n",
    "\n",
    "\n",
    "\n",
    "Это граф, у которого 5 вершин и у каждого ребра есть свое расстояние. Стрелочек, они же связи, между ребрами неориентированны. Итак, обход в ширину, он же Breadth-First Search.\n",
    "\n",
    "\n",
    "`Обход в ширину, BFS`\n",
    "\n",
    "Рассмотрим граф, заданный в виде словаря, где ключ — это вершина, а значение — множество соседей этой вершины. Как это работает?\n",
    "\n",
    "    Алгоритм начинается с указанной стартовой вершины и добавляет её в очередь.\n",
    "    Затем он:\n",
    "        Удаляет вершину из очереди.\n",
    "        Посещает всех её соседей (вершины, связанные с текущей), добавляя их в очередь.\n",
    "        Повторяет процесс, пока очередь не станет пустой.\n",
    "    Алгоритм гарантирует, что каждая вершина будет обработана один раз, и обработка происходит по уровням (или расстоянию) от стартовой вершины.\n",
    "\n",
    "\n",
    "<img src=\"https://ucarecdn.com/d4fc1470-7457-4f25-955f-92265c39cc1f/\" alt=\"drawing\" width=\"40%\"/>\n"
   ]
  },
  {
   "cell_type": "code",
   "execution_count": 13,
   "metadata": {},
   "outputs": [
    {
     "name": "stdout",
     "output_type": "stream",
     "text": [
      "A C B F E D "
     ]
    }
   ],
   "source": [
    "from collections import deque\n",
    "\n",
    "def bfs(graph, start):\n",
    "    visited = set()  # Множество для отслеживания посещённых вершин\n",
    "    queue = deque([start])  # Создаём очередь и добавляем стартовую вершину\n",
    "\n",
    "    while queue:\n",
    "        vertex = queue.popleft()  # Извлекаем элемент из начала очереди\n",
    "        if vertex not in visited:\n",
    "            print(vertex, end=\" \")  # Обрабатываем (например, выводим вершину)\n",
    "            visited.add(vertex)  # Помечаем вершину как посещённую\n",
    "            queue.extend(graph[vertex] - visited)  # Добавляем непосещённых соседей\n",
    "\n",
    "# Граф, представленный в виде смежных вершин\n",
    "graph = {\n",
    "    'A': {'B', 'C'},\n",
    "    'B': {'D', 'E'},\n",
    "    'C': {'F'},\n",
    "    'D': set(),\n",
    "    'E': {'F'},\n",
    "    'F': set()\n",
    "}\n",
    "\n",
    "# Запуск BFS с вершины 'A'\n",
    "bfs(graph, 'A')  # Output: A B C D E F"
   ]
  },
  {
   "attachments": {},
   "cell_type": "markdown",
   "metadata": {},
   "source": [
    "`Обход в глубину, DFS`\n",
    "\n",
    "Обход в глубину (DFS) — это алгоритм для обхода или поиска в графах и деревьях. В отличие от BFS, DFS погружается в глубину, переходя по каждому пути до конца, прежде чем вернуться и начать исследовать другие пути.\n",
    "\n",
    "<img src=\"https://ucarecdn.com/4959af97-d1ee-4ba7-9948-fdffa68795d7/\" width=\"60%\">\n",
    "\n",
    "Как работает думаю понятно, но все же поясню.\n",
    "\n",
    "Алгоритм начинает с указанной стартовой вершины и посещает её. Затем он:\n",
    "\n",
    "    Переходит к первому соседу (если такой есть).\n",
    "    Погружается глубже по каждому пути до тех пор, пока не достигнет вершины без непосещённых соседей.\n",
    "    После этого возвращается назад и начинает исследовать следующего непосещённого соседа.\n",
    "\n",
    "Процесс повторяется, пока не будут посещены все вершины.\n",
    "\n",
    "Давайте рассмотрим код.\n"
   ]
  },
  {
   "cell_type": "code",
   "execution_count": 15,
   "metadata": {},
   "outputs": [
    {
     "name": "stdout",
     "output_type": "stream",
     "text": [
      "A C F B E D "
     ]
    }
   ],
   "source": [
    "def dfs(graph, start, visited=None):\n",
    "    if visited is None:\n",
    "        visited = set()  # Инициализируем множество для отслеживания посещённых вершин\n",
    "    visited.add(start)  # Помечаем текущую вершину как посещённую\n",
    "    print(start, end=\" \")  # Обрабатываем вершину (например, выводим её)\n",
    "\n",
    "    for neighbor in graph[start]:\n",
    "        if neighbor not in visited:\n",
    "            dfs(graph, neighbor, visited)  # Рекурсивно посещаем соседей\n",
    "\n",
    "# Пример графа\n",
    "graph = {\n",
    "    'A': {'B', 'C'},\n",
    "    'B': {'D', 'E'},\n",
    "    'C': {'F'},\n",
    "    'D': set(),\n",
    "    'E': {'F'},\n",
    "    'F': set()\n",
    "}\n",
    "\n",
    "# Запуск DFS\n",
    "dfs(graph, 'A')  # Output: A B D E F C"
   ]
  },
  {
   "cell_type": "markdown",
   "metadata": {},
   "source": [
    "Мы начинаем с вершины 'A'. Алгоритм рекурсивно проходит все вершины, следуя по каждому пути до конца:\n",
    "\n",
    "    Из 'A' переходим в 'B', затем в 'D'. Так как у 'D' нет соседей, возвращаемся к 'B'.\n",
    "    Из 'B' переходим в 'E', затем в 'F'. 'F' тоже не имеет соседей, поэтому возвращаемся к 'A'.\n",
    "    Наконец, из 'A' переходим в 'C'.\n",
    "\n",
    "Понимаю, что выглядит сложно. Но также давайте отрисуем этот граф, чтобы было понятнее сопоставить алгоритм с ним.\n",
    "\n",
    "<img src=\"https://ucarecdn.com/970b1d60-071d-4d9e-90b5-b0062e3e0ff2/\" width=\"40%\">"
   ]
  },
  {
   "cell_type": "markdown",
   "metadata": {},
   "source": [
    "`Динамическое программирование` \n",
    "\n",
    "— это метод решения задач, которые можно разбить на подзадачи, решения которых можно переиспользовать для решения более крупных задач. \n",
    "\n",
    "Вместо того, чтобы решать одну и ту же подзадачу несколько раз, как в простых рекурсивных алгоритмах, динамическое программирование сохраняет результаты уже вычисленных подзадач и использует их при необходимости.\n",
    "\n",
    "И алгоритмов решения задач на динамическое программирование достаточно много, но мы рассмотрим самые популярные. Но предварительно рассмотрим и основные идеи динамического программирования.\n",
    "\n",
    "1. `Разбиение задачи на подзадачи`: Каждая большая задача может быть решена с помощью результатов более мелких подзадач.\n",
    "\n",
    "2. `Мемоизация или табулирование`: Хранение решений подзадач, чтобы избежать повторных вычислений.\n",
    "\n",
    "    Мемоизация: Сохранение результатов подзадач в момент их вычисления (сверху вниз — Top-Down).\n",
    "    Табулирование: Заполнение таблицы снизу вверх (Bottom-Up).\n",
    "\n",
    "3. `Оптимальная подструктура`: Решение задачи можно составить из решений её подзадач."
   ]
  },
  {
   "cell_type": "markdown",
   "metadata": {},
   "source": [
    "\n",
    "    При каждом вызове функции fibonacci мы сначала проверяем, есть ли уже результат в memo (словарь с кэшем).\n",
    "    Если число уже вычислено, мы его просто возвращаем, избегая повторных вызовов.\n"
   ]
  },
  {
   "cell_type": "code",
   "execution_count": 17,
   "metadata": {},
   "outputs": [
    {
     "name": "stdout",
     "output_type": "stream",
     "text": [
      "55\n"
     ]
    }
   ],
   "source": [
    "def fibonacci(n, memo={}):\n",
    "    if n in memo:\n",
    "        return memo[n]  # Если уже вычислено, берём из кэша\n",
    "    if n <= 2:\n",
    "        return 1  # Первые два числа Фибоначчи равны 1\n",
    "    memo[n] = fibonacci(n - 1, memo) + fibonacci(n - 2, memo)\n",
    "    return memo[n]\n",
    "\n",
    "print(fibonacci(10))  # Output: 55"
   ]
  },
  {
   "cell_type": "code",
   "execution_count": 16,
   "metadata": {},
   "outputs": [
    {
     "name": "stdout",
     "output_type": "stream",
     "text": [
      "Рекурсивный результат: 9227465, Время: 1.125730 секунд\n",
      "Мемоизированный результат: 9227465, Время: 0.000041 секунд\n"
     ]
    }
   ],
   "source": [
    "import time\n",
    "\n",
    "# Реализация чисел Фибоначчи с мемоизацией (оптимизированная версия)\n",
    "def fibonacci_memo(n, memo={}):\n",
    "    if n in memo:\n",
    "        return memo[n]  # Если уже вычислено, берём из кэша\n",
    "    if n <= 2:\n",
    "        return 1  # Первые два числа Фибоначчи равны 1\n",
    "    memo[n] = fibonacci_memo(n - 1, memo) + fibonacci_memo(n - 2, memo)\n",
    "    return memo[n]\n",
    "\n",
    "# Простая рекурсивная реализация чисел Фибоначчи (без мемоизации)\n",
    "def fibonacci_recursive(n):\n",
    "    if n <= 2:\n",
    "        return 1\n",
    "    return fibonacci_recursive(n - 1) + fibonacci_recursive(n - 2)\n",
    "\n",
    "# Сравнение времени выполнения\n",
    "n = 35  # Значение n для тестирования\n",
    "\n",
    "# Время для рекурсивной версии\n",
    "start_recursive = time.time()\n",
    "result_recursive = fibonacci_recursive(n)\n",
    "end_recursive = time.time()\n",
    "time_recursive = end_recursive - start_recursive\n",
    "\n",
    "# Время для мемоизированной версии\n",
    "start_memo = time.time()\n",
    "result_memo = fibonacci_memo(n)\n",
    "end_memo = time.time()\n",
    "time_memo = end_memo - start_memo\n",
    "\n",
    "# Вывод результатов\n",
    "print(f\"Рекурсивный результат: {result_recursive}, Время: {time_recursive:.6f} секунд\")\n",
    "print(f\"Мемоизированный результат: {result_memo}, Время: {time_memo:.6f} секунд\")"
   ]
  },
  {
   "cell_type": "markdown",
   "metadata": {},
   "source": [
    "А также рассмотрим и вторую популярную в алгоритмах задачу. На самом деле их там две, поэтому решим их две. Итак, условие - \n",
    "\n",
    "У Вас есть рюкзак ограниченной вместимости и набор предметов, каждый из которых имеет вес и ценность. Ваша цель — выбрать предметы таким образом, чтобы максимизировать общую ценность, не превышая вместимость рюкзака."
   ]
  },
  {
   "cell_type": "code",
   "execution_count": 18,
   "metadata": {},
   "outputs": [
    {
     "name": "stdout",
     "output_type": "stream",
     "text": [
      "Максимальная ценность: 55\n"
     ]
    }
   ],
   "source": [
    "def knapsack(weights, values, W):\n",
    "    n = len(weights)\n",
    "    # Создаём таблицу DP для хранения максимальной ценности для каждой комбинации\n",
    "    dp = [[0] * (W + 1) for _ in range(n + 1)]\n",
    "\n",
    "    # Заполняем таблицу снизу вверх\n",
    "    for i in range(1, n + 1):\n",
    "        for w in range(W + 1):\n",
    "            if weights[i - 1] <= w:\n",
    "                # Выбираем максимум между: взять или не брать предмет\n",
    "                dp[i][w] = max(dp[i - 1][w], dp[i - 1][w - weights[i - 1]] + values[i - 1])\n",
    "            else:\n",
    "                dp[i][w] = dp[i - 1][w]\n",
    "\n",
    "    # Возвращаем максимальную ценность, которую можно получить для данного W\n",
    "    return dp[n][W]\n",
    "\n",
    "# Пример использования\n",
    "weights = [1, 2, 3]\n",
    "values = [10, 15, 40]\n",
    "W = 5  # Вместимость рюкзака\n",
    "\n",
    "result = knapsack(weights, values, W)\n",
    "print(f\"Максимальная ценность: {result}\")"
   ]
  },
  {
   "cell_type": "markdown",
   "metadata": {},
   "source": [
    "```dp = [[0] * (W + 1) for _ in range(n + 1)]```\n",
    "\n",
    "Создаем двумерную таблицу dp размером (n+1)×(W+1), где:\n",
    "\n",
    "    n — количество предметов.\n",
    "    W — вместимость рюкзака.\n",
    "    dp[i][w] будет содержать максимальную ценность, которую можно получить, используя первые i предметов и рюкзак вместимости w.\n",
    "\n",
    "```python\n",
    "for i in range(1, n + 1):\n",
    "    for w in range(W + 1):\n",
    "        if weights[i - 1] <= w:\n",
    "            dp[i][w] = max(dp[i - 1][w], dp[i - 1][w - weights[i - 1]] + values[i - 1])\n",
    "        else:\n",
    "            dp[i][w] = dp[i - 1][w]\n",
    "```\n",
    "Мы проходим через каждый предмет и проверяем, сможем ли мы взять его с текущей вместимостью w.\n",
    "\n",
    "Если вес текущего предмета меньше или равен оставшейся вместимости w:\n",
    "\n",
    "```dp[i][w] = max(dp[i - 1][w], dp[i - 1][w - weights[i - 1]] + values[i - 1])```\n",
    "\n",
    "Мы выбираем максимум между двумя вариантами:\n",
    "\n",
    "    Не брать предмет: Оставить ценность такой же, как для предыдущих предметов: dp[i - 1][w].\n",
    "    Взять предмет: Добавить ценность текущего предмета к оптимальной ценности для оставшегося места в рюкзаке:\n",
    "    \n",
    "```dp[i - 1][w - weights[i - 1]] + values[i - 1].```\n",
    "\n",
    "Если вес предмета больше оставшейся вместимости w:\n",
    "\n",
    "```dp[i][w] = dp[i - 1][w]```\n",
    "\n",
    "В этом случае мы не можем взять предмет, поэтому оставляем ценность такой же, как для предыдущих предметов. "
   ]
  },
  {
   "cell_type": "markdown",
   "metadata": {},
   "source": [
    "Следующим популярным алгоритмом является алгоритм Кнута-Морриса-Пратта для поиска подстроки. Алгоритм Кнута-Морриса-Пратта (KMP) предназначен для эффективного поиска подстроки (шаблона) в строке. Основная идея состоит в том, что при обнаружении несовпадения он не пересматривает символы, которые уже были проверены, а использует информацию о префиксах и суффиксах для правильного смещения шаблона. Эта информация хранится в массиве LPS (Longest Prefix Suffix).\n",
    "\n",
    "Теперь давайте углубляться. Представьте, что у вас есть длинный текст, например, \"ABABDABACDABABCABAB\", и вам нужно найти в этом тексте короткую строку (подстроку) — например, \"ABABCABAB\". Вам нужно узнать, с какого места в тексте эта подстрока впервые появляется.\n",
    "\n",
    "Обычно мы проверяем текст символ за символом. Если находим совпадение с началом подстроки, то продолжаем проверять символы дальше. Но если где-то в середине обнаруживается несовпадение, приходится возвращаться и начинать проверку с нуля. Этот подход работает, но он медленный, потому что мы постоянно возвращаемся назад и снова проверяем те же символы.\n",
    "\n",
    "Алгоритм Кнута-Морриса-Пратта (KMP) делает так, чтобы при обнаружении несовпадения не начинать проверку с самого начала, а использовать информацию о совпавших символах.\n",
    "\n",
    "Допустим, мы начали проверку и нашли, что часть символов уже совпадает:\n",
    "\n",
    "    Текст: \"ABABDABACDABABCABAB\"\n",
    "    Шаблон: \"ABABCABAB\"\n",
    "\n",
    "Начинаем проверку и находим, что первые 4 символа совпадают (ABAB). На пятом символе мы встречаем несовпадение. Вместо того чтобы начинать проверку с самого начала, мы пытаемся понять, нет ли у нас среди первых четырех совпавших символов какой-то части, которая также встречается в начале шаблона.\n",
    "\n",
    "Для этого KMP использует вспомогательный массив LPS (Longest Prefix Suffix): Этот массив показывает, сколько символов мы можем \"пропустить\" при несовпадении, чтобы начать проверку с нужного места.\n",
    "\n",
    "Например, для шаблона \"ABABCABAB\":\n",
    "\n",
    "    LPS[4] = 2 говорит нам, что если до четвертого символа у нас было совпадение, то при несовпадении можно сразу перейти к позиции 2 в шаблоне, так как первые два символа (AB) совпадают с началом подстроки.\n",
    "\n",
    "А теперь реализация."
   ]
  },
  {
   "cell_type": "code",
   "execution_count": 19,
   "metadata": {},
   "outputs": [
    {
     "name": "stdout",
     "output_type": "stream",
     "text": [
      "Найдено совпадение на индексе 10\n"
     ]
    }
   ],
   "source": [
    "def compute_lps(pattern):\n",
    "    \"\"\"\n",
    "    Вычисляет массив LPS для шаблона.\n",
    "    LPS[i] показывает, сколько символов можно пропустить при несовпадении, \n",
    "    чтобы начать проверку с нужного места в шаблоне.\n",
    "    \"\"\"\n",
    "    m = len(pattern)\n",
    "    lps = [0] * m  # Инициализация массива LPS\n",
    "    length = 0  # Длина предыдущего префикса, совпадающего с суффиксом\n",
    "    i = 1\n",
    "\n",
    "    # Заполнение массива LPS\n",
    "    while i < m:\n",
    "        if pattern[i] == pattern[length]:\n",
    "            length += 1\n",
    "            lps[i] = length\n",
    "            i += 1\n",
    "        else:\n",
    "            if length != 0:\n",
    "                length = lps[length - 1]  # Переход на предыдущий префикс\n",
    "            else:\n",
    "                lps[i] = 0\n",
    "                i += 1\n",
    "    return lps\n",
    "\n",
    "def kmp_search(text, pattern):\n",
    "    \"\"\"\n",
    "    Ищет шаблон в тексте с помощью алгоритма KMP.\n",
    "    При нахождении полного совпадения возвращает индекс начала совпадения.\n",
    "    \"\"\"\n",
    "    n = len(text)\n",
    "    m = len(pattern)\n",
    "    lps = compute_lps(pattern)  # Вычисляем LPS для шаблона\n",
    "\n",
    "    i = j = 0  # Индексы для текста и шаблона\n",
    "\n",
    "    while i < n:\n",
    "        if pattern[j] == text[i]:\n",
    "            i += 1\n",
    "            j += 1\n",
    "\n",
    "        if j == m:\n",
    "            print(f\"Найдено совпадение на индексе {i - j}\")\n",
    "            j = lps[j - 1]  # Продолжаем поиск для следующих совпадений\n",
    "\n",
    "        elif i < n and pattern[j] != text[i]:\n",
    "            if j != 0:\n",
    "                j = lps[j - 1]  # Смещаем шаблон согласно LPS\n",
    "            else:\n",
    "                i += 1\n",
    "\n",
    "# Пример использования\n",
    "text = \"ABABDABACDABABCABAB\"\n",
    "pattern = \"ABABCABAB\"\n",
    "kmp_search(text, pattern)  # Output: Найдено совпадение на индексе 10"
   ]
  },
  {
   "cell_type": "code",
   "execution_count": null,
   "metadata": {},
   "outputs": [],
   "source": []
  },
  {
   "cell_type": "code",
   "execution_count": null,
   "metadata": {},
   "outputs": [],
   "source": []
  }
 ],
 "metadata": {
  "kernelspec": {
   "display_name": "Python 3 (ipykernel)",
   "language": "python",
   "name": "python3"
  },
  "language_info": {
   "codemirror_mode": {
    "name": "ipython",
    "version": 3
   },
   "file_extension": ".py",
   "mimetype": "text/x-python",
   "name": "python",
   "nbconvert_exporter": "python",
   "pygments_lexer": "ipython3",
   "version": "3.10.12"
  }
 },
 "nbformat": 4,
 "nbformat_minor": 4
}
