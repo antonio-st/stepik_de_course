{
 "cells": [
  {
   "cell_type": "markdown",
   "id": "4631ba71-0399-4b64-bbdc-55ee790d6aa5",
   "metadata": {},
   "source": [
    "В Apache Spark UDF (User-Defined Function) — это пользовательская функция, которая позволяет выполнять произвольные вычисления над данными в DataFrame. UDF можно использовать для применения сложной логики или вычислений, которые не поддерживаются стандартными функциями Spark SQL."
   ]
  },
  {
   "cell_type": "code",
   "execution_count": 8,
   "id": "7bc3dcd1-8dea-4f73-8dcb-b1d43b5227c3",
   "metadata": {},
   "outputs": [],
   "source": [
    "from pyspark import SparkContext, SparkConf\n",
    "from pyspark.sql import SparkSession,DataFrame\n",
    "from pyspark import StorageLevel\n",
    "from pyspark.sql.functions import col, round, to_date, year, month, sum, avg, udf\n",
    "from pyspark.sql.types import IntegerType, StringType\n",
    "\n",
    "conf = (\n",
    "     SparkConf()\n",
    "    .setAppName('udf_Spark')\n",
    "    .setMaster('local[*]')\n",
    ")\n",
    "\n",
    "\n",
    "# Spark сессия\n",
    "spark = (\n",
    "    SparkSession\n",
    "    .builder\n",
    "    .config(conf=conf)\n",
    "    # .enableHiveSupport()\n",
    "    .getOrCreate()\n",
    ")"
   ]
  },
  {
   "cell_type": "code",
   "execution_count": 6,
   "id": "93d4f98b-27ae-42d4-b04d-5e566866cc0a",
   "metadata": {},
   "outputs": [],
   "source": [
    "data = [(1, \"Alice\"), (2, \"Bob\"), (3, \"Cathy\"), (4, \"David\")]\n",
    "df = spark.createDataFrame(data, [\"id\", \"name\"])"
   ]
  },
  {
   "cell_type": "code",
   "execution_count": 7,
   "id": "a25a02e0-b255-4496-9063-934ac3e64a5a",
   "metadata": {},
   "outputs": [],
   "source": [
    "# Определяем пользовательскую функцию\n",
    "def add_prefix(name):\n",
    "    return f\"Name_{name}\""
   ]
  },
  {
   "cell_type": "code",
   "execution_count": 9,
   "id": "c490cc70-af6c-4b6f-a502-9c0c50c5110c",
   "metadata": {},
   "outputs": [],
   "source": [
    "# Регистрируем функцию как UDF\n",
    "add_pref_udf = udf(add_prefix, StringType())"
   ]
  },
  {
   "cell_type": "code",
   "execution_count": 12,
   "id": "7261730d-95bf-46f5-9af0-dc56e5a2035f",
   "metadata": {},
   "outputs": [
    {
     "name": "stdout",
     "output_type": "stream",
     "text": [
      "+---+-----+\n",
      "| id| name|\n",
      "+---+-----+\n",
      "|  1|Alice|\n",
      "|  2|  Bob|\n",
      "|  3|Cathy|\n",
      "|  4|David|\n",
      "+---+-----+\n",
      "\n"
     ]
    }
   ],
   "source": [
    "df.show()"
   ]
  },
  {
   "cell_type": "code",
   "execution_count": 15,
   "id": "0d73ecf5-a2b8-4f31-9fb2-66dd8ff9d076",
   "metadata": {
    "scrolled": true
   },
   "outputs": [
    {
     "name": "stderr",
     "output_type": "stream",
     "text": [
      "                                                                                \r"
     ]
    },
    {
     "name": "stdout",
     "output_type": "stream",
     "text": [
      "+---+-----+-------------+\n",
      "| id| name|prefixed_name|\n",
      "+---+-----+-------------+\n",
      "|  1|Alice|   Name_Alice|\n",
      "|  2|  Bob|     Name_Bob|\n",
      "|  3|Cathy|   Name_Cathy|\n",
      "|  4|David|   Name_David|\n",
      "+---+-----+-------------+\n",
      "\n"
     ]
    }
   ],
   "source": [
    "# применяем udf к df\n",
    "prefixed_df = df.withColumn(\"prefixed_name\", add_pref_udf(col(\"name\")))\n",
    "prefixed_df.show()b"
   ]
  },
  {
   "cell_type": "markdown",
   "id": "7d6cfb5c-ac1c-464d-832c-81b936e7fe03",
   "metadata": {},
   "source": [
    "если Вы хотите использовать UDF в рамках чистого SQL, то конструкция создания UDF будет немного другая."
   ]
  },
  {
   "cell_type": "code",
   "execution_count": 16,
   "id": "b65b66bf-aaa7-4f86-8488-e6899db48afe",
   "metadata": {},
   "outputs": [
    {
     "name": "stdout",
     "output_type": "stream",
     "text": [
      "+---+-----+-----------+\n",
      "| id| name|name_length|\n",
      "+---+-----+-----------+\n",
      "|  1|Alice|          5|\n",
      "|  2|  Bob|          3|\n",
      "|  3|Cathy|          5|\n",
      "|  4|David|          5|\n",
      "+---+-----+-----------+\n",
      "\n"
     ]
    }
   ],
   "source": [
    "def name_length(name):\n",
    "    return len(name)\n",
    "\n",
    "# Регистрируем функцию как UDF с использованием spark.udf.register\n",
    "spark.udf.register(\"name_length_udf\", name_length, IntegerType())\n",
    "\n",
    "# Создаем временную таблицу для выполнения SQL-запросов\n",
    "df.createOrReplaceTempView(\"people\")\n",
    "\n",
    "# Используем зарегистрированную UDF в SQL-запросе\n",
    "result_df = spark.sql(\"SELECT id, name, name_length_udf(name) as name_length FROM people\")\n",
    "\n",
    "\n",
    "result_df.show()"
   ]
  }
 ],
 "metadata": {
  "kernelspec": {
   "display_name": "Python 3 (ipykernel)",
   "language": "python",
   "name": "python3"
  },
  "language_info": {
   "codemirror_mode": {
    "name": "ipython",
    "version": 3
   },
   "file_extension": ".py",
   "mimetype": "text/x-python",
   "name": "python",
   "nbconvert_exporter": "python",
   "pygments_lexer": "ipython3",
   "version": "3.10.12"
  }
 },
 "nbformat": 4,
 "nbformat_minor": 5
}
