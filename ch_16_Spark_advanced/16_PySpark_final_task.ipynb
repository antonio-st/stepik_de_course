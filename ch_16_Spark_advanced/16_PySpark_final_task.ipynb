{
 "cells": [
  {
   "cell_type": "code",
   "execution_count": 1,
   "id": "61adaf0b-b62d-48c2-815b-08f6de660789",
   "metadata": {},
   "outputs": [
    {
     "name": "stderr",
     "output_type": "stream",
     "text": [
      "24/09/18 23:00:30 WARN Utils: Your hostname, antonio-f513 resolves to a loopback address: 127.0.1.1; using 192.168.100.11 instead (on interface wlo1)\n",
      "24/09/18 23:00:30 WARN Utils: Set SPARK_LOCAL_IP if you need to bind to another address\n",
      "Setting default log level to \"WARN\".\n",
      "To adjust logging level use sc.setLogLevel(newLevel). For SparkR, use setLogLevel(newLevel).\n",
      "24/09/18 23:00:30 WARN NativeCodeLoader: Unable to load native-hadoop library for your platform... using builtin-java classes where applicable\n"
     ]
    }
   ],
   "source": [
    "from pyspark import SparkContext, SparkConf\n",
    "from pyspark.sql import SparkSession,DataFrame\n",
    "from pyspark import StorageLevel\n",
    "from pyspark.sql.functions import col, round, to_date, year, month, sum, avg\n",
    "\n",
    "conf = (\n",
    "     SparkConf()\n",
    "    .setAppName('Simple_Spark')\n",
    "    .setMaster('local[*]')\n",
    ")\n",
    "\n",
    "\n",
    "# Spark сессия\n",
    "spark = (\n",
    "    SparkSession\n",
    "    .builder\n",
    "    .config(conf=conf)\n",
    "    # .enableHiveSupport()\n",
    "    .getOrCreate()\n",
    ")"
   ]
  },
  {
   "cell_type": "code",
   "execution_count": 2,
   "id": "cb760708-de66-4890-b6bf-79bdbc035b20",
   "metadata": {},
   "outputs": [],
   "source": [
    "# создаем df\n",
    "data = [(i, f\"employe_name_{i}\") for i in range(120)]"
   ]
  },
  {
   "cell_type": "code",
   "execution_count": 3,
   "id": "51baf2a8-4f54-455d-99ed-946cbf0b8b79",
   "metadata": {},
   "outputs": [
    {
     "name": "stderr",
     "output_type": "stream",
     "text": [
      "                                                                                \r"
     ]
    },
    {
     "name": "stdout",
     "output_type": "stream",
     "text": [
      "+---+--------------+------------------------+\n",
      "| id|          name|                   email|\n",
      "+---+--------------+------------------------+\n",
      "|  0|employe_name_0|employe_name_0@yandex.ru|\n",
      "|  1|employe_name_1|employe_name_1@yandex.ru|\n",
      "|  2|employe_name_2|employe_name_2@yandex.ru|\n",
      "+---+--------------+------------------------+\n",
      "only showing top 3 rows\n",
      "\n"
     ]
    }
   ],
   "source": [
    "employe_name = [(i[0], i[1], f\"{i[1]}@yandex.ru\") for i in data]\n",
    "df2 = spark.createDataFrame(employe_name, [\"id\", \"name\", \"email\"])\n",
    "df2.show(3, 100, False)"
   ]
  },
  {
   "cell_type": "code",
   "execution_count": 6,
   "id": "b5bc51cb-5c13-4d09-99f0-7d8d5dbedab1",
   "metadata": {},
   "outputs": [],
   "source": [
    "list_city_all = [(1, 'Австрия'),\n",
    " (2, 'Бельгия'),\n",
    " (3, 'Великобритания'),\n",
    " (4, 'Германия'),\n",
    " (5, 'Ирландия'),\n",
    " (6, 'Лихтенштейн'),\n",
    " (7, 'Нидерладны'),\n",
    " (8, 'Франция'),\n",
    " (9, 'Белоруссия'),\n",
    " (10, 'Болгария'),\n",
    " (11, 'Польша'),\n",
    " (12, 'Чехия'),\n",
    " (13, 'Албания'),\n",
    " (14, 'Босния и Герцеговина'),\n",
    " (15, 'Северная Македония'),\n",
    " (16, 'Сербия'),\n",
    " (11, 'Австрия'),\n",
    " (12, 'Бельгия'),\n",
    " (13, 'Великобритания'),\n",
    " (14, 'Германия'),\n",
    " (15, 'Ирландия'),\n",
    " (16, 'Лихтенштейн'),\n",
    " (17, 'Нидерладны'),\n",
    " (18, 'Франция'),\n",
    " (19, 'Белоруссия'),\n",
    " (20, 'Болгария'),\n",
    " (21, 'Польша'),\n",
    " (22, 'Чехия'),\n",
    " (23, 'Албания'),\n",
    " (24, 'Босния и Герцеговина'),\n",
    " (25, 'Северная Македония'),\n",
    " (26, 'Сербия'),\n",
    " (27, 'Австрия'),\n",
    " (28, 'Бельгия'),\n",
    " (29, 'Великобритания'),\n",
    " (30, 'Германия'),\n",
    " (31, 'Ирландия'),\n",
    " (32, 'Лихтенштейн'),\n",
    " (33, 'Нидерладны'),\n",
    " (34, 'Франция'),\n",
    " (35, 'Белоруссия'),\n",
    " (36, 'Болгария'),\n",
    " (37, 'Польша'),\n",
    " (38, 'Чехия'),\n",
    " (39, 'Албания'),\n",
    " (40, 'Босния и Герцеговина'),\n",
    " (41, 'Северная Македония'),\n",
    " (42, 'Сербия'),\n",
    " (51, 'Австрия'),\n",
    " (52, 'Бельгия'),\n",
    " (53, 'Великобритания'),\n",
    " (54, 'Германия'),\n",
    " (55, 'Ирландия'),\n",
    " (56, 'Лихтенштейн'),\n",
    " (57, 'Нидерладны'),\n",
    " (58, 'Франция'),\n",
    " (59, 'Белоруссия'),\n",
    " (60, 'Болгария'),\n",
    " (61, 'Польша'),\n",
    " (62, 'Чехия'),\n",
    " (63, 'Албания'),\n",
    " (64, 'Босния и Герцеговина'),\n",
    " (65, 'Северная Македония'),\n",
    " (66, 'Сербия'),\n",
    " (69, 'Австрия'),\n",
    " (70, 'Бельгия'),\n",
    " (71, 'Великобритания'),\n",
    " (72, 'Германия'),\n",
    " (73, 'Ирландия'),\n",
    " (74, 'Лихтенштейн'),\n",
    " (75, 'Нидерладны'),\n",
    " (76, 'Франция'),\n",
    " (77, 'Белоруссия'),\n",
    " (78, 'Болгария'),\n",
    " (79, 'Польша'),\n",
    " (80, 'Чехия'),\n",
    " (81, 'Албания'),\n",
    " (82, 'Босния и Герцеговина'),\n",
    " (83, 'Северная Македония'),\n",
    " (84, 'Сербия'),\n",
    " (86, 'Австрия'),\n",
    " (87, 'Бельгия'),\n",
    " (88, 'Великобритания'),\n",
    " (89, 'Германия'),\n",
    " (90, 'Ирландия'),\n",
    " (91, 'Лихтенштейн'),\n",
    " (92, 'Нидерладны'),\n",
    " (93, 'Франция'),\n",
    " (94, 'Белоруссия'),\n",
    " (95, 'Болгария'),\n",
    " (96, 'Польша'),\n",
    " (97, 'Чехия'),\n",
    " (98, 'Албания'),\n",
    " (99, 'Босния и Герцеговина'),\n",
    " (100, 'Северная Македония'),\n",
    " (101, 'Сербия')]"
   ]
  },
  {
   "cell_type": "code",
   "execution_count": 7,
   "id": "2e843567-bdaa-4f46-8ffa-9265f61ccd6d",
   "metadata": {},
   "outputs": [
    {
     "name": "stdout",
     "output_type": "stream",
     "text": [
      "+---+--------------+\n",
      "| id|          city|\n",
      "+---+--------------+\n",
      "|  1|       Австрия|\n",
      "|  2|       Бельгия|\n",
      "|  3|Великобритания|\n",
      "|  4|      Германия|\n",
      "|  5|      Ирландия|\n",
      "+---+--------------+\n",
      "only showing top 5 rows\n",
      "\n"
     ]
    }
   ],
   "source": [
    "# страна\n",
    "df3 = spark.createDataFrame(list_city_all, [\"id\", \"city\"])\n",
    "df3.show(5, 100, False)"
   ]
  },
  {
   "cell_type": "code",
   "execution_count": 8,
   "id": "189b8f05-8c70-4c96-a90d-bed2d74223b7",
   "metadata": {},
   "outputs": [],
   "source": [
    "# join\n",
    "df4 = (\n",
    "df2.alias(\"df2\")\n",
    ".join(df3.alias(\"df3\"), df2.id == df3.id, \"left\")\n",
    ".select(col(\"df2.id\"), \n",
    "        col(\"df2.name\"),\n",
    "        col(\"df2.email\"), \n",
    "        col(\"df3.city\")\n",
    "       )\n",
    "    .orderBy(\"id\")\n",
    ")"
   ]
  },
  {
   "cell_type": "code",
   "execution_count": 9,
   "id": "030c4d15-479a-4122-8336-44ae2979c4d8",
   "metadata": {},
   "outputs": [
    {
     "name": "stderr",
     "output_type": "stream",
     "text": [
      "                                                                                \r"
     ]
    },
    {
     "name": "stdout",
     "output_type": "stream",
     "text": [
      "+---+--------------+------------------------+--------------+\n",
      "| id|          name|                   email|          city|\n",
      "+---+--------------+------------------------+--------------+\n",
      "|  0|employe_name_0|employe_name_0@yandex.ru|          NULL|\n",
      "|  1|employe_name_1|employe_name_1@yandex.ru|       Австрия|\n",
      "|  2|employe_name_2|employe_name_2@yandex.ru|       Бельгия|\n",
      "|  3|employe_name_3|employe_name_3@yandex.ru|Великобритания|\n",
      "|  4|employe_name_4|employe_name_4@yandex.ru|      Германия|\n",
      "+---+--------------+------------------------+--------------+\n",
      "only showing top 5 rows\n",
      "\n"
     ]
    }
   ],
   "source": [
    "df4.show(5, 100, False)"
   ]
  },
  {
   "cell_type": "code",
   "execution_count": 126,
   "id": "b78bc8c8-e9de-494d-a349-9b1ae5fca38f",
   "metadata": {},
   "outputs": [
    {
     "data": {
      "text/plain": [
       "126"
      ]
     },
     "execution_count": 126,
     "metadata": {},
     "output_type": "execute_result"
    }
   ],
   "source": [
    "df4.count()"
   ]
  },
  {
   "cell_type": "code",
   "execution_count": 73,
   "id": "ee9d5cb7-1c2e-4aa3-8ae2-c66f12cbc4e3",
   "metadata": {},
   "outputs": [],
   "source": [
    "# возраст и дата регистрации\n",
    "import random\n",
    "import math\n",
    "from datetime import timedelta, datetime\n",
    "from dateutil.relativedelta import relativedelta\n",
    "\n",
    "# случайным образом вычисляем возраст из диапазона\n",
    "res_age = []\n",
    "id = 0\n",
    "for j in range(126):\n",
    "    id+=1\n",
    "    res_age.append((id, random.randint(18, 95)))\n",
    "\n",
    "# берем значение возраста, вычисляем 20 % , это и будет датой регистрации\n",
    "res_age_date = []\n",
    "now = datetime.now()\n",
    "for i in res_age:\n",
    "    myear = (math.ceil((i[1] / 100) * 20))\n",
    "    res_age_date.append((i[0], i[1], (now - relativedelta(years=myear)).strftime(\"%Y-%m-%d\")))"
   ]
  },
  {
   "cell_type": "code",
   "execution_count": 75,
   "id": "fa06678c-5643-408c-b863-155c6e22b922",
   "metadata": {},
   "outputs": [
    {
     "name": "stdout",
     "output_type": "stream",
     "text": [
      "+---+---+----------+\n",
      "| id|age|  date_reg|\n",
      "+---+---+----------+\n",
      "|  1| 57|2012-09-18|\n",
      "|  2| 50|2014-09-18|\n",
      "|  3| 68|2010-09-18|\n",
      "|  4| 58|2012-09-18|\n",
      "|  5| 89|2006-09-18|\n",
      "+---+---+----------+\n",
      "only showing top 5 rows\n",
      "\n"
     ]
    }
   ],
   "source": [
    "df5 = spark.createDataFrame(res_age_date, [\"id\", \"age\", \"date_reg\"])\n",
    "df5.show(5, 100, False)"
   ]
  },
  {
   "cell_type": "code",
   "execution_count": 76,
   "id": "eac0006d-22be-426e-b153-f50aa8b2218a",
   "metadata": {},
   "outputs": [
    {
     "name": "stderr",
     "output_type": "stream",
     "text": [
      "                                                                                \r"
     ]
    },
    {
     "name": "stdout",
     "output_type": "stream",
     "text": [
      "+---+--------------+------------------------+--------------+----+----------+\n",
      "| id|          name|                   email|          city| age|  date_reg|\n",
      "+---+--------------+------------------------+--------------+----+----------+\n",
      "|  0|employe_name_0|employe_name_0@yandex.ru|          NULL|NULL|      NULL|\n",
      "|  1|employe_name_1|employe_name_1@yandex.ru|       Австрия|  57|2012-09-18|\n",
      "|  2|employe_name_2|employe_name_2@yandex.ru|       Бельгия|  50|2014-09-18|\n",
      "|  3|employe_name_3|employe_name_3@yandex.ru|Великобритания|  68|2010-09-18|\n",
      "|  4|employe_name_4|employe_name_4@yandex.ru|      Германия|  58|2012-09-18|\n",
      "+---+--------------+------------------------+--------------+----+----------+\n",
      "only showing top 5 rows\n",
      "\n"
     ]
    }
   ],
   "source": [
    "# join\n",
    "df6 = (\n",
    "df4.alias(\"df4\")\n",
    ".join(df5.alias(\"df5\"), df4.id == df5.id, \"left\")\n",
    ".select(col(\"df4.id\"), \n",
    "        col(\"df4.name\"),\n",
    "        col(\"df4.email\"), \n",
    "        col(\"df4.city\"),\n",
    "        col(\"df5.age\"), \n",
    "        col(\"df5.date_reg\")\n",
    "       )\n",
    "    .orderBy(\"id\")\n",
    ")\n",
    "df6.show(5, 100, False)"
   ]
  },
  {
   "cell_type": "code",
   "execution_count": 77,
   "id": "6f204c7f-a458-4f1f-bab4-c097e8f0960a",
   "metadata": {},
   "outputs": [],
   "source": [
    "# зарплата\n",
    "res_2 = []\n",
    "id_2 = 0\n",
    "for j in range(126):\n",
    "    id_2+=1\n",
    "    res_2.append((id_2, random.randint(1000, 4000)))"
   ]
  },
  {
   "cell_type": "code",
   "execution_count": 78,
   "id": "68afaa68-ba39-4f68-b6e2-a6a108d68eb6",
   "metadata": {},
   "outputs": [
    {
     "name": "stdout",
     "output_type": "stream",
     "text": [
      "+---+------+\n",
      "| id|salary|\n",
      "+---+------+\n",
      "|  1|  1561|\n",
      "|  2|  2179|\n",
      "|  3|  3675|\n",
      "|  4|  2105|\n",
      "|  5|  3116|\n",
      "+---+------+\n",
      "only showing top 5 rows\n",
      "\n"
     ]
    }
   ],
   "source": [
    "df_salary = spark.createDataFrame(res_2, [\"id\", \"salary\"])\n",
    "df_salary.show(5, 100, False)"
   ]
  },
  {
   "cell_type": "code",
   "execution_count": 82,
   "id": "0ec515b2-842d-40fb-ae35-d98a689d7ee9",
   "metadata": {},
   "outputs": [
    {
     "name": "stderr",
     "output_type": "stream",
     "text": [
      "                                                                                \r"
     ]
    },
    {
     "name": "stdout",
     "output_type": "stream",
     "text": [
      "+---+---------------+-------------------------+--------------------+----+------+----------+\n",
      "| id|           name|                    email|                city| age|salary|  date_reg|\n",
      "+---+---------------+-------------------------+--------------------+----+------+----------+\n",
      "|  0| employe_name_0| employe_name_0@yandex.ru|                NULL|NULL|  NULL|      NULL|\n",
      "|  1| employe_name_1| employe_name_1@yandex.ru|             Австрия|  57|  1561|2012-09-18|\n",
      "|  2| employe_name_2| employe_name_2@yandex.ru|             Бельгия|  50|  2179|2014-09-18|\n",
      "|  3| employe_name_3| employe_name_3@yandex.ru|      Великобритания|  68|  3675|2010-09-18|\n",
      "|  4| employe_name_4| employe_name_4@yandex.ru|            Германия|  58|  2105|2012-09-18|\n",
      "|  5| employe_name_5| employe_name_5@yandex.ru|            Ирландия|  89|  3116|2006-09-18|\n",
      "|  6| employe_name_6| employe_name_6@yandex.ru|         Лихтенштейн|  23|  1571|2019-09-18|\n",
      "|  7| employe_name_7| employe_name_7@yandex.ru|          Нидерладны|  72|  1081|2009-09-18|\n",
      "|  8| employe_name_8| employe_name_8@yandex.ru|             Франция|  42|  2440|2015-09-18|\n",
      "|  9| employe_name_9| employe_name_9@yandex.ru|          Белоруссия|  90|  3080|2006-09-18|\n",
      "| 10|employe_name_10|employe_name_10@yandex.ru|            Болгария|  68|  1341|2010-09-18|\n",
      "| 11|employe_name_11|employe_name_11@yandex.ru|             Австрия|  30|  2391|2018-09-18|\n",
      "| 11|employe_name_11|employe_name_11@yandex.ru|              Польша|  30|  2391|2018-09-18|\n",
      "| 12|employe_name_12|employe_name_12@yandex.ru|             Бельгия|  92|  3457|2005-09-18|\n",
      "| 12|employe_name_12|employe_name_12@yandex.ru|               Чехия|  92|  3457|2005-09-18|\n",
      "| 13|employe_name_13|employe_name_13@yandex.ru|      Великобритания|  49|  1674|2014-09-18|\n",
      "| 13|employe_name_13|employe_name_13@yandex.ru|             Албания|  49|  1674|2014-09-18|\n",
      "| 14|employe_name_14|employe_name_14@yandex.ru|            Германия|  39|  3367|2016-09-18|\n",
      "| 14|employe_name_14|employe_name_14@yandex.ru|Босния и Герцеговина|  39|  3367|2016-09-18|\n",
      "| 15|employe_name_15|employe_name_15@yandex.ru|            Ирландия|  58|  3522|2012-09-18|\n",
      "| 15|employe_name_15|employe_name_15@yandex.ru|  Северная Македония|  58|  3522|2012-09-18|\n",
      "| 16|employe_name_16|employe_name_16@yandex.ru|         Лихтенштейн|  44|  2907|2015-09-18|\n",
      "| 16|employe_name_16|employe_name_16@yandex.ru|              Сербия|  44|  2907|2015-09-18|\n",
      "| 17|employe_name_17|employe_name_17@yandex.ru|          Нидерладны|  95|  2608|2005-09-18|\n",
      "| 18|employe_name_18|employe_name_18@yandex.ru|             Франция|  59|  3910|2012-09-18|\n",
      "+---+---------------+-------------------------+--------------------+----+------+----------+\n",
      "only showing top 25 rows\n",
      "\n"
     ]
    }
   ],
   "source": [
    "# finaly join\n",
    "df_all = (\n",
    "df6.join(df_salary, \"id\", \"left\")\n",
    "    .select(col(\"id\"), \n",
    "        col(\"name\"),\n",
    "        col(\"email\"), \n",
    "        col(\"city\"),\n",
    "        col(\"age\"),\n",
    "        col(\"salary\",),\n",
    "        col(\"date_reg\")\n",
    "       )\n",
    "    .orderBy(\"id\")\n",
    ")\n",
    "\n",
    "df_all.show(25, 100, False)"
   ]
  },
  {
   "cell_type": "code",
   "execution_count": null,
   "id": "0411eaca-0a1e-42df-9c5b-0f4305d0b054",
   "metadata": {},
   "outputs": [],
   "source": []
  }
 ],
 "metadata": {
  "kernelspec": {
   "display_name": "Python 3 (ipykernel)",
   "language": "python",
   "name": "python3"
  },
  "language_info": {
   "codemirror_mode": {
    "name": "ipython",
    "version": 3
   },
   "file_extension": ".py",
   "mimetype": "text/x-python",
   "name": "python",
   "nbconvert_exporter": "python",
   "pygments_lexer": "ipython3",
   "version": "3.10.12"
  }
 },
 "nbformat": 4,
 "nbformat_minor": 5
}
