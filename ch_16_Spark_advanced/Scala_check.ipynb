{
 "cells": [
  {
   "cell_type": "code",
   "execution_count": 12,
   "id": "a84a1f5c-b61e-46bd-99fd-3c2ec2366521",
   "metadata": {},
   "outputs": [
    {
     "data": {
      "text/plain": [
       "spark = org.apache.spark.sql.SparkSession@25772b8f\n"
      ]
     },
     "metadata": {},
     "output_type": "display_data",
     "source": "user"
    },
    {
     "data": {
      "text/plain": [
       "org.apache.spark.sql.SparkSession@25772b8f"
      ]
     },
     "execution_count": 12,
     "metadata": {},
     "output_type": "execute_result"
    }
   ],
   "source": [
    "import org.apache.spark.sql.SparkSession\n",
    "import org.apache.spark.sql.functions.col\n",
    "import org.apache.spark.sql.SaveMode\n",
    "import org.apache.spark.storage.StorageLevel\n",
    "\n",
    "\n",
    "val spark: SparkSession = SparkSession.builder()\n",
    "        .appName(\"Spark_learn\")\n",
    "        .master(\"local[*]\")\n",
    "        // .config(\"spark.sql.shuffle.partitions\", \"10\")\n",
    "        .getOrCreate()"
   ]
  },
  {
   "cell_type": "code",
   "execution_count": 8,
   "id": "cca92452-8cbf-4cdb-9be7-36114d4c24f7",
   "metadata": {},
   "outputs": [
    {
     "data": {
      "text/plain": [
       "Some(http://192.168.100.11:4041)"
      ]
     },
     "execution_count": 8,
     "metadata": {},
     "output_type": "execute_result"
    }
   ],
   "source": [
    "sc.uiWebUrl"
   ]
  },
  {
   "cell_type": "code",
   "execution_count": 11,
   "id": "7623aa9b-fb7f-4f13-b1e4-4cb4780f828e",
   "metadata": {},
   "outputs": [
    {
     "name": "stdout",
     "output_type": "stream",
     "text": [
      "итого 20K\n",
      "-rw------- 1 antonio antonio 9,2K сен 15 09:38 16_5.ipynb\n",
      "-rw-rw-r-- 1 antonio antonio  705 авг 25 21:34 sales.csv\n",
      "-rw-rw-r-- 1 antonio antonio 1,6K сен 15 09:43 Untitled.ipynb\n"
     ]
    },
    {
     "data": {
      "text/plain": [
       "warning: one feature warning; for details, enable `:setting -feature' or `:replay -feature'\n"
      ]
     },
     "metadata": {},
     "output_type": "display_data",
     "source": "user"
    },
    {
     "data": {
      "text/plain": [
       "0"
      ]
     },
     "execution_count": 11,
     "metadata": {},
     "output_type": "execute_result"
    }
   ],
   "source": [
    "import sys.process._\n",
    "\"ls -lh\"!"
   ]
  },
  {
   "cell_type": "code",
   "execution_count": 42,
   "id": "b0edc8e4-7389-4f87-ab1d-dc364b207eb0",
   "metadata": {},
   "outputs": [
    {
     "data": {
      "text/plain": [
       "df_sales = [product_name: string, quantity: string ... 2 more fields]\n"
      ]
     },
     "metadata": {},
     "output_type": "display_data",
     "source": "user"
    },
    {
     "data": {
      "text/plain": [
       "[product_name: string, quantity: string ... 2 more fields]"
      ]
     },
     "execution_count": 42,
     "metadata": {},
     "output_type": "execute_result"
    }
   ],
   "source": [
    "val df_sales = spark.read\n",
    "  .option(\"header\", \"true\")\n",
    "  .option(\"numPartitions\", 10)\n",
    "  .csv(\"./sales.csv\")"
   ]
  },
  {
   "cell_type": "code",
   "execution_count": 25,
   "id": "fba2522d-942d-4f43-b28d-37ce7332b3b7",
   "metadata": {},
   "outputs": [],
   "source": [
    "df_sales\n",
    ".write\n",
    ".partitionBy(\"date\")\n",
    ".option(\"header\", \"true\")\n",
    ".mode(SaveMode.Overwrite)\n",
    ".csv(\"./output/sales/\")"
   ]
  },
  {
   "cell_type": "code",
   "execution_count": 26,
   "id": "704c4eb6-1a58-479d-ad8b-e204a0de4633",
   "metadata": {},
   "outputs": [
    {
     "name": "stdout",
     "output_type": "stream",
     "text": [
      "итого 44K\n",
      "drwxr-xr-x 2 antonio antonio 4,0K сен 15 09:52 date=2024-06-16\n",
      "drwxr-xr-x 2 antonio antonio 4,0K сен 15 09:52 date=2024-06-19\n",
      "drwxr-xr-x 2 antonio antonio 4,0K сен 15 09:52 date=2024-06-20\n",
      "drwxr-xr-x 2 antonio antonio 4,0K сен 15 09:52 date=2024-06-21\n",
      "drwxr-xr-x 2 antonio antonio 4,0K сен 15 09:52 date=2024-06-22\n",
      "drwxr-xr-x 2 antonio antonio 4,0K сен 15 09:52 date=2024-06-23\n",
      "drwxr-xr-x 2 antonio antonio 4,0K сен 15 09:52 date=2024-06-24\n",
      "drwxr-xr-x 2 antonio antonio 4,0K сен 15 09:52 date=2024-06-25\n",
      "drwxr-xr-x 2 antonio antonio 4,0K сен 15 09:52 date=2024-06-26\n",
      "drwxr-xr-x 2 antonio antonio 4,0K сен 15 09:52 date=2024-06-27\n",
      "drwxr-xr-x 2 antonio antonio 4,0K сен 15 09:52 date=2024-06-28\n",
      "-rw-r--r-- 1 antonio antonio    0 сен 15 09:52 _SUCCESS\n"
     ]
    },
    {
     "data": {
      "text/plain": [
       "warning: one feature warning; for details, enable `:setting -feature' or `:replay -feature'\n"
      ]
     },
     "metadata": {},
     "output_type": "display_data",
     "source": "user"
    },
    {
     "data": {
      "text/plain": [
       "0"
      ]
     },
     "execution_count": 26,
     "metadata": {},
     "output_type": "execute_result"
    }
   ],
   "source": [
    "\"ls -lh ./output/sales\"!"
   ]
  },
  {
   "cell_type": "code",
   "execution_count": 9,
   "id": "3567f6e9-ca1c-424b-9404-b616d303ae80",
   "metadata": {},
   "outputs": [
    {
     "name": "stdout",
     "output_type": "stream",
     "text": [
      "(spark.sql.warehouse.dir,file:/home/antonio/%23LEARN/stepik_de_course/stepik_de_course/ch_16_Spark_advanced/spark-warehouse)\n",
      "(spark.executor.extraJavaOptions,-Djava.net.preferIPv6Addresses=false -XX:+IgnoreUnrecognizedVMOptions --add-opens=java.base/java.lang=ALL-UNNAMED --add-opens=java.base/java.lang.invoke=ALL-UNNAMED --add-opens=java.base/java.lang.reflect=ALL-UNNAMED --add-opens=java.base/java.io=ALL-UNNAMED --add-opens=java.base/java.net=ALL-UNNAMED --add-opens=java.base/java.nio=ALL-UNNAMED --add-opens=java.base/java.util=ALL-UNNAMED --add-opens=java.base/java.util.concurrent=ALL-UNNAMED --add-opens=java.base/java.util.concurrent.atomic=ALL-UNNAMED --add-opens=java.base/sun.nio.ch=ALL-UNNAMED --add-opens=java.base/sun.nio.cs=ALL-UNNAMED --add-opens=java.base/sun.security.action=ALL-UNNAMED --add-opens=java.base/sun.util.calendar=ALL-UNNAMED --add-opens=java.security.jgss/sun.security.krb5=ALL-UNNAMED -Djdk.reflect.useDirectMethodHandle=false)\n",
      "(spark.driver.host,192.168.100.11)\n",
      "(spark.driver.port,35751)\n",
      "(spark.repl.class.uri,spark://192.168.100.11:35751/classes)\n",
      "(spark.jars,file:/usr/local/share/jupyter/kernels/apache_toree_scala/lib/toree-assembly-0.5.0-incubating.jar)\n",
      "(spark.repl.class.outputDir,/tmp/spark-1f13b470-0e37-4bc4-beb8-68af4bd674d7/repl-49fc2069-11b2-423b-b90a-414f3d802bdb)\n",
      "(spark.app.name,Apache Toree)\n",
      "(spark.submit.pyFiles,)\n",
      "(spark.app.submitTime,1726511782252)\n",
      "(spark.app.startTime,1726511838003)\n",
      "(spark.executor.id,driver)\n",
      "(spark.driver.extraJavaOptions,-Djava.net.preferIPv6Addresses=false -XX:+IgnoreUnrecognizedVMOptions --add-opens=java.base/java.lang=ALL-UNNAMED --add-opens=java.base/java.lang.invoke=ALL-UNNAMED --add-opens=java.base/java.lang.reflect=ALL-UNNAMED --add-opens=java.base/java.io=ALL-UNNAMED --add-opens=java.base/java.net=ALL-UNNAMED --add-opens=java.base/java.nio=ALL-UNNAMED --add-opens=java.base/java.util=ALL-UNNAMED --add-opens=java.base/java.util.concurrent=ALL-UNNAMED --add-opens=java.base/java.util.concurrent.atomic=ALL-UNNAMED --add-opens=java.base/sun.nio.ch=ALL-UNNAMED --add-opens=java.base/sun.nio.cs=ALL-UNNAMED --add-opens=java.base/sun.security.action=ALL-UNNAMED --add-opens=java.base/sun.util.calendar=ALL-UNNAMED --add-opens=java.security.jgss/sun.security.krb5=ALL-UNNAMED -Djdk.reflect.useDirectMethodHandle=false)\n",
      "(spark.app.initial.jar.urls,spark://192.168.100.11:35751/jars/toree-assembly-0.5.0-incubating.jar)\n",
      "(spark.submit.deployMode,client)\n",
      "(spark.master,local[*])\n",
      "(spark.app.id,local-1726511839025)\n"
     ]
    }
   ],
   "source": [
    "spark.conf.getAll.foreach(println)"
   ]
  },
  {
   "cell_type": "code",
   "execution_count": 34,
   "id": "f0041877-6448-4b9a-a8af-ba4daa629e62",
   "metadata": {},
   "outputs": [
    {
     "data": {
      "text/plain": [
       "10"
      ]
     },
     "execution_count": 34,
     "metadata": {},
     "output_type": "execute_result"
    }
   ],
   "source": [
    "spark.conf.get(\"spark.sql.shuffle.partitions\")"
   ]
  },
  {
   "cell_type": "code",
   "execution_count": 38,
   "id": "c088579d-f80f-45c4-b028-c88253de5d31",
   "metadata": {},
   "outputs": [
    {
     "data": {
      "text/plain": [
       "50"
      ]
     },
     "execution_count": 38,
     "metadata": {},
     "output_type": "execute_result"
    }
   ],
   "source": [
    "spark.conf.set(\"spark.sql.shuffle.partitions\", 50)\n",
    "spark.conf.get(\"spark.sql.shuffle.partitions\")"
   ]
  },
  {
   "cell_type": "code",
   "execution_count": 49,
   "id": "2986000c-462f-4af6-935e-4f8f2df22422",
   "metadata": {},
   "outputs": [
    {
     "data": {
      "text/plain": [
       "92"
      ]
     },
     "execution_count": 49,
     "metadata": {},
     "output_type": "execute_result"
    }
   ],
   "source": [
    "df_sales.persist(StorageLevel.DISK_ONLY)\n",
    "df_sales.count()"
   ]
  },
  {
   "cell_type": "code",
   "execution_count": 51,
   "id": "dc18e982-a556-43f9-b882-69eb5e9b582c",
   "metadata": {},
   "outputs": [
    {
     "data": {
      "text/plain": [
       "92"
      ]
     },
     "execution_count": 51,
     "metadata": {},
     "output_type": "execute_result"
    }
   ],
   "source": [
    "df_sales.cache()\n",
    "df_sales.count()"
   ]
  },
  {
   "cell_type": "code",
   "execution_count": 32,
   "id": "8dfb0bac-c9c2-4c84-9032-fd5b6b693395",
   "metadata": {},
   "outputs": [
    {
     "data": {
      "text/plain": [
       "55"
      ]
     },
     "execution_count": 32,
     "metadata": {},
     "output_type": "execute_result"
    }
   ],
   "source": [
    "df_sales.persist(StorageLevel.MEMORY_ONLY_SER)\n",
    "df_sales.count()"
   ]
  },
  {
   "cell_type": "code",
   "execution_count": 50,
   "id": "1dc37837-c4db-42a8-81a0-de5f815512ca",
   "metadata": {},
   "outputs": [
    {
     "data": {
      "text/plain": [
       "[product_name: string, quantity: string ... 2 more fields]"
      ]
     },
     "execution_count": 50,
     "metadata": {},
     "output_type": "execute_result"
    }
   ],
   "source": [
    "df_sales.unpersist()"
   ]
  },
  {
   "cell_type": "code",
   "execution_count": 39,
   "id": "340363bb-c4ef-4b2d-824c-35d8ffed85ac",
   "metadata": {},
   "outputs": [],
   "source": [
    "spark.stop"
   ]
  }
 ],
 "metadata": {
  "kernelspec": {
   "display_name": "Apache Toree - Scala",
   "language": "scala",
   "name": "apache_toree_scala"
  },
  "language_info": {
   "codemirror_mode": "text/x-scala",
   "file_extension": ".scala",
   "mimetype": "text/x-scala",
   "name": "scala",
   "pygments_lexer": "scala",
   "version": "2.12.15"
  }
 },
 "nbformat": 4,
 "nbformat_minor": 5
}
