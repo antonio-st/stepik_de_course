{
 "cells": [
  {
   "cell_type": "markdown",
   "id": "f1fda82d-d469-481f-a109-07815a42d8f1",
   "metadata": {},
   "source": [
    "`Кейс-классы` (case classes) в Scala предоставляют удобный способ работы с неизменяемыми данными. Они автоматически генерируют множество полезных методов, таких как equals, hashCode, toString, а также методы для работы с сопоставлением с образцом (pattern matching).\n",
    "Основные особенности кейс-классов:\n",
    "\n",
    "1. Неизменяемость (Immutability): Поля кейс-классов по умолчанию являются val, что делает их неизменяемыми. Это очень важно запомнить. Часто спрашивают на собеседованиях.\n",
    "2. Автоматическая генерация методов: Кейс-классы автоматически предоставляют методы equals, hashCode, toString, copy, и apply.\n",
    "3. Сопоставление с образцом (Pattern Matching): Кейс-классы поддерживают удобный синтаксис для сопоставления с образцом.\n",
    "4. Метод copy: Метод copy позволяет создавать копии объектов с изменением некоторых полей.\n"
   ]
  },
  {
   "cell_type": "code",
   "execution_count": 7,
   "id": "d5bd197f-42cb-4cfb-9461-9750831d88f0",
   "metadata": {},
   "outputs": [
    {
     "name": "stdout",
     "output_type": "stream",
     "text": [
      "Person(Alice,25)\n",
      "Person(Robert,38)\n"
     ]
    },
    {
     "data": {
      "text/plain": [
       "defined class Person\n",
       "alice = Person(Alice,25)\n",
       "robert = Person(Robert,38)\n"
      ]
     },
     "metadata": {},
     "output_type": "display_data",
     "source": "user"
    },
    {
     "data": {
      "text/plain": [
       "Person(Robert,38)"
      ]
     },
     "execution_count": 7,
     "metadata": {},
     "output_type": "execute_result"
    }
   ],
   "source": [
    "case class Person(name: String, age: Int)\n",
    "\n",
    "val alice: Person = Person(\"Alice\", 25)\n",
    "val robert: Person = Person(\"Robert\", 38)\n",
    "\n",
    "println(alice)\n",
    "println(robert)"
   ]
  },
  {
   "cell_type": "code",
   "execution_count": 25,
   "id": "fab1d6b4-794c-40d9-9a17-df3e2c55aff2",
   "metadata": {},
   "outputs": [
    {
     "name": "stdout",
     "output_type": "stream",
     "text": [
      "This is Lisa, 35 years old\n"
     ]
    },
    {
     "data": {
      "text/plain": [
       "defined class Person2\n",
       "lisa = Person2(Lisa,35)\n",
       "peter = Person2(Peter,38)\n"
      ]
     },
     "metadata": {},
     "output_type": "display_data",
     "source": "user"
    },
    {
     "data": {
      "text/plain": [
       "describe: (person: Person2)String\n"
      ]
     },
     "metadata": {},
     "output_type": "display_data",
     "source": "user"
    },
    {
     "data": {
      "text/plain": [
       "Person2(Peter,38)"
      ]
     },
     "execution_count": 25,
     "metadata": {},
     "output_type": "execute_result"
    }
   ],
   "source": [
    "/*\n",
    "\n",
    "    Метод describe принимает объект Person и использует сопоставление с образцом для различных случаев.\n",
    "    Кейс-классы упрощают использование сопоставления с образцом благодаря автоматически сгенерированному методу unapply.\n",
    "\n",
    "*/\n",
    "\n",
    "case class Person2(name: String, age: Int)\n",
    "\n",
    "def describe(person: Person2) = person match{\n",
    "    case Person2(\"Lisa\", age) => s\"This is Lisa, $age years old\"\n",
    "    case Person2(name, 38) => s\"This is $name, 38 years old\"\n",
    "    case Person2(name, age) => s\"This is $name, $age years old\"\n",
    "}\n",
    "\n",
    "val lisa: Person2 = Person2(\"Lisa\", 35)\n",
    "val peter: Person2 = Person2(\"Peter\", 38)\n",
    "\n",
    "println(describe(lisa))"
   ]
  },
  {
   "cell_type": "code",
   "execution_count": null,
   "id": "079a169e-f9df-4a5e-8618-5ded37c6e364",
   "metadata": {},
   "outputs": [],
   "source": []
  },
  {
   "cell_type": "markdown",
   "id": "1c674713-9094-4a48-a652-c580007d9769",
   "metadata": {},
   "source": [
    "`Трейты (traits) в Scala` — это особый тип классов, которые позволяют определять абстрактные и конкретные методы, а также могут содержать состояние (поля). Они похожи на интерфейсы в других языках программирования (например, Java), но обладают более широкими возможностями.\n",
    "\n",
    "В Scala класс может наследовать несколько трейтов. Это позволяет комбинировать поведение из разных источников. Трейты могут содержать как абстрактные (не реализованные) методы, так и конкретные (реализованные) методы."
   ]
  },
  {
   "cell_type": "code",
   "execution_count": 26,
   "id": "a3c9434a-bc91-4b51-afd0-5e37322fdcc7",
   "metadata": {},
   "outputs": [
    {
     "name": "stdout",
     "output_type": "stream",
     "text": [
      "My name is Alice\n",
      "Hello\n"
     ]
    },
    {
     "data": {
      "text/plain": [
       "defined trait Speaker\n",
       "defined trait Greeter\n",
       "defined class Personlity\n",
       "person = Personlity@12340cd8\n"
      ]
     },
     "metadata": {},
     "output_type": "display_data",
     "source": "user"
    },
    {
     "data": {
      "text/plain": [
       "Personlity@12340cd8"
      ]
     },
     "execution_count": 26,
     "metadata": {},
     "output_type": "execute_result"
    }
   ],
   "source": [
    "/*\n",
    "\n",
    "    trait Speaker определяет абстрактный метод speak, который должен быть реализован в классе, наследующем этот трейт.\n",
    "    trait Greeter определяет метод greet с конкретной реализацией, который может быть использован в классах, \n",
    "    наследующих этот трейт.\n",
    "    Класс Person наследует оба трейта и реализует метод speak.\n",
    "\n",
    "*/\n",
    "\n",
    "trait Speaker {\n",
    "    def speak(): String\n",
    "  }\n",
    "\n",
    "  trait Greeter {\n",
    "    def greet(): String = \"Hello\"\n",
    "  }\n",
    "\n",
    "  class Personlity(name: String) extends Speaker with Greeter {\n",
    "    def speak(): String = s\"My name is $name\"\n",
    "  }\n",
    "\n",
    "  val person = new Personlity(\"Alice\")\n",
    "\n",
    "  println(person.speak())\n",
    "  println(person.greet())"
   ]
  }
 ],
 "metadata": {
  "kernelspec": {
   "display_name": "Apache Toree - Scala",
   "language": "scala",
   "name": "apache_toree_scala"
  },
  "language_info": {
   "codemirror_mode": "text/x-scala",
   "file_extension": ".scala",
   "mimetype": "text/x-scala",
   "name": "scala",
   "pygments_lexer": "scala",
   "version": "2.12.15"
  }
 },
 "nbformat": 4,
 "nbformat_minor": 5
}
