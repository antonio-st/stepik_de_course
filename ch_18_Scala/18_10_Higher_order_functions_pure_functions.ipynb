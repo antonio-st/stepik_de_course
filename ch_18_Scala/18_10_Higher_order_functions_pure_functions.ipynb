{
 "cells": [
  {
   "cell_type": "markdown",
   "id": "2d750e0c-0144-4ad8-9e39-45e6346b3c3e",
   "metadata": {},
   "source": [
    "Функции высшего порядка (higher-order functions) — это функции, которые могут принимать другие функции в качестве параметров или возвращать функции в качестве результата. В Scala, как и в других функциональных языках программирования, функции высшего порядка являются ключевым элементом, который позволяет создавать более абстрактный, гибкий и модульный код.\n",
    "\n",
    "У функций высшего порядка две концепции использования, давайте разбираться.\n",
    "\n",
    "- Функция как параметр: Функция может принимать другую функцию в качестве аргумента.\n",
    "- Функция как результат: Функция может возвращать другую функцию.\n"
   ]
  },
  {
   "cell_type": "code",
   "execution_count": 4,
   "id": "e954c1b8-1ad4-43f5-9d39-4a4b9b6e1bf9",
   "metadata": {},
   "outputs": [
    {
     "name": "stdout",
     "output_type": "stream",
     "text": [
      "24\n",
      "128\n"
     ]
    },
    {
     "data": {
      "text/plain": [
       "applyOperation: (a: Int, b: Int, operation: (Int, Int) => Int)Int\n",
       "add = > Int = $Lambda$2176/0x0000000840cda040@2a123f69\n",
       "mult = > Int = $Lambda$2177/0x0000000840cdb040@4cf20595\n"
      ]
     },
     "metadata": {},
     "output_type": "display_data",
     "source": "user"
    },
    {
     "data": {
      "text/plain": [
       "> Int = $Lambda$2177/0x0000000840cdb040@4cf20595"
      ]
     },
     "execution_count": 4,
     "metadata": {},
     "output_type": "execute_result"
    }
   ],
   "source": [
    "/*\n",
    "    applyOperation принимает два числа и функцию operation, которая выполняет операцию над этими числами.\n",
    "    add и multiply — это функции, которые выполняют сложение и умножение соответственно.\n",
    "    Вызов applyOperation с разными функциями позволяет использовать одну и ту же логику для различных операций.\n",
    "\n",
    "*/\n",
    "def applyOperation(a: Int, b: Int, operation: (Int, Int) => Int): Int = {\n",
    "    operation(a, b)\n",
    "}\n",
    "\n",
    "val add = (x: Int, y: Int) => x + y\n",
    "val mult = (x: Int, y: Int) => x * y\n",
    "\n",
    "println(applyOperation(8, 16, add)) // 24\n",
    "println(applyOperation(8, 16, mult)) // 128"
   ]
  },
  {
   "cell_type": "code",
   "execution_count": 9,
   "id": "0fc1a209-a7e0-4863-9404-74b46fed7bab",
   "metadata": {},
   "outputs": [
    {
     "name": "stdout",
     "output_type": "stream",
     "text": [
      "10\n",
      "15\n"
     ]
    },
    {
     "data": {
      "text/plain": [
       "double = > Int = $Lambda$2259/0x0000000840d2e840@29fdf350\n",
       "triple = > Int = $Lambda$2259/0x0000000840d2e840@397fde61\n"
      ]
     },
     "metadata": {},
     "output_type": "display_data",
     "source": "user"
    },
    {
     "data": {
      "text/plain": [
       "multiplier: (factor: Int)Int => Int\n"
      ]
     },
     "metadata": {},
     "output_type": "display_data",
     "source": "user"
    },
    {
     "data": {
      "text/plain": [
       "> Int = $Lambda$2259/0x0000000840d2e840@397fde61"
      ]
     },
     "execution_count": 9,
     "metadata": {},
     "output_type": "execute_result"
    }
   ],
   "source": [
    "// Функция как результат\n",
    "\n",
    "/* \n",
    "    multiplier принимает число factor и возвращает функцию, которая умножает аргумент на этот factor.\n",
    "    double и triple — это функции, которые умножают свои аргументы на 2 и 3 соответственно.\n",
    "*/\n",
    "\n",
    "def multiplier(factor: Int): Int => Int = {\n",
    "    (x: Int) => x * factor\n",
    "}\n",
    "\n",
    "val double = multiplier(2)\n",
    "val triple = multiplier(3)\n",
    "\n",
    "println(double(5)) // 10\n",
    "println(triple(5)) // 15"
   ]
  },
  {
   "cell_type": "code",
   "execution_count": 11,
   "id": "5c21592d-5d69-4ebf-b465-9026faeb0c74",
   "metadata": {},
   "outputs": [
    {
     "name": "stdout",
     "output_type": "stream",
     "text": [
      "List(2, 4, 6)\n",
      "List(1, 3, 5)\n"
     ]
    },
    {
     "data": {
      "text/plain": [
       "filterList: (numbers: List[Int], condition: Int => Boolean)List\n",
       "evenNumbers = List(2, 4, 6)\n",
       "oddNumbers = List(1, 3, 5)\n"
      ]
     },
     "metadata": {},
     "output_type": "display_data",
     "source": "user"
    },
    {
     "data": {
      "text/plain": [
       "List(1, 3, 5)"
      ]
     },
     "execution_count": 11,
     "metadata": {},
     "output_type": "execute_result"
    }
   ],
   "source": [
    "// filterList принимает список чисел и функцию condition, которая определяет, \n",
    "// следует ли включать элемент в результирующий список.\n",
    "\n",
    "def filterList(numbers: List[Int], condition: Int => Boolean): List[Int] = {\n",
    "  numbers.filter(condition)\n",
    "}\n",
    "\n",
    "val evenNumbers = filterList(List(1, 2, 3, 4, 5, 6), x => x % 2 == 0)\n",
    "val oddNumbers = filterList(List(1, 2, 3, 4, 5, 6), x => x % 2 != 0)\n",
    "\n",
    "println(evenNumbers)  // List(2, 4, 6)\n",
    "println(oddNumbers)   // List(1, 3, 5)"
   ]
  },
  {
   "cell_type": "markdown",
   "id": "c706fc28-83af-41d0-aab5-3b32d1b89340",
   "metadata": {},
   "source": [
    "`Чистые функции` - что это? \n",
    "\n",
    "Чистые функции (pure functions) — это функции, которые обладают двумя основными свойствами:\n",
    "\n",
    "+ Детерминированность: При одних и тех же входных данных они всегда возвращают один и тот же результат.\n",
    "+ Отсутствие побочных эффектов: Они не изменяют состояние программы или внешние переменные и не зависят от изменений во внешнем состоянии.\n",
    "\n",
    "\n",
    "Чистые функции нужны для того, чтобы соблюсти несколько критериев:\n",
    "\n",
    "+ Предсказуемость: Легче предсказать результат функции.\n",
    "+ Тестируемость: Легче тестировать, так как результат зависит только от входных данных.\n",
    "+ Параллелизм: Легче выполнять в параллельных вычислениях, так как функции не зависят от внешнего состояния.\n",
    "\n"
   ]
  },
  {
   "cell_type": "code",
   "execution_count": null,
   "id": "61d302c2-7df2-48bc-a42f-6fe6c82c64e4",
   "metadata": {},
   "outputs": [],
   "source": [
    "// грязная функция\n",
    "var counter = 0\n",
    "\n",
    "def incrementAndGet(): Int = {\n",
    "  counter += 1\n",
    "  counter\n",
    "}\n",
    "\n",
    "\n",
    "// чистая функция\n",
    "def square(x: Int): Int = {\n",
    "  x * x\n",
    "}"
   ]
  },
  {
   "cell_type": "markdown",
   "id": "5ae819c3-2e0e-43a8-a823-2045547f30eb",
   "metadata": {},
   "source": [
    "__`Задания`__"
   ]
  },
  {
   "cell_type": "code",
   "execution_count": 12,
   "id": "b158a657-9577-47bf-ad6c-2f0cbbe4d045",
   "metadata": {},
   "outputs": [
    {
     "name": "stdout",
     "output_type": "stream",
     "text": [
      "12\n"
     ]
    },
    {
     "data": {
      "text/plain": [
       "double = > Int = $Lambda$2299/0x0000000840d56840@3326f445\n",
       "result = 12\n"
      ]
     },
     "metadata": {},
     "output_type": "display_data",
     "source": "user"
    },
    {
     "data": {
      "text/plain": [
       "applyTwice: (f: Int => Int, x: Int)Int\n"
      ]
     },
     "metadata": {},
     "output_type": "display_data",
     "source": "user"
    },
    {
     "data": {
      "text/plain": [
       "12"
      ]
     },
     "execution_count": 12,
     "metadata": {},
     "output_type": "execute_result"
    }
   ],
   "source": [
    "// Функция applyTwice применяет функцию double дважды к числу 3:\n",
    "// сначала 3 * 2 = 6, затем 6 * 2 = 12.\n",
    "def applyTwice(f: Int => Int, x: Int): Int = f(f(x))\n",
    "val double = (x: Int) => x * 2\n",
    "val result = applyTwice(double, 3)\n",
    "println(result)"
   ]
  },
  {
   "cell_type": "code",
   "execution_count": 17,
   "id": "442ee0db-84f1-4bfb-8a5d-90e34454f39e",
   "metadata": {},
   "outputs": [
    {
     "name": "stdout",
     "output_type": "stream",
     "text": [
      "List(23, 17, 27)\n"
     ]
    },
    {
     "data": {
      "text/plain": [
       "filterList: (numbers: List[Int], predicate: Int => Boolean)List\n",
       "input = null\n",
       "numbers = List(23, 14, 12, 17, 27)\n",
       "operator = >=\n",
       "value = 16\n",
       "predicate = > Boolean = $Lambda$2461/0x0000000840def840@5358e228\n",
       "filteredNumbers = List(23, 17, 27)\n"
      ]
     },
     "metadata": {},
     "output_type": "display_data",
     "source": "user"
    },
    {
     "data": {
      "text/plain": [
       "List(23, 17, 27)"
      ]
     },
     "execution_count": 17,
     "metadata": {},
     "output_type": "execute_result"
    }
   ],
   "source": [
    "/*\n",
    "    Напишите функцию высшего порядка filterList, которая принимает список целых чисел и функцию предиката \n",
    "    (функцию, которая возвращает Boolean).\n",
    "    Функция filterList должна возвращать новый список, содержащий только те элементы, \n",
    "    для которых предикат возвращает true.\n",
    "*/\n",
    "\n",
    "def filterList(numbers: List[Int], predicate: Int => Boolean): List[Int] = {\n",
    "    numbers.filter(predicate)\n",
    "  }\n",
    "\n",
    "\n",
    "\n",
    "      val input = scala.io.StdIn.readLine()\n",
    "      // Разделение строки на список чисел\n",
    "      // val numbers = input.split(\",\").map(_.trim.toInt).toList\n",
    "      val numbers = List(23, 14, 12, 17, 27)\n",
    "\n",
    "      // val operator = scala.io.StdIn.readLine()\n",
    "       val operator = \">=\"\n",
    "      // val value = scala.io.StdIn.readLine().toInt\n",
    "      val value = 16\n",
    "\n",
    "      val predicate: Int => Boolean = operator match {\n",
    "        case \">\"  => (x: Int) => x > value\n",
    "        case \">=\"  => (x: Int) => x > value\n",
    "        case \"<\"  => (x: Int) => x < value\n",
    "        case \"<=\"  => (x: Int) => x < value\n",
    "        case \"==\" => (x: Int) => x == value\n",
    "      }\n",
    "\n",
    "      val filteredNumbers = filterList(numbers, predicate)\n",
    "      println(filteredNumbers)\n",
    "    "
   ]
  }
 ],
 "metadata": {
  "kernelspec": {
   "display_name": "Apache Toree - Scala",
   "language": "scala",
   "name": "apache_toree_scala"
  },
  "language_info": {
   "codemirror_mode": "text/x-scala",
   "file_extension": ".scala",
   "mimetype": "text/x-scala",
   "name": "scala",
   "pygments_lexer": "scala",
   "version": "2.12.15"
  }
 },
 "nbformat": 4,
 "nbformat_minor": 5
}
