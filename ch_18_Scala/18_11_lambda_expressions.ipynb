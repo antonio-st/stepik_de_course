{
 "cells": [
  {
   "cell_type": "markdown",
   "id": "3ad8d0d2-f39c-429a-8ad3-2f8b79e36162",
   "metadata": {},
   "source": [
    "`Анонимные функции` (или lambda expressions) — это функции, которые не имеют имени и определяются в месте их использования. Они особенно полезны для краткости и удобства, когда Вам нужно передать простую функцию в качестве параметра или использовать её в выражении."
   ]
  },
  {
   "cell_type": "code",
   "execution_count": 4,
   "id": "552586d5-77fb-4f34-9500-bd7b03b7d978",
   "metadata": {},
   "outputs": [
    {
     "data": {
      "text/plain": [
       "add = > Int = $Lambda$2083/0x0000000840c7d840@407876a0\n"
      ]
     },
     "metadata": {},
     "output_type": "display_data",
     "source": "user"
    },
    {
     "data": {
      "text/plain": [
       "80"
      ]
     },
     "execution_count": 4,
     "metadata": {},
     "output_type": "execute_result"
    }
   ],
   "source": [
    "val add = (x: Int, y: Int) => (x * y) * 2\n",
    "add(5, 8)"
   ]
  },
  {
   "cell_type": "code",
   "execution_count": 5,
   "id": "fec87831-850a-49f2-b1f3-0188f2970931",
   "metadata": {},
   "outputs": [
    {
     "name": "stdout",
     "output_type": "stream",
     "text": [
      "List(2, 4, 6, 8, 10)\n"
     ]
    },
    {
     "data": {
      "text/plain": [
       "numbers = List(1, 2, 3, 4, 5)\n",
       "doubled = List(2, 4, 6, 8, 10)\n"
      ]
     },
     "metadata": {},
     "output_type": "display_data",
     "source": "user"
    },
    {
     "data": {
      "text/plain": [
       "List(2, 4, 6, 8, 10)"
      ]
     },
     "execution_count": 5,
     "metadata": {},
     "output_type": "execute_result"
    }
   ],
   "source": [
    "// Применение анонимной функции к каждому элементу списка:\n",
    "val numbers = List(1, 2, 3, 4, 5)\n",
    "val doubled = numbers.map(x => x * 2)\n",
    "println(doubled)  // List(2, 4, 6, 8, 10)"
   ]
  },
  {
   "cell_type": "code",
   "execution_count": 7,
   "id": "faea0d8c-ed2b-46ee-ad14-d65fcf5b486f",
   "metadata": {},
   "outputs": [
    {
     "data": {
      "text/plain": [
       "doubled = List(2, 4, 6, 8, 10)\n"
      ]
     },
     "metadata": {},
     "output_type": "display_data",
     "source": "user"
    },
    {
     "data": {
      "text/plain": [
       "List(2, 4, 6, 8, 10)"
      ]
     },
     "execution_count": 7,
     "metadata": {},
     "output_type": "execute_result"
    }
   ],
   "source": [
    "// полная версия синтаксиса\n",
    "val doubled = numbers.map( (x: Int) => {x * 2} )"
   ]
  },
  {
   "cell_type": "code",
   "execution_count": 8,
   "id": "b2cf618a-b793-4d5a-a102-335341cc4484",
   "metadata": {},
   "outputs": [
    {
     "data": {
      "text/plain": [
       "doubled = List(2, 4, 6, 8, 10)\n"
      ]
     },
     "metadata": {},
     "output_type": "display_data",
     "source": "user"
    },
    {
     "data": {
      "text/plain": [
       "List(2, 4, 6, 8, 10)"
      ]
     },
     "execution_count": 8,
     "metadata": {},
     "output_type": "execute_result"
    }
   ],
   "source": [
    "// сокращенная версия синтаксиса\n",
    "val doubled = numbers.map(_ * 2)"
   ]
  },
  {
   "cell_type": "code",
   "execution_count": 16,
   "id": "15ae354c-383a-4e2b-94c6-a4edfd9aed37",
   "metadata": {},
   "outputs": [
    {
     "name": "stdout",
     "output_type": "stream",
     "text": [
      "35\n"
     ]
    },
    {
     "data": {
      "text/plain": [
       "numbers = List(1, 2, 3, 4, 5)\n",
       "result = 35\n"
      ]
     },
     "metadata": {},
     "output_type": "display_data",
     "source": "user"
    },
    {
     "data": {
      "text/plain": [
       "35"
      ]
     },
     "execution_count": 16,
     "metadata": {},
     "output_type": "execute_result"
    }
   ],
   "source": [
    "val numbers = List(1, 2, 3, 4, 5)\n",
    "\n",
    "val result = numbers\n",
    "  .filter(_ % 2 == 1)        // Оставляем только нечётные числа (1, 3, 5)\n",
    "  .map(x => x * x)           // Возводим их в квадрат (1, 9, 25)\n",
    "  .reduce((x, y) => x + y)   // Складываем квадраты (35)\n",
    "\n",
    "println(result) "
   ]
  },
  {
   "cell_type": "code",
   "execution_count": null,
   "id": "fc461982-0d7a-4198-97b5-f67fbf94d52a",
   "metadata": {},
   "outputs": [],
   "source": [
    "// val addOne = _ + 1"
   ]
  }
 ],
 "metadata": {
  "kernelspec": {
   "display_name": "Apache Toree - Scala",
   "language": "scala",
   "name": "apache_toree_scala"
  },
  "language_info": {
   "codemirror_mode": "text/x-scala",
   "file_extension": ".scala",
   "mimetype": "text/x-scala",
   "name": "scala",
   "pygments_lexer": "scala",
   "version": "2.12.15"
  }
 },
 "nbformat": 4,
 "nbformat_minor": 5
}
