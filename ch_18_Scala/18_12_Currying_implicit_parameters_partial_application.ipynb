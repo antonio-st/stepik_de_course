{
 "cells": [
  {
   "cell_type": "markdown",
   "id": "a9958e9d-01ff-4e66-97ee-4d60c13b0835",
   "metadata": {},
   "source": [
    "__`Каррирование (Currying)`__ — это процесс преобразования функции, которая принимает несколько аргументов, в цепочку функций, каждая из которых принимает один аргумент. В результате получается серия вложенных функций, каждая из которых принимает один аргумент и возвращает новую функцию, принимающую следующий аргумент."
   ]
  },
  {
   "cell_type": "code",
   "execution_count": 4,
   "id": "aedc12a3-695e-4643-9ea2-95501097c112",
   "metadata": {},
   "outputs": [
    {
     "data": {
      "text/plain": [
       "multiply: (x: Int)(y: Int)Int\n"
      ]
     },
     "metadata": {},
     "output_type": "display_data",
     "source": "user"
    },
    {
     "data": {
      "text/plain": [
       "10"
      ]
     },
     "execution_count": 4,
     "metadata": {},
     "output_type": "execute_result"
    }
   ],
   "source": [
    "def multiply(x: Int)(y: Int): Int = x * y\n",
    "multiply(2)(5)"
   ]
  },
  {
   "cell_type": "code",
   "execution_count": 5,
   "id": "ce6d516e-1cee-4ae0-8ccc-fffbbc57e529",
   "metadata": {},
   "outputs": [
    {
     "data": {
      "text/plain": [
       "multiplyBy2 = > Int = $Lambda$2086/0x0000000840c7a040@4e16ffff\n"
      ]
     },
     "metadata": {},
     "output_type": "display_data",
     "source": "user"
    },
    {
     "name": "stdout",
     "output_type": "stream",
     "text": [
      "10\n"
     ]
    },
    {
     "data": {
      "text/plain": [
       "> Int = $Lambda$2086/0x0000000840c7a040@4e16ffff"
      ]
     },
     "execution_count": 5,
     "metadata": {},
     "output_type": "execute_result"
    }
   ],
   "source": [
    "/* \n",
    "    def multiply(x: Int)(y: Int): Int — каррированная функция для умножения двух чисел.\n",
    "    multiply(2) возвращает функцию Int => Int, которая умножает аргумент на 2.\n",
    "    multiplyBy2(5) вызывает эту функцию с аргументом 5, результатом чего является 10.\n",
    "    Аналогично, multiplyBy3(5) возвращает 15.\n",
    "*/\n",
    "val multiplyBy2 = multiply(2) _\n",
    "println(multiplyBy2(5))"
   ]
  },
  {
   "cell_type": "code",
   "execution_count": 6,
   "id": "df31396b-5c55-41dd-99e0-232975b4d33f",
   "metadata": {},
   "outputs": [
    {
     "name": "stdout",
     "output_type": "stream",
     "text": [
      "15\n"
     ]
    },
    {
     "data": {
      "text/plain": [
       "multiplyBy3 = > Int = $Lambda$2092/0x0000000840c7f040@4b351d87\n"
      ]
     },
     "metadata": {},
     "output_type": "display_data",
     "source": "user"
    },
    {
     "data": {
      "text/plain": [
       "> Int = $Lambda$2092/0x0000000840c7f040@4b351d87"
      ]
     },
     "execution_count": 6,
     "metadata": {},
     "output_type": "execute_result"
    }
   ],
   "source": [
    "val multiplyBy3 = multiply(3) _\n",
    "println(multiplyBy3(5))"
   ]
  },
  {
   "cell_type": "code",
   "execution_count": 5,
   "id": "ee0737c1-bcb1-49d4-86f6-28fd0b61015d",
   "metadata": {},
   "outputs": [
    {
     "name": "stdout",
     "output_type": "stream",
     "text": [
      "[Hello]\n",
      "{Hello}\n"
     ]
    },
    {
     "data": {
      "text/plain": [
       "formatWithBrackets = > String = $Lambda$2104/0x0000000840ac8840@6ef61ea9\n",
       "formatWithCurlyBraces = > String = $Lambda$2105/0x000000084082b040@6db5d75e\n"
      ]
     },
     "metadata": {},
     "output_type": "display_data",
     "source": "user"
    },
    {
     "data": {
      "text/plain": [
       "formatString: (prefix: String)(body: String)(suffix: String)String\n"
      ]
     },
     "metadata": {},
     "output_type": "display_data",
     "source": "user"
    },
    {
     "data": {
      "text/plain": [
       "> String = $Lambda$2105/0x000000084082b040@6db5d75e"
      ]
     },
     "execution_count": 5,
     "metadata": {},
     "output_type": "execute_result"
    }
   ],
   "source": [
    "def formatString(prefix: String)(body: String)(suffix: String): String = {\n",
    "  s\"$prefix$body$suffix\"\n",
    "}\n",
    "\n",
    "val formatWithBrackets = formatString(\"[\")(_ :String)(\"]\")\n",
    "println(formatWithBrackets(\"Hello\"))  // [Hello]\n",
    "\n",
    "val formatWithCurlyBraces = formatString(\"{\")(_ :String)(\"}\")\n",
    "println(formatWithCurlyBraces(\"Hello\"))  // {Hello}"
   ]
  },
  {
   "cell_type": "code",
   "execution_count": 1,
   "id": "ae88cd90-98ab-4ae6-82fa-16623cc45532",
   "metadata": {},
   "outputs": [
    {
     "name": "stdout",
     "output_type": "stream",
     "text": [
      "List(2, 4, 6, 8, 10)\n",
      "List(1, 3, 5, 7, 9)\n"
     ]
    },
    {
     "data": {
      "text/plain": [
       "isEven = > Boolean = $Lambda$2025/0x0000000840c5a040@6ed07a19\n",
       "isOdd = > Boolean = $Lambda$2026/0x0000000840c5a840@4c43803\n",
       "numbers = List(1, 2, 3, 4, 5, 6, 7, 8, 9, 10)\n",
       "evenNumbers = List(2, 4, 6, 8, 10)\n",
       "oddNumbers = List(1, 3, 5, 7, 9)\n"
      ]
     },
     "metadata": {},
     "output_type": "display_data",
     "source": "user"
    },
    {
     "data": {
      "text/plain": [
       "isDivisibleBy: (divisor: Int)(number: Int)Boolean\n"
      ]
     },
     "metadata": {},
     "output_type": "display_data",
     "source": "user"
    },
    {
     "data": {
      "text/plain": [
       "List(1, 3, 5, 7, 9)"
      ]
     },
     "execution_count": 1,
     "metadata": {},
     "output_type": "execute_result"
    }
   ],
   "source": [
    "/* Использование каррированной функции для создания фильтров. \n",
    "\n",
    "    def isDivisibleBy(divisor: Int)(number: Int): Boolean — каррированная функция, которая проверяет делимость числа.\n",
    "    isDivisibleBy(2) возвращает функцию Int => Boolean, которая проверяет, является ли число четным.\n",
    "    isEven используется для фильтрации четных чисел из списка.\n",
    "    isOdd определяется как отрицание isEven и используется для фильтрации нечетных чисел.\n",
    "*/\n",
    "\n",
    "def isDivisibleBy(divisor: Int)(number: Int): Boolean = number % divisor == 0\n",
    "\n",
    "val isEven = isDivisibleBy(2) _\n",
    "val isOdd = (x: Int) => !isEven(x)\n",
    "\n",
    "val numbers = List(1, 2, 3, 4, 5, 6, 7, 8, 9, 10)\n",
    "\n",
    "val evenNumbers = numbers.filter(isEven)\n",
    "val oddNumbers = numbers.filter(isOdd)\n",
    "\n",
    "println(evenNumbers)  // List(2, 4, 6, 8, 10)\n",
    "println(oddNumbers)   // List(1, 3, 5, 7, 9)"
   ]
  },
  {
   "cell_type": "markdown",
   "id": "a89e2345-9e15-4b53-b600-30d1a559da32",
   "metadata": {},
   "source": [
    "__`Частичное применение функций`__ (Partial Function Application) — это процесс создания новой функции, путем фиксирования некоторых аргументов исходной функции. В результате получается функция, которая принимает оставшиеся аргументы."
   ]
  },
  {
   "cell_type": "code",
   "execution_count": 11,
   "id": "9b136e1a-ced0-4f20-a843-5c8ceef7e5ea",
   "metadata": {},
   "outputs": [
    {
     "data": {
      "text/plain": [
       "addTwo = > Int = $Lambda$2274/0x0000000840d1c040@6bf3cb5c\n"
      ]
     },
     "metadata": {},
     "output_type": "display_data",
     "source": "user"
    },
    {
     "data": {
      "text/plain": [
       "add: (x: Int, y: Int, z: Int)Int\n"
      ]
     },
     "metadata": {},
     "output_type": "display_data",
     "source": "user"
    },
    {
     "data": {
      "text/plain": [
       "14"
      ]
     },
     "execution_count": 11,
     "metadata": {},
     "output_type": "execute_result"
    }
   ],
   "source": [
    "/*\n",
    "    add(2, _: Int, _: Int) создаёт новую функцию addTwo, которая фиксирует первый аргумент x как 2.\n",
    "    addTwo ожидает два оставшихся аргумента и возвращает их сумму с 2.\n",
    "*/\n",
    "\n",
    "def add(x: Int, y: Int, z: Int): Int = x + y + z\n",
    "\n",
    "val addTwo = add(2, _:Int, _: Int)\n",
    "addTwo(4, 8)"
   ]
  },
  {
   "cell_type": "code",
   "execution_count": 12,
   "id": "e8b28b16-0415-43cf-ba50-aec5cb39a2a6",
   "metadata": {},
   "outputs": [
    {
     "name": "stdout",
     "output_type": "stream",
     "text": [
      "[INFO] This is an info message\n",
      "[WARN] This is a warning message\n",
      "[ERROR] This is an error message\n"
     ]
    },
    {
     "data": {
      "text/plain": [
       "info = > Unit = $Lambda$2279/0x0000000840d1f840@26afddac\n",
       "warn = > Unit = $Lambda$2280/0x0000000840d28040@109d2b46\n",
       "error = > Unit = $Lambda$2281/0x0000000840d28840@235c572a\n"
      ]
     },
     "metadata": {},
     "output_type": "display_data",
     "source": "user"
    },
    {
     "data": {
      "text/plain": [
       "log: (level: String, message: String)Unit\n"
      ]
     },
     "metadata": {},
     "output_type": "display_data",
     "source": "user"
    },
    {
     "data": {
      "text/plain": [
       "> Unit = $Lambda$2281/0x0000000840d28840@235c572a"
      ]
     },
     "execution_count": 12,
     "metadata": {},
     "output_type": "execute_result"
    }
   ],
   "source": [
    "/*\n",
    "    log(\"INFO\", _: String), log(\"WARN\", _: String), и log(\"ERROR\", _: String) создают новые функции \n",
    "    info, warn, и error, которые фиксируют уровень логирования.\n",
    "    Эти функции могут быть вызваны с одним аргументом message.\n",
    "*/\n",
    "\n",
    "def log(level: String, message: String): Unit = {\n",
    "  println(s\"[$level] $message\")\n",
    "}\n",
    "\n",
    "val info = log(\"INFO\", _: String)\n",
    "val warn = log(\"WARN\", _: String)\n",
    "val error = log(\"ERROR\", _: String)\n",
    "\n",
    "info(\"This is an info message\")  // [INFO] This is an info message\n",
    "warn(\"This is a warning message\")  // [WARN] This is a warning message\n",
    "error(\"This is an error message\")  // [ERROR] This is an error message"
   ]
  },
  {
   "cell_type": "code",
   "execution_count": 18,
   "id": "e7649ae7-3496-4006-9e07-f2c4b6f9434b",
   "metadata": {},
   "outputs": [
    {
     "data": {
      "text/plain": [
       "multiplyBy3 = > Int = $Lambda$2307/0x0000000840d3d040@660b9b24\n"
      ]
     },
     "metadata": {},
     "output_type": "display_data",
     "source": "user"
    },
    {
     "data": {
      "text/plain": [
       "multiply: (x: Int)(y: Int)Int\n"
      ]
     },
     "metadata": {},
     "output_type": "display_data",
     "source": "user"
    },
    {
     "name": "stdout",
     "output_type": "stream",
     "text": [
      "30\n"
     ]
    },
    {
     "data": {
      "text/plain": [
       "> Int = $Lambda$2307/0x0000000840d3d040@660b9b24"
      ]
     },
     "execution_count": 18,
     "metadata": {},
     "output_type": "execute_result"
    }
   ],
   "source": [
    "/*\n",
    "    multiply(3) _ создаёт функцию multiplyBy3, фиксируя первый аргумент как 3.\n",
    "    multiplyBy3 ожидает один оставшийся аргумент и умножает его на 3.\n",
    "*/\n",
    "\n",
    "def multiply(x: Int)(y: Int): Int = x * y\n",
    "\n",
    "val multiplyBy3 = multiply(3) _\n",
    "\n",
    "println(multiplyBy3(10))  // 30"
   ]
  },
  {
   "cell_type": "markdown",
   "id": "37c4f83b-d790-44b9-ac1e-df0154c0eb31",
   "metadata": {},
   "source": [
    "```Неявные параметры (implicit parameters)``` в Scala — это параметры, которые могут быть пропущены при вызове функции или метода, если для них имеется подходящее неявное значение в текущем контексте. Механизм неявных параметров позволяет сделать код более кратким и выразительным, скрывая детали, которые не нужно указывать явно каждый раз.\n",
    "\n",
    "+ Неявные параметры: Параметры, которые помечены ключевым словом implicit и могут быть автоматически предоставлены компилятором.\n",
    "+ Неявные значения: Значения, которые помечены ключевым словом implicit и могут быть использованы для неявных параметров.\n",
    "+ Неявные преобразования: Преобразования типов, которые компилятор может выполнять автоматически, если они объявлены как неявные.\n"
   ]
  },
  {
   "cell_type": "code",
   "execution_count": 2,
   "id": "033e05c2-2ac6-48c3-ad08-8779b2a5fdcf",
   "metadata": {},
   "outputs": [
    {
     "name": "stdout",
     "output_type": "stream",
     "text": [
      "Hello, Alice\n"
     ]
    },
    {
     "data": {
      "text/plain": [
       "defaultGreeting = Hello\n"
      ]
     },
     "metadata": {},
     "output_type": "display_data",
     "source": "user"
    },
    {
     "data": {
      "text/plain": [
       "greet: (name: String)(implicit greeting: String)String\n"
      ]
     },
     "metadata": {},
     "output_type": "display_data",
     "source": "user"
    },
    {
     "data": {
      "text/plain": [
       "Hello"
      ]
     },
     "execution_count": 2,
     "metadata": {},
     "output_type": "execute_result"
    }
   ],
   "source": [
    "/*\n",
    "    Функция greet принимает два параметра: name и неявный параметр greeting.\n",
    "    Неявное значение defaultGreeting будет использоваться, если при вызове функции greet явно не указано значение для greeting.\n",
    "    При вызове greet(\"Alice\") компилятор автоматически подставляет defaultGreeting в качестве значения для greeting.\n",
    "*/\n",
    "\n",
    "def greet(name: String)(implicit greeting: String): String = {\n",
    "  s\"$greeting, $name\"\n",
    "}\n",
    "\n",
    "implicit val defaultGreeting: String = \"Hello\"\n",
    "\n",
    "println(greet(\"Alice\"))  // Hello, Alice"
   ]
  },
  {
   "cell_type": "code",
   "execution_count": 2,
   "id": "55d3a807-96fa-4643-8c79-91b950a8a38c",
   "metadata": {},
   "outputs": [
    {
     "data": {
      "text/plain": [
       "warning: one feature warning; for details, enable `:setting -feature' or `:replay -feature'\n",
       "intToString: (x: Int)String\n",
       "printString: (s: String)Unit\n"
      ]
     },
     "metadata": {},
     "output_type": "display_data",
     "source": "user"
    },
    {
     "name": "stdout",
     "output_type": "stream",
     "text": [
      "123\n"
     ]
    }
   ],
   "source": [
    "/*\n",
    "\n",
    "    Неявное преобразование intToString определяет, как преобразовать Int в String.\n",
    "    При вызове printString(123) компилятор автоматически применяет неявное преобразование intToString.\n",
    "*/\n",
    "\n",
    "implicit def intToString(x: Int): String = x.toString\n",
    "\n",
    "def printString(s: String): Unit = {\n",
    "  println(s)\n",
    "}\n",
    "\n",
    "printString(123)  // \"123\"\n",
    "\n"
   ]
  },
  {
   "cell_type": "code",
   "execution_count": 7,
   "id": "75a02941-c1a1-49ce-a696-383df5ce9154",
   "metadata": {},
   "outputs": [
    {
     "data": {
      "text/plain": [
       "defined class Sqr\n",
       "myInt = 8\n",
       "myIncrementedInt = 64\n"
      ]
     },
     "metadata": {},
     "output_type": "display_data",
     "source": "user"
    },
    {
     "data": {
      "text/plain": [
       "64"
      ]
     },
     "execution_count": 7,
     "metadata": {},
     "output_type": "execute_result"
    }
   ],
   "source": [
    "/* Мы можем определять неявные классы, которые добавляют дополнительные методы к\n",
    "существующим классам. Например, мы можем определить неявный класс, который\n",
    "добавляет метод sqrNum к типу Int:\n",
    "*/ \n",
    "implicit class Sqr(x: Int) {\n",
    "def sqrNum: Int = x * x\n",
    "}\n",
    "val myInt: Int = 8\n",
    "val myIncrementedInt = myInt.sqrNum"
   ]
  }
 ],
 "metadata": {
  "kernelspec": {
   "display_name": "Apache Toree - Scala",
   "language": "scala",
   "name": "apache_toree_scala"
  },
  "language_info": {
   "codemirror_mode": "text/x-scala",
   "file_extension": ".scala",
   "mimetype": "text/x-scala",
   "name": "scala",
   "pygments_lexer": "scala",
   "version": "2.12.15"
  }
 },
 "nbformat": 4,
 "nbformat_minor": 5
}
