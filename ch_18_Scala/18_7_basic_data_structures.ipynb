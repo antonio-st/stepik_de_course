{
 "cells": [
  {
   "cell_type": "markdown",
   "id": "c4e319fa-5795-4aeb-bad0-fec630f1392b",
   "metadata": {},
   "source": [
    "### List\n",
    "\n",
    "List — это неизменяемая коллекция элементов одного типа. Она реализована как односвязный список, что означает, что добавление элементов происходит быстро в начало списка, но доступ к элементам по индексу и добавление в конец могут быть менее эффективными."
   ]
  },
  {
   "cell_type": "code",
   "execution_count": 3,
   "id": "0b480628-61e5-435c-8ee2-814bd4f7635d",
   "metadata": {},
   "outputs": [
    {
     "data": {
      "text/plain": [
       "numbers = List(1, 2, 3, 4, 5, 6, 7, 8, 9)\n"
      ]
     },
     "metadata": {},
     "output_type": "display_data",
     "source": "user"
    },
    {
     "data": {
      "text/plain": [
       "List(1, 2, 3, 4, 5, 6, 7, 8, 9)"
      ]
     },
     "execution_count": 3,
     "metadata": {},
     "output_type": "execute_result"
    }
   ],
   "source": [
    "val numbers: List[Int] = List.range(1, 10)"
   ]
  },
  {
   "cell_type": "code",
   "execution_count": 4,
   "id": "270b079a-3336-4c2b-b642-6fc6db11fdcb",
   "metadata": {},
   "outputs": [
    {
     "data": {
      "text/plain": [
       "List(2, 4, 6, 8, 10, 12, 14, 16, 18)"
      ]
     },
     "execution_count": 4,
     "metadata": {},
     "output_type": "execute_result"
    }
   ],
   "source": [
    "// Преобразование элементов\n",
    "numbers.map(x => x * 2)"
   ]
  },
  {
   "cell_type": "code",
   "execution_count": 5,
   "id": "0c2e52c0-7c38-475f-9357-09a9f4793b59",
   "metadata": {},
   "outputs": [
    {
     "data": {
      "text/plain": [
       "List(2, 4, 6, 8)"
      ]
     },
     "execution_count": 5,
     "metadata": {},
     "output_type": "execute_result"
    }
   ],
   "source": [
    "// фильтрация\n",
    "numbers.filter(x => x % 2 == 0)"
   ]
  },
  {
   "cell_type": "code",
   "execution_count": 25,
   "id": "650083a4-e57c-4091-b028-99733df8ebf9",
   "metadata": {},
   "outputs": [
    {
     "data": {
      "text/plain": [
       "numbers2 = List(1, 2, 3, 4, 5, 6, 7, 8, 9, 10, 11, 12, 13, 14, 15, 16, 17, 18, 19, 20, 21, 22, 23, 24, 25, 26, 27, 28, 29, 30, 31, 32, 33, 34, 35, 36, 37, 38, 39, 40, 41, 42, 43, 44, 45, 46, 47, 48, 49)\n",
       "numbers2_app = List(1, 2, 3, 4, 5, 6, 7, 8, 9, 10, 11, 12, 13, 14, 15, 16, 17, 18, 19, 20, 21, 22, 23, 24, 25, 26, 27, 28, 29, 30, 31, 32, 33, 34, 35, 36, 37, 38, 39, 40, 41, 42, 43, 44, 45, 46, 47, 48, 49, 0)\n"
      ]
     },
     "metadata": {},
     "output_type": "display_data",
     "source": "user"
    },
    {
     "data": {
      "text/plain": [
       "List(1, 2, 3, 4, 5, 6, 7, 8, 9, 10, 11, 12, 13, 14, 15, 16, 17, 18, 19, 20, 21, 22, 23, 24, 25, 26, 27, 28, 29, 30, 31, 32, 33, 34, 35, 36, 37, 38, 39, 40, 41, 42, 43, 44, 45, 46, 47, 48, 49, 0)"
      ]
     },
     "execution_count": 25,
     "metadata": {},
     "output_type": "execute_result"
    }
   ],
   "source": [
    "val numbers2 = List.range(1, 50)\n",
    "val numbers2_app = numbers2 :+ 0\n",
    "numbers2_app"
   ]
  },
  {
   "cell_type": "code",
   "execution_count": 13,
   "id": "ede70aef-dad9-4bd6-b84b-cbca325510e0",
   "metadata": {},
   "outputs": [
    {
     "data": {
      "text/plain": [
       "List(0, 1, 2, 3, 4, 5, 6, 7, 8, 9)"
      ]
     },
     "execution_count": 13,
     "metadata": {},
     "output_type": "execute_result"
    }
   ],
   "source": [
    "0 +: numbers"
   ]
  },
  {
   "cell_type": "code",
   "execution_count": 14,
   "id": "d1e6e07a-084d-4831-ae8b-377ea9d348a8",
   "metadata": {},
   "outputs": [
    {
     "data": {
      "text/plain": [
       "List(0, 1, 2, 3, 4, 5, 6, 7, 8, 9)"
      ]
     },
     "execution_count": 14,
     "metadata": {},
     "output_type": "execute_result"
    }
   ],
   "source": [
    "0 :: numbers"
   ]
  },
  {
   "cell_type": "code",
   "execution_count": 35,
   "id": "aa9a21d5-7177-422b-b597-562fc71fa639",
   "metadata": {},
   "outputs": [
    {
     "data": {
      "text/plain": [
       "shoppingList = List(Молоко, Хлеб, Яблоки)\n"
      ]
     },
     "metadata": {},
     "output_type": "display_data",
     "source": "user"
    },
    {
     "data": {
      "text/plain": [
       "List(Молоко, Хлеб, Яблоки)"
      ]
     },
     "execution_count": 35,
     "metadata": {},
     "output_type": "execute_result"
    }
   ],
   "source": [
    "var shoppingList = List(\"Молоко\", \"Хлеб\", \"Яблоки\")"
   ]
  },
  {
   "cell_type": "code",
   "execution_count": 36,
   "id": "72a4dd2c-c933-4f56-a1c3-e12f69880093",
   "metadata": {},
   "outputs": [
    {
     "data": {
      "text/plain": [
       "shoppingList = List(Сыр, Молоко, Хлеб, Яблоки)\n"
      ]
     },
     "metadata": {},
     "output_type": "display_data",
     "source": "user"
    },
    {
     "data": {
      "text/plain": [
       "List(Сыр, Молоко, Хлеб, Яблоки)"
      ]
     },
     "execution_count": 36,
     "metadata": {},
     "output_type": "execute_result"
    }
   ],
   "source": [
    "shoppingList = \"Сыр\"+: shoppingList"
   ]
  },
  {
   "cell_type": "code",
   "execution_count": null,
   "id": "2b22372f-7027-4627-a53b-0f79f35bc47b",
   "metadata": {},
   "outputs": [],
   "source": []
  },
  {
   "cell_type": "markdown",
   "id": "c2179ecb-618d-4af6-8e0c-d54086cec3b3",
   "metadata": {},
   "source": [
    "### Vector\n",
    "\n",
    "Vector — это неизменяемая коллекция, оптимизированная для эффективного доступа к элементам по индексу и операций добавления. В отличие от списка, Vector реализует дерево с небольшой высотой, что делает доступ и обновление элементов эффективными."
   ]
  },
  {
   "cell_type": "code",
   "execution_count": 26,
   "id": "1ed2d07b-a774-470c-bbb3-84292d8adbb9",
   "metadata": {},
   "outputs": [
    {
     "data": {
      "text/plain": [
       "numVector = Vector(1, 2, 3, 4, 5, 6, 7, 8, 9)\n"
      ]
     },
     "metadata": {},
     "output_type": "display_data",
     "source": "user"
    },
    {
     "data": {
      "text/plain": [
       "Vector(1, 2, 3, 4, 5, 6, 7, 8, 9)"
      ]
     },
     "execution_count": 26,
     "metadata": {},
     "output_type": "execute_result"
    }
   ],
   "source": [
    "val numVector: Vector[Int] = Vector.range(1, 10)"
   ]
  },
  {
   "cell_type": "code",
   "execution_count": 28,
   "id": "78e31b1b-dda9-409f-8f39-9aca2a50c3f3",
   "metadata": {},
   "outputs": [
    {
     "data": {
      "text/plain": [
       "1"
      ]
     },
     "execution_count": 28,
     "metadata": {},
     "output_type": "execute_result"
    }
   ],
   "source": [
    "// Доступ по индексу\n",
    "numVector(0)"
   ]
  },
  {
   "cell_type": "code",
   "execution_count": 30,
   "id": "71f9bdb3-3fb5-4616-a0ae-d0bf5dd93a9f",
   "metadata": {},
   "outputs": [
    {
     "data": {
      "text/plain": [
       "Vector(1, 2, 3, 4, 5, 6, 7, 8, 9, 10)"
      ]
     },
     "execution_count": 30,
     "metadata": {},
     "output_type": "execute_result"
    }
   ],
   "source": [
    "// Добавление элемента в конец\n",
    "numVector :+ 10"
   ]
  },
  {
   "cell_type": "code",
   "execution_count": 31,
   "id": "d3ecdc67-4991-4627-8f99-4cf6636cbdaf",
   "metadata": {},
   "outputs": [
    {
     "data": {
      "text/plain": [
       "Vector(0, 2, 3, 4, 5, 6, 7, 8, 9)"
      ]
     },
     "execution_count": 31,
     "metadata": {},
     "output_type": "execute_result"
    }
   ],
   "source": [
    "// Обновление элемента\n",
    "numVector.updated(0, 0)"
   ]
  },
  {
   "cell_type": "markdown",
   "id": "16c7e6c7-ed0b-4bdf-86e4-ab539c5a12ca",
   "metadata": {},
   "source": [
    "#### задания\n",
    "Создайте неизменяемый список покупок со значениями Молоко, Хлеб и Яблоки, добавьте новый элемент в начало списка и выведите все элементы на экран."
   ]
  },
  {
   "cell_type": "code",
   "execution_count": 6,
   "id": "e7e40e53-0cb1-4824-8220-fb3fae04900b",
   "metadata": {},
   "outputs": [
    {
     "data": {
      "text/plain": [
       "shoppingList: ()Unit\n"
      ]
     },
     "metadata": {},
     "output_type": "display_data",
     "source": "user"
    },
    {
     "name": "stdout",
     "output_type": "stream",
     "text": [
      "Список покупок:\n",
      "List(Сыр, Молоко, Хлеб, Яблоки)\n"
     ]
    }
   ],
   "source": [
    "def shoppingList() = {\n",
    "  var shoppingList = List(\"Молоко\", \"Хлеб\", \"Яблоки\")\n",
    "\n",
    "  // Добавление Сыра в начало списока покупок\n",
    "    shoppingList = \"Сыр\"+: shoppingList\n",
    "\n",
    "  println(\"Список покупок:\")\n",
    "  println(shoppingList)\n",
    "}\n",
    "shoppingList"
   ]
  },
  {
   "cell_type": "markdown",
   "id": "297c9350-2f2b-4f6f-a0b2-a54e4b2b1df8",
   "metadata": {},
   "source": [
    "Создайте изменяемый массив с 5 элементами, от 1 до 5, измените значение одного из элементов и выведите все элементы на экран."
   ]
  },
  {
   "cell_type": "code",
   "execution_count": 7,
   "id": "52dd87d8-0552-4d7d-8da7-fbd084701b7e",
   "metadata": {},
   "outputs": [
    {
     "data": {
      "text/plain": [
       "arrayExample: ()Unit\n"
      ]
     },
     "metadata": {},
     "output_type": "display_data",
     "source": "user"
    },
    {
     "name": "stdout",
     "output_type": "stream",
     "text": [
      "Измененный массив:\n",
      "1\n",
      "2\n",
      "10\n",
      "4\n",
      "5\n"
     ]
    }
   ],
   "source": [
    "def arrayExample() = {\n",
    "  val numbers: Array[Int] = Array.range(1, 6)\n",
    "\n",
    "  // Изменение третьего элемента на 10\n",
    "  numbers(2) = 10\n",
    "\n",
    "  println(\"Измененный массив:\")\n",
    "  for (number <- numbers) {\n",
    "    println(number)\n",
    "  }\n",
    "}\n",
    "arrayExample"
   ]
  },
  {
   "cell_type": "markdown",
   "id": "af08af8a-990c-4a13-8b2a-7cb2c037476b",
   "metadata": {},
   "source": [
    "Создайте изменяемое множество с несколькими элементами, а именно с числами от 1 до 4, добавьте новый элемент и удалите один из существующих элементов. Выведите все элементы множества на экран."
   ]
  },
  {
   "cell_type": "code",
   "execution_count": 17,
   "id": "b905f4b9-bde6-4247-9c07-1b599af5bc8f",
   "metadata": {},
   "outputs": [
    {
     "data": {
      "text/plain": [
       "mutableSetExample: ()Unit\n"
      ]
     },
     "metadata": {},
     "output_type": "display_data",
     "source": "user"
    },
    {
     "name": "stdout",
     "output_type": "stream",
     "text": [
      "Измененное множество:\n",
      "Set(1, 5, 2, 4)\n"
     ]
    }
   ],
   "source": [
    "import scala.collection.mutable.Set\n",
    "\n",
    "def mutableSetExample() = { \n",
    "\n",
    "    val mutableSet = Set(1, 2, 3, 4) // Set.range(1, 5)\n",
    "\n",
    "  // Добавляет 5\n",
    "   mutableSet += 5\n",
    "\n",
    "  // Удаляет 3\n",
    "  mutableSet.remove(3) \n",
    "  \n",
    "  println(\"Измененное множество:\")\n",
    "  println(mutableSet)\n",
    "}\n",
    "mutableSetExample"
   ]
  },
  {
   "cell_type": "code",
   "execution_count": null,
   "id": "44b25738-7f30-4bee-a23f-9628dab0cd56",
   "metadata": {},
   "outputs": [],
   "source": []
  },
  {
   "cell_type": "code",
   "execution_count": null,
   "id": "5691cc80-a65f-41c8-9fc0-609529398e0d",
   "metadata": {},
   "outputs": [],
   "source": []
  }
 ],
 "metadata": {
  "kernelspec": {
   "display_name": "Apache Toree - Scala",
   "language": "scala",
   "name": "apache_toree_scala"
  },
  "language_info": {
   "codemirror_mode": "text/x-scala",
   "file_extension": ".scala",
   "mimetype": "text/x-scala",
   "name": "scala",
   "pygments_lexer": "scala",
   "version": "2.12.15"
  }
 },
 "nbformat": 4,
 "nbformat_minor": 5
}
