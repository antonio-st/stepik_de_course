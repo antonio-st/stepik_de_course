{
 "cells": [
  {
   "cell_type": "markdown",
   "id": "926e077b-0609-44f7-b54f-271a649dc214",
   "metadata": {},
   "source": [
    "__`If-Else If-Else`__"
   ]
  },
  {
   "cell_type": "code",
   "execution_count": 1,
   "id": "ce8f1310-7b6b-498f-9210-a3a1e8763a7a",
   "metadata": {},
   "outputs": [
    {
     "name": "stdout",
     "output_type": "stream",
     "text": [
      "z равно 0\n"
     ]
    },
    {
     "data": {
      "text/plain": [
       "z = 0\n"
      ]
     },
     "metadata": {},
     "output_type": "display_data",
     "source": "user"
    },
    {
     "data": {
      "text/plain": [
       "0"
      ]
     },
     "execution_count": 1,
     "metadata": {},
     "output_type": "execute_result"
    }
   ],
   "source": [
    "val z = 0\n",
    "if (z > 0) {\n",
    "  println(\"z положительно\")\n",
    "} else if (z < 0) {\n",
    "  println(\"z отрицательно\")\n",
    "} else {\n",
    "  println(\"z равно 0\")\n",
    "}"
   ]
  },
  {
   "cell_type": "code",
   "execution_count": 2,
   "id": "504acbfc-f3f2-4984-9dec-10a9e72cdd5f",
   "metadata": {},
   "outputs": [
    {
     "name": "stdout",
     "output_type": "stream",
     "text": [
      "доступ разрешен\n"
     ]
    },
    {
     "data": {
      "text/plain": [
       "age = 18\n",
       "access = доступ разрешен\n"
      ]
     },
     "metadata": {},
     "output_type": "display_data",
     "source": "user"
    },
    {
     "data": {
      "text/plain": [
       "доступ разрешен"
      ]
     },
     "execution_count": 2,
     "metadata": {},
     "output_type": "execute_result"
    }
   ],
   "source": [
    "// Хотя Scala не имеет стандартного тернарного оператора, как в Java или C++, вы можете использовать условный оператор if в выражении.\n",
    "\n",
    "val age = 18\n",
    "val access = if (age >= 18) \"доступ разрешен\" else \"доступ запрещен\"\n",
    "println(access)"
   ]
  },
  {
   "cell_type": "markdown",
   "id": "7068efd1-9eda-41e9-a347-c26f4bc6169f",
   "metadata": {},
   "source": [
    " __`Матчинг по шаблону (Pattern Matching)`__"
   ]
  },
  {
   "cell_type": "code",
   "execution_count": 3,
   "id": "5f81610c-2d4f-42b9-8d6e-96999029e91b",
   "metadata": {},
   "outputs": [
    {
     "name": "stdout",
     "output_type": "stream",
     "text": [
      "Три\n"
     ]
    },
    {
     "data": {
      "text/plain": [
       "number = 3\n",
       "numberDescription = Три\n"
      ]
     },
     "metadata": {},
     "output_type": "display_data",
     "source": "user"
    },
    {
     "data": {
      "text/plain": [
       "Три"
      ]
     },
     "execution_count": 3,
     "metadata": {},
     "output_type": "execute_result"
    }
   ],
   "source": [
    "val number = 3\n",
    "val numberDescription = number match {\n",
    "  case 1 => \"Один\"\n",
    "  case 2 => \"Два\"\n",
    "  case 3 => \"Три\"\n",
    "  case _ => \"Неизвестное число\"\n",
    "}\n",
    "println(numberDescription)"
   ]
  },
  {
   "cell_type": "code",
   "execution_count": 6,
   "id": "ab505451-d805-4f3a-93dc-9e0a6c3b7fc8",
   "metadata": {},
   "outputs": [
    {
     "name": "stdout",
     "output_type": "stream",
     "text": [
      "three\n"
     ]
    },
    {
     "data": {
      "text/plain": [
       "num1 = 3\n"
      ]
     },
     "metadata": {},
     "output_type": "display_data",
     "source": "user"
    },
    {
     "data": {
      "text/plain": [
       "3"
      ]
     },
     "execution_count": 6,
     "metadata": {},
     "output_type": "execute_result"
    }
   ],
   "source": [
    "// Сопоставление с Константами\n",
    "\n",
    "val num1 = 3\n",
    "\n",
    "num1 match {\n",
    "    case 1 => println(\"One\")\n",
    "    case 2 => println(\"two\")\n",
    "    case 3 => println(\"three\")\n",
    "    case _ => println(\"Other\")\n",
    "}"
   ]
  },
  {
   "cell_type": "code",
   "execution_count": 13,
   "id": "db8d9f59-7c55-4fb5-a514-d5890a9375fd",
   "metadata": {},
   "outputs": [
    {
     "data": {
      "text/plain": [
       "checkType: (value: Any)String\n"
      ]
     },
     "metadata": {},
     "output_type": "display_data",
     "source": "user"
    },
    {
     "data": {
      "text/plain": [
       "Double: 19.5"
      ]
     },
     "execution_count": 13,
     "metadata": {},
     "output_type": "execute_result"
    }
   ],
   "source": [
    "// Сопоставление с Типами\n",
    "\n",
    "def checkType(value: Any): String = {\n",
    "    value match {\n",
    "        case i: Int => s\"Integer: $i\"\n",
    "        case s: String => s\"String: $s\"\n",
    "        case d: Double => s\"Double: $d\"\n",
    "        case _ =>  \"Unknown type\"\n",
    "    }\n",
    "}\n",
    "checkType(\"Hello, Scala!\")\n",
    "checkType(19)\n",
    "checkType(19.5)"
   ]
  },
  {
   "cell_type": "code",
   "execution_count": 14,
   "id": "6a775522-0184-4c96-b526-b7b703a3221b",
   "metadata": {},
   "outputs": [
    {
     "name": "stdout",
     "output_type": "stream",
     "text": [
      "Head: 1, Tail: List(2, 3)\n"
     ]
    },
    {
     "data": {
      "text/plain": [
       "list = List(1, 2, 3)\n"
      ]
     },
     "metadata": {},
     "output_type": "display_data",
     "source": "user"
    },
    {
     "data": {
      "text/plain": [
       "List(1, 2, 3)"
      ]
     },
     "execution_count": 14,
     "metadata": {},
     "output_type": "execute_result"
    }
   ],
   "source": [
    "// Сопоставление со Списками\n",
    "// Pattern Matching можно использовать для работы со списками, включая сопоставление с пустыми и непустыми списками.\n",
    "\n",
    "val list = List(1, 2, 3)\n",
    "\n",
    "list match {\n",
    "  case Nil => println(\"Empty list\")\n",
    "  case head :: tail => println(s\"Head: $head, Tail: $tail\")\n",
    "  case _ => println(\"Other list\")\n",
    "}"
   ]
  },
  {
   "cell_type": "markdown",
   "id": "6500f054-2a76-4b3a-93f6-a9c4f008b6b9",
   "metadata": {},
   "source": [
    " __`Сопоставление с Параметрами`__\n",
    " <br>Можно использовать Pattern Matching для сопоставления с параметрами функций."
   ]
  },
  {
   "cell_type": "code",
   "execution_count": 4,
   "id": "7403b1ed-ae88-45cb-8b5b-60c5726fd7c5",
   "metadata": {},
   "outputs": [
    {
     "data": {
      "text/plain": [
       "describe: (x: Any)String\n"
      ]
     },
     "metadata": {},
     "output_type": "display_data",
     "source": "user"
    },
    {
     "data": {
      "text/plain": [
       "greeting"
      ]
     },
     "execution_count": 4,
     "metadata": {},
     "output_type": "execute_result"
    }
   ],
   "source": [
    "def describe(x: Any): String = x match {\n",
    "    case 5 => \"five\"\n",
    "    case true => \"truth\"\n",
    "    case \"hello\" => \"greeting\"\n",
    "    case Nil => \"empty list\"\n",
    "    case _ => \"something else\"\n",
    "}\n",
    "describe(true)\n",
    "describe(\"hello\")"
   ]
  },
  {
   "cell_type": "markdown",
   "id": "e62194fe-89d3-405a-a16f-9b5abc72c77f",
   "metadata": {},
   "source": [
    "Напишите программу, которая принимает целое число и выводит на экран информацию, четное это число или нечетное в следующем виде:\n",
    "\n",
    "Число <введенное число> является <четным/нечетным>"
   ]
  },
  {
   "cell_type": "markdown",
   "id": "fc45be72-7166-4f0e-85fe-4980a356607b",
   "metadata": {},
   "source": [
    "__`Цикл while`__\n",
    "<br>Цикл while выполняет блок кода, пока условие истинно. Условие проверяется перед каждой итерацией, что делает цикл предварительной проверкой."
   ]
  },
  {
   "cell_type": "code",
   "execution_count": 6,
   "id": "aae6d13e-14ea-4001-999a-e3accd8e9db8",
   "metadata": {},
   "outputs": [
    {
     "data": {
      "text/plain": [
       "i = 5\n"
      ]
     },
     "metadata": {},
     "output_type": "display_data",
     "source": "user"
    },
    {
     "name": "stdout",
     "output_type": "stream",
     "text": [
      "i = 0\n",
      "i = 1\n",
      "i = 2\n",
      "i = 3\n",
      "i = 4\n"
     ]
    },
    {
     "data": {
      "text/plain": [
       "5"
      ]
     },
     "execution_count": 6,
     "metadata": {},
     "output_type": "execute_result"
    }
   ],
   "source": [
    "var i = 0\n",
    "while (i < 5) {\n",
    "    println(s\"i = $i\")\n",
    "    i += 1\n",
    "}"
   ]
  },
  {
   "cell_type": "markdown",
   "id": "c4663adf-fe1d-428b-93f0-c9aff1d5e5ab",
   "metadata": {},
   "source": [
    "__`Цикл do-while`__\n",
    "<br>Цикл do-while сначала выполняет блок кода, а затем проверяет условие. Это означает, что блок кода выполнится хотя бы один раз, даже если условие ложно с самого начала."
   ]
  },
  {
   "cell_type": "code",
   "execution_count": 7,
   "id": "bebc0c66-dca1-4252-bdc5-9d22eaf3ccbc",
   "metadata": {},
   "outputs": [
    {
     "name": "stdout",
     "output_type": "stream",
     "text": [
      "j = 0\n",
      "j = 1\n",
      "j = 2\n",
      "j = 3\n",
      "j = 4\n"
     ]
    },
    {
     "data": {
      "text/plain": [
       "j = 5\n"
      ]
     },
     "metadata": {},
     "output_type": "display_data",
     "source": "user"
    },
    {
     "data": {
      "text/plain": [
       "5"
      ]
     },
     "execution_count": 7,
     "metadata": {},
     "output_type": "execute_result"
    }
   ],
   "source": [
    "var j = 0\n",
    "do {\n",
    "    println(s\"j = $j\")\n",
    "    j += 1\n",
    "} while(j < 5)"
   ]
  },
  {
   "cell_type": "code",
   "execution_count": 8,
   "id": "cd856e3c-ad7c-4393-aaba-48e52f0c09b8",
   "metadata": {},
   "outputs": [
    {
     "data": {
      "text/plain": [
       "j = 1\n"
      ]
     },
     "metadata": {},
     "output_type": "display_data",
     "source": "user"
    },
    {
     "name": "stdout",
     "output_type": "stream",
     "text": [
      "j = 0\n"
     ]
    },
    {
     "data": {
      "text/plain": [
       "1"
      ]
     },
     "execution_count": 8,
     "metadata": {},
     "output_type": "execute_result"
    }
   ],
   "source": [
    "var j = 0\n",
    "do {\n",
    "    println(s\"j = $j\")\n",
    "    j += 1\n",
    "} while(j < 0)"
   ]
  },
  {
   "cell_type": "markdown",
   "id": "d510b74a-d1a4-4394-9c17-ba209208a772",
   "metadata": {},
   "source": [
    "__`Циклы for`__\n",
    "\n",
    "Цикл for в Scala очень гибок и используется для итерации по коллекциям, диапазонам, и создания новых коллекций с помощью генераторов."
   ]
  },
  {
   "cell_type": "code",
   "execution_count": 9,
   "id": "a5ffc520-d777-4281-a016-f4cc2adccc08",
   "metadata": {},
   "outputs": [
    {
     "name": "stdout",
     "output_type": "stream",
     "text": [
      "2\n",
      "4\n",
      "6\n",
      "8\n"
     ]
    }
   ],
   "source": [
    "for (i <- 1 until 5) {\n",
    "    println(i * 2)\n",
    "}"
   ]
  },
  {
   "cell_type": "code",
   "execution_count": 27,
   "id": "e745d9ec-3e63-4260-92f4-45b508419d07",
   "metadata": {},
   "outputs": [
    {
     "data": {
      "text/plain": [
       "mylist = List(apple, potato, qiwi)\n",
       "pref = List(\"fruit \")\n"
      ]
     },
     "metadata": {},
     "output_type": "display_data",
     "source": "user"
    },
    {
     "data": {
      "text/plain": [
       "List(fruit apple, fruit potato, fruit qiwi)"
      ]
     },
     "execution_count": 27,
     "metadata": {},
     "output_type": "execute_result"
    }
   ],
   "source": [
    "// for comprehantion\n",
    "val mylist: List[String] = List(\"apple\", \"potato\", \"qiwi\")\n",
    "val pref: List[String] = List(\"fruit \")\n",
    "for {i <- pref\n",
    "    j <- mylist\n",
    "} yield i + j"
   ]
  },
  {
   "cell_type": "markdown",
   "id": "f118600f-7805-4c77-bb3b-bcc07610dd47",
   "metadata": {},
   "source": [
    "`Примеры`"
   ]
  },
  {
   "cell_type": "code",
   "execution_count": 31,
   "id": "92f6f8c6-bd0d-47c1-abfb-d504b074ab20",
   "metadata": {},
   "outputs": [
    {
     "data": {
      "text/plain": [
       "calculator: (a: Double, b: Double, op: String)Double\n"
      ]
     },
     "metadata": {},
     "output_type": "display_data",
     "source": "user"
    },
    {
     "data": {
      "text/plain": [
       "600.0"
      ]
     },
     "execution_count": 31,
     "metadata": {},
     "output_type": "execute_result"
    }
   ],
   "source": [
    "def calculator(a: Double, b: Double, op: String): Double = {\n",
    "  if (op == \"+\") {\n",
    "    a + b\n",
    "  } else if (op == \"-\") {\n",
    "    a - b\n",
    "  } else if (op == \"*\") {\n",
    "    a * b\n",
    "  } else if (op == \"/\") {\n",
    "    if (b != 0) a / b else Double.NaN\n",
    "  } else {\n",
    "    println(s\"Unsupported operation: $op\")\n",
    "    Double.NaN\n",
    "  }\n",
    "}\n",
    "calculator(20, 30, \"*\")"
   ]
  },
  {
   "cell_type": "code",
   "execution_count": 32,
   "id": "50179c08-aa4c-44a4-a6e5-d0d0747291ff",
   "metadata": {},
   "outputs": [
    {
     "data": {
      "text/plain": [
       "season: (month: Int)String\n"
      ]
     },
     "metadata": {},
     "output_type": "display_data",
     "source": "user"
    },
    {
     "data": {
      "text/plain": [
       "Spring"
      ]
     },
     "execution_count": 32,
     "metadata": {},
     "output_type": "execute_result"
    }
   ],
   "source": [
    "// Определение Времени Года\n",
    "\n",
    "def season(month: Int): String = {\n",
    "  if (month == 12 || month == 1 || month == 2) {\n",
    "    \"Winter\"\n",
    "  } else if (month >= 3 && month <= 5) {\n",
    "    \"Spring\"\n",
    "  } else if (month >= 6 && month <= 8) {\n",
    "    \"Summer\"\n",
    "  } else if (month >= 9 && month <= 11) {\n",
    "    \"Automn\"\n",
    "  } else {\n",
    "    \"Invalid month\"\n",
    "  }\n",
    "}\n",
    "season(4)"
   ]
  },
  {
   "cell_type": "code",
   "execution_count": null,
   "id": "35aa94fd-bc38-4920-9c2b-625113362e2a",
   "metadata": {},
   "outputs": [],
   "source": [
    "// Работа с пользовательским вводом\n",
    "\n",
    "import scala.io.StdIn.readLine\n",
    "\n",
    "var input = \"\"\n",
    "while (input != \"exit\") {\n",
    "  input = readLine(\"Enter command: \")\n",
    "  input match {\n",
    "    case \"hello\" => println(\"Hi there!\")\n",
    "    case \"bye\" => println(\"Goodbye!\")\n",
    "    case \"exit\" => println(\"Exiting...\")\n",
    "    case _ => println(s\"Unknown command: $input\")\n",
    "  }\n",
    "}\n"
   ]
  },
  {
   "cell_type": "code",
   "execution_count": null,
   "id": "7db450bc-b2a0-4f6f-aedc-81de7879b261",
   "metadata": {},
   "outputs": [],
   "source": []
  },
  {
   "cell_type": "code",
   "execution_count": 15,
   "id": "0bf620e0-f3d8-4c69-a149-019b138896f1",
   "metadata": {},
   "outputs": [
    {
     "data": {
      "text/plain": [
       "checkEvenOdd: (number: Int)Unit\n"
      ]
     },
     "metadata": {},
     "output_type": "display_data",
     "source": "user"
    },
    {
     "name": "stdout",
     "output_type": "stream",
     "text": [
      "Число 28 является четным\n",
      "Число 19 является нечетным\n"
     ]
    }
   ],
   "source": [
    "def checkEvenOdd(number: Int) = {\n",
    "\n",
    "  //Получение целого числа от пользователя\n",
    "  // val number = scala.io.StdIn.readInt()\n",
    "\n",
    "  //Проверка на четность\n",
    "    \n",
    "    if (number % 2 == 0){\n",
    "    println(s\"Число $number является четным\")\n",
    "    }else {\n",
    "    println(s\"Число $number является нечетным\")\n",
    "    }\n",
    "\n",
    "}\n",
    "checkEvenOdd(28)\n",
    "checkEvenOdd(19)"
   ]
  },
  {
   "cell_type": "markdown",
   "id": "03a505f9-a408-473e-b9d0-f73944d7824a",
   "metadata": {},
   "source": [
    "Напишите программу, которая принимает три целых числа и определяет, какое из них наибольшее. После чего выводит на экран максимальное число.\n",
    "\n",
    "В ходе решения необходимо использовать двойные логические условия (блок условных операторов объединенных с помощью && или ||)."
   ]
  },
  {
   "cell_type": "code",
   "execution_count": 13,
   "id": "73a1bf55-fccb-47e2-88c8-2a4650b1da9f",
   "metadata": {},
   "outputs": [
    {
     "data": {
      "text/plain": [
       "maxOfThree: (num1: Int, num2: Int, num3: Int)Unit\n"
      ]
     },
     "metadata": {},
     "output_type": "display_data",
     "source": "user"
    },
    {
     "name": "stdout",
     "output_type": "stream",
     "text": [
      "40\n"
     ]
    }
   ],
   "source": [
    "import scala.io.StdIn._\n",
    "\n",
    "def maxOfThree(num1: Int, num2: Int, num3: Int) = {\n",
    "  //Получение целых числел от пользователя\n",
    "  // val num1 = readInt()\n",
    "  // val num2 = readInt()\n",
    "  // val num3 = readInt()\n",
    "\n",
    "  //Выявление максимального числа\n",
    "    if ((num1 > num2) && num1 > num3) {\n",
    "        println(num1)\n",
    "    } else if ((num2 > num1) && num2 > num3) { \n",
    "        println(num2)\n",
    "    } else {\n",
    "        println(num3)\n",
    "    }\n",
    "\n",
    "}\n",
    "maxOfThree(10, 8, 40)"
   ]
  },
  {
   "cell_type": "markdown",
   "id": "ef1ad3f9-a8a9-4c14-8e15-30c44eb2cd4b",
   "metadata": {},
   "source": [
    "На вход программы подаётся два числа n и step.\n",
    "\n",
    "Напишите программу, которая выводит все числа от 1 до n, включительно, с шагом step использованием цикла for."
   ]
  },
  {
   "cell_type": "code",
   "execution_count": 10,
   "id": "95fa416c-d871-47c9-8ece-45136b09554c",
   "metadata": {},
   "outputs": [
    {
     "data": {
      "text/plain": [
       "printNumbersFor: (n: Int, step: Int)Unit\n"
      ]
     },
     "metadata": {},
     "output_type": "display_data",
     "source": "user"
    },
    {
     "name": "stdout",
     "output_type": "stream",
     "text": [
      "1\n",
      "2\n",
      "3\n",
      "4\n",
      "5\n"
     ]
    }
   ],
   "source": [
    "import scala.io.StdIn._\n",
    "\n",
    "def printNumbersFor(n: Int, step: Int) = {\n",
    "    \n",
    "  //Получение значений от пользователя\n",
    "    \n",
    "  // val n = readInt()\n",
    "  // val step = readInt()\n",
    "\n",
    "  //Основной цикл вывода\n",
    "\n",
    "    for (i <- Range(1, n + 1 , step)) {\n",
    "        println(i)\n",
    "    }\n",
    "}\n",
    "printNumbersFor(5, 1)"
   ]
  },
  {
   "cell_type": "code",
   "execution_count": null,
   "id": "338c612d-fb61-4f9d-bed1-b545c87a3bcf",
   "metadata": {},
   "outputs": [],
   "source": [
    "\n",
    "\n"
   ]
  },
  {
   "cell_type": "code",
   "execution_count": 19,
   "id": "1bc6bff4-c8ea-48bf-8152-2329877cfa0d",
   "metadata": {},
   "outputs": [
    {
     "data": {
      "text/plain": [
       "fact: (number: Int)Unit\n"
      ]
     },
     "metadata": {},
     "output_type": "display_data",
     "source": "user"
    },
    {
     "name": "stdout",
     "output_type": "stream",
     "text": [
      "The factorial of 12 is: 479001600\n"
     ]
    }
   ],
   "source": [
    "  def fact(number: Int) = {\n",
    "    var factorial: Long = 1 // Инициализация переменной факториала как 1\n",
    "    var i: Int = number // для удобства объявим переменную цикла равную полученному числу от пользователя\n",
    "    while (i > 0) {\n",
    "      factorial *= i\n",
    "      i -= 1\n",
    "    }\n",
    "    println(s\"The factorial of $number is: $factorial\")\n",
    "  }\n",
    "\n",
    "fact(12)"
   ]
  }
 ],
 "metadata": {
  "kernelspec": {
   "display_name": "Apache Toree - Scala",
   "language": "scala",
   "name": "apache_toree_scala"
  },
  "language_info": {
   "codemirror_mode": "text/x-scala",
   "file_extension": ".scala",
   "mimetype": "text/x-scala",
   "name": "scala",
   "pygments_lexer": "scala",
   "version": "2.12.15"
  }
 },
 "nbformat": 4,
 "nbformat_minor": 5
}
