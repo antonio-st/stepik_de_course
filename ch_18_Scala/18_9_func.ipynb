{
 "cells": [
  {
   "cell_type": "markdown",
   "id": "0ed5ffa5-59b5-458b-9626-6dcb7ae9f684",
   "metadata": {},
   "source": [
    "Типы Функций\n",
    "\n",
    "- Методы (Methods): Функции, которые являются частью класса или объекта.\n",
    "- Функции (Functions): Литералы функций, которые могут быть присвоены переменной или переданы в качестве аргумента. Здесь важно соблюсти правило \"хорошего тона\" - в рамках класса функции - это методы, но вне рамок ООП все функции - функции :)\n",
    "- Анонимные функции (Anonymous Functions) или Лямбды (Lambdas): Функции, которые не имеют имени.\n",
    "- Высшего порядка функции (Higher-order Functions): Функции, которые принимают другие функции в качестве параметров или возвращают функции.\n",
    "- Каррированные функции (Curried Functions): Функции, которые принимают несколько аргументов по одному за раз.\n"
   ]
  },
  {
   "cell_type": "code",
   "execution_count": 4,
   "id": "61b83129-8189-48fb-956c-91f8fc7d18a6",
   "metadata": {},
   "outputs": [
    {
     "data": {
      "text/plain": [
       "greet: (name: String)String\n"
      ]
     },
     "metadata": {},
     "output_type": "display_data",
     "source": "user"
    },
    {
     "name": "stdout",
     "output_type": "stream",
     "text": [
      "Hello, Guest!\n",
      "Hello, Scala!\n"
     ]
    }
   ],
   "source": [
    "// функция с параметром по умолчанию\n",
    "def greet(name: String = \"Guest\") = {\n",
    "    s\"Hello, $name!\"\n",
    "}\n",
    "println(greet())\n",
    "println(greet(\"Scala\"))"
   ]
  },
  {
   "cell_type": "code",
   "execution_count": 6,
   "id": "73ec0f95-e4f1-4b0c-8bfb-3060a763aa7e",
   "metadata": {},
   "outputs": [
    {
     "name": "stdout",
     "output_type": "stream",
     "text": [
      "Number: 1\n",
      "Number: 2\n",
      "Number: 3\n",
      "Number: 4\n",
      "Number: 5\n"
     ]
    },
    {
     "data": {
      "text/plain": [
       "numbers = List(1, 2, 3, 4, 5)\n"
      ]
     },
     "metadata": {},
     "output_type": "display_data",
     "source": "user"
    },
    {
     "data": {
      "text/plain": [
       "List(1, 2, 3, 4, 5)"
      ]
     },
     "execution_count": 6,
     "metadata": {},
     "output_type": "execute_result"
    }
   ],
   "source": [
    "// Функция foreach применяется ко всем элементам коллекции, выполняя заданное действие для каждого элемента. Она не изменяет саму коллекцию и не создает новую. \n",
    "// Чаще всего используется для выполнения побочных эффектов, таких как печать на экран.\n",
    "\n",
    "val numbers = List(1, 2, 3, 4, 5)\n",
    "\n",
    "numbers.foreach {\n",
    "    num => println(s\"Number: $num\")\n",
    "}"
   ]
  },
  {
   "cell_type": "code",
   "execution_count": 17,
   "id": "eef1b0e0-8df9-4237-b56c-fbf9fc8d2424",
   "metadata": {},
   "outputs": [
    {
     "data": {
      "text/plain": [
       "num1 = List(1, 2, 3, 4)\n"
      ]
     },
     "metadata": {},
     "output_type": "display_data",
     "source": "user"
    },
    {
     "data": {
      "text/plain": [
       "List(2, 4, 6, 8)"
      ]
     },
     "execution_count": 17,
     "metadata": {},
     "output_type": "execute_result"
    }
   ],
   "source": [
    "val num1 = List.range(1, 5)\n",
    "\n",
    "num1.map(x => x * 2 )"
   ]
  },
  {
   "cell_type": "code",
   "execution_count": 1,
   "id": "f3c98ed8-5502-4dea-aefb-4e9b6b41824e",
   "metadata": {},
   "outputs": [
    {
     "data": {
      "text/plain": [
       "numbers = List(1, 2, 3, 4, 5)\n"
      ]
     },
     "metadata": {},
     "output_type": "display_data",
     "source": "user"
    },
    {
     "data": {
      "text/plain": [
       "15"
      ]
     },
     "execution_count": 1,
     "metadata": {},
     "output_type": "execute_result"
    }
   ],
   "source": [
    "// Функция reduce последовательно применяет бинарную операцию ко всем элементам коллекции, сворачивая их в одно значение. \n",
    "// Эта функция требует, чтобы коллекция была непустой.\n",
    "// В этом примере функция reduce складывает все элементы списка numbers, начиная с первого элемента и переходя к последнему. \n",
    "// Результат — сумма всех элементов: 15.\n",
    "val numbers = List(1, 2, 3, 4, 5)\n",
    "\n",
    "numbers.reduce((i, j) => i + j)"
   ]
  },
  {
   "cell_type": "code",
   "execution_count": 5,
   "id": "138c380b-503a-4d7f-9ead-f1e2acd79004",
   "metadata": {},
   "outputs": [
    {
     "data": {
      "text/plain": [
       "sentence = List(Scala is great, Functional programming is powerful)\n"
      ]
     },
     "metadata": {},
     "output_type": "display_data",
     "source": "user"
    },
    {
     "data": {
      "text/plain": [
       "List(Scala, is, great, Functional, programming, is, powerful)"
      ]
     },
     "execution_count": 5,
     "metadata": {},
     "output_type": "execute_result"
    }
   ],
   "source": [
    "/*\n",
    "Функция flatMap сначала применяет функцию к каждому элементу коллекции, где результатом является коллекция, \n",
    "а затем объединяет все возвращаемые коллекции в одну плоскую коллекцию.\n",
    "\n",
    "В этом примере функция flatMap применяется ко всем строкам в списке sentences. Каждая строка разделяется на отдельные слова с помощью метода split, \n",
    "а затем результат всех этих операций объединяется в один список слов\n",
    "*/\n",
    "\n",
    "val sentence = List(\"Scala is great\", \"Functional programming is powerful\")\n",
    "sentence.flatMap(sentence => sentence.split(\" \"))\n"
   ]
  },
  {
   "cell_type": "markdown",
   "id": "b01b9f4b-4caf-43ea-aa66-f274f2d8da90",
   "metadata": {},
   "source": [
    "`Задания`"
   ]
  },
  {
   "cell_type": "markdown",
   "id": "4db9c50c-fab1-4998-8a5c-6264072a2bb3",
   "metadata": {},
   "source": [
    "Напишите рекурсивную функцию, которая вычисляет факториал заданного числа.\n",
    "\n",
    "Факториал числа n (обозначается n!) — это произведение всех положительных целых чисел от 1 до n."
   ]
  },
  {
   "cell_type": "code",
   "execution_count": 7,
   "id": "4fda2467-32ae-40ee-b566-68fee4237944",
   "metadata": {},
   "outputs": [
    {
     "name": "stdout",
     "output_type": "stream",
     "text": [
      " Имеем число 8, для которого вычисляем факториал 7\n",
      " Имеем число 7, для которого вычисляем факториал 6\n",
      " Имеем число 6, для которого вычисляем факториал 5\n",
      " Имеем число 5, для которого вычисляем факториал 4\n",
      " Имеем число 4, для которого вычисляем факториал 3\n",
      " Имеем число 3, для которого вычисляем факториал 2\n",
      " Имеем число 2, для которого вычисляем факториал 1\n",
      " Имеем число 1, для которого вычисляем факториал 0\n",
      "Вычислили факториал: 1\n",
      "Вычислили факториал: 2\n",
      "Вычислили факториал: 3\n",
      "Вычислили факториал: 4\n",
      "Вычислили факториал: 5\n",
      "Вычислили факториал: 6\n",
      "Вычислили факториал: 7\n",
      "Вычислили факториал: 8\n"
     ]
    },
    {
     "data": {
      "text/plain": [
       "factorial: (n: Int)Int\n"
      ]
     },
     "metadata": {},
     "output_type": "display_data",
     "source": "user"
    },
    {
     "data": {
      "text/plain": [
       "40320"
      ]
     },
     "execution_count": 7,
     "metadata": {},
     "output_type": "execute_result"
    }
   ],
   "source": [
    "def factorial(n: Int): Int = {\n",
    "    if (n <= 0) 1\n",
    "    else {\n",
    "        println(s\" Имеем число $n, для которого вычисляем факториал ${n - 1}\")\n",
    "        var res = n * factorial(n - 1)\n",
    "        println(s\"Вычислили факториал: ${n}\")\n",
    "        res\n",
    "    }\n",
    "}\n",
    "factorial(8)"
   ]
  },
  {
   "cell_type": "markdown",
   "id": "5c7807ed-5fa7-4269-82de-d1a9ce88e021",
   "metadata": {},
   "source": [
    "Напишите функцию, которая проверяет, является ли заданное число простым.\n",
    "\n",
    "Простое число — это число, большее 1, делящееся только на 1 и само на себя."
   ]
  },
  {
   "cell_type": "code",
   "execution_count": null,
   "id": "37befd59-b6bf-4422-8c6d-c7cbfdf5e74c",
   "metadata": {},
   "outputs": [],
   "source": [
    "  def isPrime(n: Int): Boolean = {\n",
    "    //Проверка на простоту числа\n",
    "    if ()\n",
    "\n",
    "  }"
   ]
  },
  {
   "cell_type": "code",
   "execution_count": 11,
   "id": "1ab4de95-9f41-454c-8ff1-f0669be2f0fd",
   "metadata": {},
   "outputs": [
    {
     "data": {
      "text/plain": [
       "isPrime: (number: Int)Boolean\n"
      ]
     },
     "metadata": {},
     "output_type": "display_data",
     "source": "user"
    },
    {
     "data": {
      "text/plain": [
       "false"
      ]
     },
     "execution_count": 11,
     "metadata": {},
     "output_type": "execute_result"
    }
   ],
   "source": [
    "def isPrime(number: Int): Boolean =\n",
    "  if (number < 4) number > 1\n",
    "  else if (number % 2 == 0 || number % 3 == 0) false\n",
    "  else (5 to math.sqrt(number).toInt by 6).forall(i => number % i != 0 && number % (i + 2) != 0)\n",
    "isPrime(8)"
   ]
  },
  {
   "cell_type": "code",
   "execution_count": 13,
   "id": "943aa204-554a-480a-93c1-b671d6f1ebed",
   "metadata": {},
   "outputs": [
    {
     "data": {
      "text/plain": [
       "isPrime2: (n: Int)Boolean\n"
      ]
     },
     "metadata": {},
     "output_type": "display_data",
     "source": "user"
    },
    {
     "data": {
      "text/plain": [
       "true"
      ]
     },
     "execution_count": 13,
     "metadata": {},
     "output_type": "execute_result"
    }
   ],
   "source": [
    "// попроще\n",
    "def isPrime2(n: Int): Boolean = {\n",
    "    var flag = true\n",
    "    for (i <- 2 until n) {\n",
    "      if (n % i == 0) {\n",
    "        flag = false\n",
    "      }\n",
    "    }\n",
    "    flag\n",
    "  }\n",
    "isPrime2(7)"
   ]
  },
  {
   "cell_type": "markdown",
   "id": "9bb47702-b07b-4cae-beb4-518e1cec6230",
   "metadata": {},
   "source": [
    "Напишите функцию, которая принимает список целых чисел и возвращает их сумму."
   ]
  },
  {
   "cell_type": "code",
   "execution_count": 22,
   "id": "12c14194-52aa-46f2-8911-040631b93ba8",
   "metadata": {},
   "outputs": [
    {
     "data": {
      "text/plain": [
       "list1 = List(1, 2, 3, 4, 5)\n"
      ]
     },
     "metadata": {},
     "output_type": "display_data",
     "source": "user"
    },
    {
     "data": {
      "text/plain": [
       "sumList: (numbers: List[Int])Int\n"
      ]
     },
     "metadata": {},
     "output_type": "display_data",
     "source": "user"
    },
    {
     "data": {
      "text/plain": [
       "15"
      ]
     },
     "execution_count": 22,
     "metadata": {},
     "output_type": "execute_result"
    }
   ],
   "source": [
    "  def sumList(numbers: List[Int]): Int = {\n",
    "    //Вычисление суммы списка\n",
    "    if (numbers.length == 0) 0\n",
    "    else {\n",
    "        numbers.reduce((i, j) => i + j)\n",
    "    }\n",
    "  }\n",
    "val list1 = List(1, 2, 3, 4, 5)\n",
    "sumList(list1)"
   ]
  },
  {
   "cell_type": "code",
   "execution_count": 20,
   "id": "1cdcc2d9-f715-4849-8fa8-613e45917358",
   "metadata": {},
   "outputs": [
    {
     "data": {
      "text/plain": [
       "list2 = List()\n"
      ]
     },
     "metadata": {},
     "output_type": "display_data",
     "source": "user"
    },
    {
     "data": {
      "text/plain": [
       "0"
      ]
     },
     "execution_count": 20,
     "metadata": {},
     "output_type": "execute_result"
    }
   ],
   "source": [
    "val list2 = List()\n",
    "list2.length"
   ]
  }
 ],
 "metadata": {
  "kernelspec": {
   "display_name": "Apache Toree - Scala",
   "language": "scala",
   "name": "apache_toree_scala"
  },
  "language_info": {
   "codemirror_mode": "text/x-scala",
   "file_extension": ".scala",
   "mimetype": "text/x-scala",
   "name": "scala",
   "pygments_lexer": "scala",
   "version": "2.12.15"
  }
 },
 "nbformat": 4,
 "nbformat_minor": 5
}
